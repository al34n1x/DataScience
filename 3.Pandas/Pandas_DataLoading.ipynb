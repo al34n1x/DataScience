{
  "nbformat": 4,
  "nbformat_minor": 0,
  "metadata": {
    "colab": {
      "provenance": [],
      "include_colab_link": true
    },
    "kernelspec": {
      "name": "python3",
      "display_name": "Python 3"
    }
  },
  "cells": [
    {
      "cell_type": "markdown",
      "metadata": {
        "id": "view-in-github",
        "colab_type": "text"
      },
      "source": [
        "<a href=\"https://colab.research.google.com/github/al34n1x/DataScience/blob/master/3.Pandas/Pandas_DataLoading.ipynb\" target=\"_parent\"><img src=\"https://colab.research.google.com/assets/colab-badge.svg\" alt=\"Open In Colab\"/></a>"
      ]
    },
    {
      "cell_type": "markdown",
      "metadata": {
        "id": "Q7PfTJRnkzq1",
        "colab_type": "toc"
      },
      "source": [
        ">[Carga de datos en Panda](#scrollTo=nelHfwuqPmDH)\n",
        "\n",
        ">[Leer y escribir datos en formato de texto](#scrollTo=BWuTIsOpoywz)\n",
        "\n",
        ">>[Funciones](#scrollTo=vcc8_MSHtmtm)\n",
        "\n",
        ">>[Trabajando con valores faltantes](#scrollTo=NseoQfuAPzpQ)\n",
        "\n",
        ">>[Leer archivos de texto en partes](#scrollTo=lELr76GBRh1n)\n",
        "\n",
        ">>[Escribiendo Datos en formato texto](#scrollTo=r31ppoPyT6vS)\n",
        "\n",
        ">>[Formato CSV](#scrollTo=cRWqIex1hjLb)\n",
        "\n",
        ">>[JSON Data](#scrollTo=Fumt3vFx_CnF)\n",
        "\n",
        ">>[XML y HTML Web Scrapping](#scrollTo=RAFNinVHUZVx)\n",
        "\n",
        ">>[Formato HDF5](#scrollTo=The4cD8zbg4-)\n",
        "\n",
        ">>[Lectura desde archivos Microsoft Excel](#scrollTo=OOyHUIhxddJW)\n",
        "\n",
        ">>[Interactuando con APIs](#scrollTo=fTfC_zNBgRGY)\n",
        "\n",
        ">>[Interactuando con Base de Datos](#scrollTo=PdIyYXWNhY18)\n",
        "\n"
      ]
    },
    {
      "cell_type": "markdown",
      "metadata": {
        "id": "nelHfwuqPmDH"
      },
      "source": [
        "# Carga de datos en Pandas\n",
        "\n",
        "Como hemos discutdo, acceder a los datos es un importantísimo primer paso proceder con su análisis. \n",
        "La entrada y salida de de datos generalmente se pueden dividir en las siguientes categorías, leer archivos de texto u otro formato (csv, tabulado, etc)cargar datos desde una base de datos, e interactuar con recursos de red como puede ser una página web o una interface API.\n",
        "\n",
        "\n"
      ]
    },
    {
      "cell_type": "markdown",
      "metadata": {
        "id": "BWuTIsOpoywz"
      },
      "source": [
        "# Leer y escribir datos en formato de texto\n",
        "\n",
        "Pandas posee muchas herramientas para leer archivos tabulados e insertarlos en un objeto dataframe. \n",
        "Algunas de las funciones con las que trabajarás son **read_csv** y **read_table** \n",
        "\n"
      ]
    },
    {
      "cell_type": "markdown",
      "metadata": {
        "id": "vcc8_MSHtmtm"
      },
      "source": [
        "## Funciones \n",
        "\n",
        "Aquí algunas funciones ampliamente utilizadas for Pandas que serán de utilidad para el desarrollo de las actividades.\n",
        "\n",
        "\n",
        "\n",
        "\n",
        "Función | Descripción\n",
        "--- | ---\n",
        "**read_csv** | Cargue datos delimitados de un archivo, URL u objeto similar a un archivo; usar coma como delimitador predeterminado\n",
        "**read_table** | Cargue datos delimitados de un archivo, URL u objeto similar a un archivo; use tab ('\\ t') como delimitador predeterminado\n",
        "**read_fwf** | \tLeer datos en formato de columna de ancho fijo, (es decir, sin delimitadores\n",
        "**read_clipboard** | Versión de read_table que lee datos del portapapeles; útil para convertir tablas de páginas web\n",
        "**read_excel** | Leer datos tabulares de un archivo Excel XLS o XLSX\n",
        "**read_hdf** | Leer archivos HDF5 escritos por pandas\n",
        "**read_html**| Leer todas las tablas encontradas en un documento HTML dado\n",
        "**read_json**\t| Leer datos de una representación de cadena JSON (JavaScript Object Notation)\n",
        "**read_msgpack**|Leer datos de pandas codificados con el formato binario MessagePack\n",
        "**read_pickle**|Leer un objeto arbitrario almacenado en formato Python pickle\n",
        "**read_sas**|Leer un conjunto de datos almacenado en uno de los formatos de almacenamiento personalizados del sistema SAS\n",
        "**read_sql**|Lea los resultados de una consulta SQL (usando SQLAlchemy) como un DataFrame de pandas\n",
        "**read_stata**|Leer un conjunto de datos del formato de archivo Stata\n",
        "**read_feather**|Lea el formato de archivo binario Feather\n",
        "\n",
        "\n",
        "\n"
      ]
    },
    {
      "cell_type": "markdown",
      "metadata": {
        "id": "l8haeDTSxNWp"
      },
      "source": [
        "Los argumentos opcionales para estas funciones pueden caer en alguna de estás categorías:\n",
        "\n",
        "**Indexación**\n",
        "Puede tratar una o más columnas como el DataFrame devuelto, y si desea obtener nombres de columna del archivo, el usuario, o no obtenerlos.\n",
        "\n",
        "**Inferencia de tipos y conversión de datos**\n",
        "Esto incluye las conversiones de valores definidos por el usuario y la lista personalizada de marcadores de valores faltantes.\n",
        "\n",
        "**Análisis de fecha y hora**\n",
        "Incluye la capacidad de combinación, incluida la combinación de información de fecha y hora distribuida en varias columnas en una sola columna en el resultado.\n",
        "\n",
        "**Iterando**\n",
        "Soporte para iterar sobre fragmentos de archivos muy grandes.\n",
        "\n",
        "**Problemas de datos sucios/ruido**\n",
        "Saltar filas o un pie de página, comentarios u otras cosas menores como datos numéricos con miles separados por comas."
      ]
    },
    {
      "cell_type": "code",
      "metadata": {
        "id": "L_fK_SIpPZa1",
        "colab": {
          "base_uri": "https://localhost:8080/",
          "height": 487
        },
        "outputId": "2127fcac-fd57-4400-865c-645b73793192"
      },
      "source": [
        "import pandas as pd\n",
        "import os\n",
        "file = os.path.join('./sample_data/california_housing_train.csv') #Define el path al archivo\n",
        "df = pd.read_csv(file)\n",
        "df"
      ],
      "execution_count": 4,
      "outputs": [
        {
          "output_type": "execute_result",
          "data": {
            "text/plain": [
              "       longitude  latitude  housing_median_age  total_rooms  total_bedrooms  \\\n",
              "0        -114.31     34.19                15.0       5612.0          1283.0   \n",
              "1        -114.47     34.40                19.0       7650.0          1901.0   \n",
              "2        -114.56     33.69                17.0        720.0           174.0   \n",
              "3        -114.57     33.64                14.0       1501.0           337.0   \n",
              "4        -114.57     33.57                20.0       1454.0           326.0   \n",
              "...          ...       ...                 ...          ...             ...   \n",
              "16995    -124.26     40.58                52.0       2217.0           394.0   \n",
              "16996    -124.27     40.69                36.0       2349.0           528.0   \n",
              "16997    -124.30     41.84                17.0       2677.0           531.0   \n",
              "16998    -124.30     41.80                19.0       2672.0           552.0   \n",
              "16999    -124.35     40.54                52.0       1820.0           300.0   \n",
              "\n",
              "       population  households  median_income  median_house_value  \n",
              "0          1015.0       472.0         1.4936             66900.0  \n",
              "1          1129.0       463.0         1.8200             80100.0  \n",
              "2           333.0       117.0         1.6509             85700.0  \n",
              "3           515.0       226.0         3.1917             73400.0  \n",
              "4           624.0       262.0         1.9250             65500.0  \n",
              "...           ...         ...            ...                 ...  \n",
              "16995       907.0       369.0         2.3571            111400.0  \n",
              "16996      1194.0       465.0         2.5179             79000.0  \n",
              "16997      1244.0       456.0         3.0313            103600.0  \n",
              "16998      1298.0       478.0         1.9797             85800.0  \n",
              "16999       806.0       270.0         3.0147             94600.0  \n",
              "\n",
              "[17000 rows x 9 columns]"
            ],
            "text/html": [
              "\n",
              "  <div id=\"df-aa731aab-0f59-421a-95dc-caaac176b888\">\n",
              "    <div class=\"colab-df-container\">\n",
              "      <div>\n",
              "<style scoped>\n",
              "    .dataframe tbody tr th:only-of-type {\n",
              "        vertical-align: middle;\n",
              "    }\n",
              "\n",
              "    .dataframe tbody tr th {\n",
              "        vertical-align: top;\n",
              "    }\n",
              "\n",
              "    .dataframe thead th {\n",
              "        text-align: right;\n",
              "    }\n",
              "</style>\n",
              "<table border=\"1\" class=\"dataframe\">\n",
              "  <thead>\n",
              "    <tr style=\"text-align: right;\">\n",
              "      <th></th>\n",
              "      <th>longitude</th>\n",
              "      <th>latitude</th>\n",
              "      <th>housing_median_age</th>\n",
              "      <th>total_rooms</th>\n",
              "      <th>total_bedrooms</th>\n",
              "      <th>population</th>\n",
              "      <th>households</th>\n",
              "      <th>median_income</th>\n",
              "      <th>median_house_value</th>\n",
              "    </tr>\n",
              "  </thead>\n",
              "  <tbody>\n",
              "    <tr>\n",
              "      <th>0</th>\n",
              "      <td>-114.31</td>\n",
              "      <td>34.19</td>\n",
              "      <td>15.0</td>\n",
              "      <td>5612.0</td>\n",
              "      <td>1283.0</td>\n",
              "      <td>1015.0</td>\n",
              "      <td>472.0</td>\n",
              "      <td>1.4936</td>\n",
              "      <td>66900.0</td>\n",
              "    </tr>\n",
              "    <tr>\n",
              "      <th>1</th>\n",
              "      <td>-114.47</td>\n",
              "      <td>34.40</td>\n",
              "      <td>19.0</td>\n",
              "      <td>7650.0</td>\n",
              "      <td>1901.0</td>\n",
              "      <td>1129.0</td>\n",
              "      <td>463.0</td>\n",
              "      <td>1.8200</td>\n",
              "      <td>80100.0</td>\n",
              "    </tr>\n",
              "    <tr>\n",
              "      <th>2</th>\n",
              "      <td>-114.56</td>\n",
              "      <td>33.69</td>\n",
              "      <td>17.0</td>\n",
              "      <td>720.0</td>\n",
              "      <td>174.0</td>\n",
              "      <td>333.0</td>\n",
              "      <td>117.0</td>\n",
              "      <td>1.6509</td>\n",
              "      <td>85700.0</td>\n",
              "    </tr>\n",
              "    <tr>\n",
              "      <th>3</th>\n",
              "      <td>-114.57</td>\n",
              "      <td>33.64</td>\n",
              "      <td>14.0</td>\n",
              "      <td>1501.0</td>\n",
              "      <td>337.0</td>\n",
              "      <td>515.0</td>\n",
              "      <td>226.0</td>\n",
              "      <td>3.1917</td>\n",
              "      <td>73400.0</td>\n",
              "    </tr>\n",
              "    <tr>\n",
              "      <th>4</th>\n",
              "      <td>-114.57</td>\n",
              "      <td>33.57</td>\n",
              "      <td>20.0</td>\n",
              "      <td>1454.0</td>\n",
              "      <td>326.0</td>\n",
              "      <td>624.0</td>\n",
              "      <td>262.0</td>\n",
              "      <td>1.9250</td>\n",
              "      <td>65500.0</td>\n",
              "    </tr>\n",
              "    <tr>\n",
              "      <th>...</th>\n",
              "      <td>...</td>\n",
              "      <td>...</td>\n",
              "      <td>...</td>\n",
              "      <td>...</td>\n",
              "      <td>...</td>\n",
              "      <td>...</td>\n",
              "      <td>...</td>\n",
              "      <td>...</td>\n",
              "      <td>...</td>\n",
              "    </tr>\n",
              "    <tr>\n",
              "      <th>16995</th>\n",
              "      <td>-124.26</td>\n",
              "      <td>40.58</td>\n",
              "      <td>52.0</td>\n",
              "      <td>2217.0</td>\n",
              "      <td>394.0</td>\n",
              "      <td>907.0</td>\n",
              "      <td>369.0</td>\n",
              "      <td>2.3571</td>\n",
              "      <td>111400.0</td>\n",
              "    </tr>\n",
              "    <tr>\n",
              "      <th>16996</th>\n",
              "      <td>-124.27</td>\n",
              "      <td>40.69</td>\n",
              "      <td>36.0</td>\n",
              "      <td>2349.0</td>\n",
              "      <td>528.0</td>\n",
              "      <td>1194.0</td>\n",
              "      <td>465.0</td>\n",
              "      <td>2.5179</td>\n",
              "      <td>79000.0</td>\n",
              "    </tr>\n",
              "    <tr>\n",
              "      <th>16997</th>\n",
              "      <td>-124.30</td>\n",
              "      <td>41.84</td>\n",
              "      <td>17.0</td>\n",
              "      <td>2677.0</td>\n",
              "      <td>531.0</td>\n",
              "      <td>1244.0</td>\n",
              "      <td>456.0</td>\n",
              "      <td>3.0313</td>\n",
              "      <td>103600.0</td>\n",
              "    </tr>\n",
              "    <tr>\n",
              "      <th>16998</th>\n",
              "      <td>-124.30</td>\n",
              "      <td>41.80</td>\n",
              "      <td>19.0</td>\n",
              "      <td>2672.0</td>\n",
              "      <td>552.0</td>\n",
              "      <td>1298.0</td>\n",
              "      <td>478.0</td>\n",
              "      <td>1.9797</td>\n",
              "      <td>85800.0</td>\n",
              "    </tr>\n",
              "    <tr>\n",
              "      <th>16999</th>\n",
              "      <td>-124.35</td>\n",
              "      <td>40.54</td>\n",
              "      <td>52.0</td>\n",
              "      <td>1820.0</td>\n",
              "      <td>300.0</td>\n",
              "      <td>806.0</td>\n",
              "      <td>270.0</td>\n",
              "      <td>3.0147</td>\n",
              "      <td>94600.0</td>\n",
              "    </tr>\n",
              "  </tbody>\n",
              "</table>\n",
              "<p>17000 rows × 9 columns</p>\n",
              "</div>\n",
              "      <button class=\"colab-df-convert\" onclick=\"convertToInteractive('df-aa731aab-0f59-421a-95dc-caaac176b888')\"\n",
              "              title=\"Convert this dataframe to an interactive table.\"\n",
              "              style=\"display:none;\">\n",
              "        \n",
              "  <svg xmlns=\"http://www.w3.org/2000/svg\" height=\"24px\"viewBox=\"0 0 24 24\"\n",
              "       width=\"24px\">\n",
              "    <path d=\"M0 0h24v24H0V0z\" fill=\"none\"/>\n",
              "    <path d=\"M18.56 5.44l.94 2.06.94-2.06 2.06-.94-2.06-.94-.94-2.06-.94 2.06-2.06.94zm-11 1L8.5 8.5l.94-2.06 2.06-.94-2.06-.94L8.5 2.5l-.94 2.06-2.06.94zm10 10l.94 2.06.94-2.06 2.06-.94-2.06-.94-.94-2.06-.94 2.06-2.06.94z\"/><path d=\"M17.41 7.96l-1.37-1.37c-.4-.4-.92-.59-1.43-.59-.52 0-1.04.2-1.43.59L10.3 9.45l-7.72 7.72c-.78.78-.78 2.05 0 2.83L4 21.41c.39.39.9.59 1.41.59.51 0 1.02-.2 1.41-.59l7.78-7.78 2.81-2.81c.8-.78.8-2.07 0-2.86zM5.41 20L4 18.59l7.72-7.72 1.47 1.35L5.41 20z\"/>\n",
              "  </svg>\n",
              "      </button>\n",
              "      \n",
              "  <style>\n",
              "    .colab-df-container {\n",
              "      display:flex;\n",
              "      flex-wrap:wrap;\n",
              "      gap: 12px;\n",
              "    }\n",
              "\n",
              "    .colab-df-convert {\n",
              "      background-color: #E8F0FE;\n",
              "      border: none;\n",
              "      border-radius: 50%;\n",
              "      cursor: pointer;\n",
              "      display: none;\n",
              "      fill: #1967D2;\n",
              "      height: 32px;\n",
              "      padding: 0 0 0 0;\n",
              "      width: 32px;\n",
              "    }\n",
              "\n",
              "    .colab-df-convert:hover {\n",
              "      background-color: #E2EBFA;\n",
              "      box-shadow: 0px 1px 2px rgba(60, 64, 67, 0.3), 0px 1px 3px 1px rgba(60, 64, 67, 0.15);\n",
              "      fill: #174EA6;\n",
              "    }\n",
              "\n",
              "    [theme=dark] .colab-df-convert {\n",
              "      background-color: #3B4455;\n",
              "      fill: #D2E3FC;\n",
              "    }\n",
              "\n",
              "    [theme=dark] .colab-df-convert:hover {\n",
              "      background-color: #434B5C;\n",
              "      box-shadow: 0px 1px 3px 1px rgba(0, 0, 0, 0.15);\n",
              "      filter: drop-shadow(0px 1px 2px rgba(0, 0, 0, 0.3));\n",
              "      fill: #FFFFFF;\n",
              "    }\n",
              "  </style>\n",
              "\n",
              "      <script>\n",
              "        const buttonEl =\n",
              "          document.querySelector('#df-aa731aab-0f59-421a-95dc-caaac176b888 button.colab-df-convert');\n",
              "        buttonEl.style.display =\n",
              "          google.colab.kernel.accessAllowed ? 'block' : 'none';\n",
              "\n",
              "        async function convertToInteractive(key) {\n",
              "          const element = document.querySelector('#df-aa731aab-0f59-421a-95dc-caaac176b888');\n",
              "          const dataTable =\n",
              "            await google.colab.kernel.invokeFunction('convertToInteractive',\n",
              "                                                     [key], {});\n",
              "          if (!dataTable) return;\n",
              "\n",
              "          const docLinkHtml = 'Like what you see? Visit the ' +\n",
              "            '<a target=\"_blank\" href=https://colab.research.google.com/notebooks/data_table.ipynb>data table notebook</a>'\n",
              "            + ' to learn more about interactive tables.';\n",
              "          element.innerHTML = '';\n",
              "          dataTable['output_type'] = 'display_data';\n",
              "          await google.colab.output.renderOutput(dataTable, element);\n",
              "          const docLink = document.createElement('div');\n",
              "          docLink.innerHTML = docLinkHtml;\n",
              "          element.appendChild(docLink);\n",
              "        }\n",
              "      </script>\n",
              "    </div>\n",
              "  </div>\n",
              "  "
            ]
          },
          "metadata": {},
          "execution_count": 4
        }
      ]
    },
    {
      "cell_type": "code",
      "metadata": {
        "id": "_Dt0et2hFBv2"
      },
      "source": [
        "pd.read_table('./sample_data/california_housing_train.csv', sep=',') # También podemos usar read_table con un delimitador"
      ],
      "execution_count": null,
      "outputs": []
    },
    {
      "cell_type": "markdown",
      "metadata": {
        "id": "bgliJuqYHUPn"
      },
      "source": [
        "Podemos eliminar los headers utilizando el parámetro correspondiente **header=none**"
      ]
    },
    {
      "cell_type": "code",
      "metadata": {
        "id": "O2wBnFv1FrpY"
      },
      "source": [
        "df = pd.read_csv('./sample_data/california_housing_train.csv', header=None, names=['a', 'b', 'c', 'd', 'e', 'f', 'g', 'h', 'i'])\n",
        "df"
      ],
      "execution_count": null,
      "outputs": []
    },
    {
      "cell_type": "code",
      "metadata": {
        "id": "OrB0BaITGevp"
      },
      "source": [
        "df2 = df.drop(index=0) #Eliminamos la primera fila que nos había quedado con los headers originales \n",
        "df2"
      ],
      "execution_count": null,
      "outputs": []
    },
    {
      "cell_type": "markdown",
      "metadata": {
        "id": "BiSAA-qRH6_r"
      },
      "source": [
        "Podemos crear índices jerárquicos desde multiples columnas o nombres"
      ]
    },
    {
      "cell_type": "code",
      "metadata": {
        "id": "u9LKpx4NICi0"
      },
      "source": [
        "df3 = pd.read_csv('https://raw.githubusercontent.com/al34n1x/DataScience/master/3.Pandas/Herarchical_index.csv')\n",
        "df3 "
      ],
      "execution_count": null,
      "outputs": []
    },
    {
      "cell_type": "code",
      "metadata": {
        "id": "iqv7TEihLO-4"
      },
      "source": [
        "df_parsed = pd.read_csv('https://raw.githubusercontent.com/al34n1x/DataScience/master/3.Pandas/Herarchical_index.csv',\n",
        "                        index_col=['key1', 'key2'])\n",
        "df_parsed"
      ],
      "execution_count": null,
      "outputs": []
    },
    {
      "cell_type": "markdown",
      "metadata": {
        "id": "xzJ21nybNIZH"
      },
      "source": [
        "En algunas situaciones nos encontraremos con archivos que no estan delimitados por comas. en dichos casos, podemos pasar expresioner regulares como delimitadores de la función **read_table**. En el siguiente caso importaremos un archivo con espacios en blanco como delimitador  "
      ]
    },
    {
      "cell_type": "code",
      "metadata": {
        "id": "2kMcH2w6NHfh"
      },
      "source": [
        "df4 = pd.read_table('https://raw.githubusercontent.com/al34n1x/DataScience/master/3.Pandas/file_spaces.txt', sep='\\s+') #Le pasamos el delimitador\n",
        "df4"
      ],
      "execution_count": null,
      "outputs": []
    },
    {
      "cell_type": "markdown",
      "metadata": {
        "id": "GG-Z11e6PqEd"
      },
      "source": [
        "Que sucede cuando nos encontramos con archivos que poseen datos innecesarios? "
      ]
    },
    {
      "cell_type": "code",
      "metadata": {
        "id": "GQfVQGS-OrEc"
      },
      "source": [
        "df5 = pd.read_csv('https://raw.githubusercontent.com/al34n1x/DataScience/master/3.Pandas/file_comments.csv')\n",
        "df5"
      ],
      "execution_count": null,
      "outputs": []
    },
    {
      "cell_type": "code",
      "metadata": {
        "id": "FWWi0CATPAHq"
      },
      "source": [
        "df5 = pd.read_csv ('https://raw.githubusercontent.com/al34n1x/DataScience/master/3.Pandas/file_comments.csv', skiprows=[0,2,3])\n",
        "df5"
      ],
      "execution_count": null,
      "outputs": []
    },
    {
      "cell_type": "markdown",
      "metadata": {
        "id": "NseoQfuAPzpQ"
      },
      "source": [
        "## Trabajando con valores faltantes\n",
        "\n",
        "El manejo de valores perdidos es una parte importante y frecuentemente matizada del proceso de análisis de archivos. Los datos que faltan generalmente no están presentes o están marcados por algún valor de referencia. Por defecto, Pandas usa un conjunto de referencia comunes, como NA y NULL:"
      ]
    },
    {
      "cell_type": "code",
      "metadata": {
        "id": "I9i_pKTNQASX"
      },
      "source": [
        "df6 = pd.read_csv('https://raw.githubusercontent.com/al34n1x/DataScience/master/3.Pandas/missing_values.csv')\n",
        "df6"
      ],
      "execution_count": null,
      "outputs": []
    },
    {
      "cell_type": "code",
      "metadata": {
        "id": "B0cqFOULQnqu"
      },
      "source": [
        "pd.isnull(df6)"
      ],
      "execution_count": null,
      "outputs": []
    },
    {
      "cell_type": "markdown",
      "metadata": {
        "id": "cU2m-U2tROQR"
      },
      "source": [
        "También podemos agregar valores de referencia y anidarlos como diccionarios por columnas y filas. "
      ]
    },
    {
      "cell_type": "code",
      "metadata": {
        "id": "xUq2d4D0Q2yU"
      },
      "source": [
        "sentinels = {'message': ['foo', 'NA'], 'something': ['two']}\n",
        "pd.read_csv('https://raw.githubusercontent.com/al34n1x/DataScience/master/3.Pandas/missing_values.csv', na_values=sentinels)\n"
      ],
      "execution_count": null,
      "outputs": []
    },
    {
      "cell_type": "markdown",
      "metadata": {
        "id": "lELr76GBRh1n"
      },
      "source": [
        "## Leer archivos de texto en partes\n",
        "\n",
        "Cuando procesamos archivos muy grandes o descubres el conjunto correcto de argumentos para procesar correctamente un archivo grande, es posible que solo desees leer en una pequeña parte de un archivo o iterar a través de fragmentos más pequeños del mismo.\n",
        "\n",
        "Antes de mirar un archivo grande, hacemos que la configuración de visualización de pandas sea más compacta:"
      ]
    },
    {
      "cell_type": "code",
      "metadata": {
        "id": "RdnP-LujRwc9"
      },
      "source": [
        "pd.options.display.max_rows = 10"
      ],
      "execution_count": null,
      "outputs": []
    },
    {
      "cell_type": "code",
      "metadata": {
        "id": "jw1d0-yhRzIW"
      },
      "source": [
        "df7 = pd.read_csv('https://raw.githubusercontent.com/al34n1x/DataScience/master/3.Pandas/big_file.csv')\n",
        "df7"
      ],
      "execution_count": null,
      "outputs": []
    },
    {
      "cell_type": "code",
      "metadata": {
        "id": "kyyOhRQrSRp1"
      },
      "source": [
        "df7 = pd.read_csv('https://raw.githubusercontent.com/al34n1x/DataScience/master/3.Pandas/big_file.csv', nrows=5) #Definimos número de filas\n",
        "df7"
      ],
      "execution_count": null,
      "outputs": []
    },
    {
      "cell_type": "markdown",
      "metadata": {
        "id": "-YtXfps2SbxZ"
      },
      "source": [
        "Para poder leer un archivo en diferentes trozos, se debe especificar el parámetro **chunksize** como el número de filas."
      ]
    },
    {
      "cell_type": "code",
      "metadata": {
        "id": "1Jr6R-ceSl94"
      },
      "source": [
        "import pandas as pd\n",
        "chunk = pd.read_csv('https://raw.githubusercontent.com/al34n1x/DataScience/master/3.Pandas/big_file.csv', chunksize=1000)\n",
        "chunk"
      ],
      "execution_count": null,
      "outputs": []
    },
    {
      "cell_type": "code",
      "source": [
        "for i in chunk:\n",
        "  print(i)"
      ],
      "metadata": {
        "id": "eSjGUPRVIt9m"
      },
      "execution_count": null,
      "outputs": []
    },
    {
      "cell_type": "code",
      "metadata": {
        "id": "TfkKvjomTQBl"
      },
      "source": [
        "tot = pd.Series([]) # Creamos un objeto serie\n",
        "for piece in chunk: #iteramos\n",
        "    tot = tot.add(piece['key'].value_counts(), fill_value=0) #vamos agregando los valores de chunk en la serie\n",
        "\n",
        "tot = tot.sort_values(ascending=False)\n",
        "tot[:10] # Mostramos los primeros 10"
      ],
      "execution_count": null,
      "outputs": []
    },
    {
      "cell_type": "markdown",
      "metadata": {
        "id": "r31ppoPyT6vS"
      },
      "source": [
        "## Escribiendo Datos en formato texto\n",
        "\n",
        "Los datos pueden ser exportados en formato delimitado, por ejemplo consideremos el siguiente archivo de lectura. Tanto los DataFrame como las Series permiten exportar el resultado con el método **.to_csv**\n"
      ]
    },
    {
      "cell_type": "code",
      "metadata": {
        "id": "kZVnAJVZT553"
      },
      "source": [
        "data = pd.read_csv('https://raw.githubusercontent.com/al34n1x/DataScience/master/3.Pandas/missing_values.csv')\n",
        "data"
      ],
      "execution_count": null,
      "outputs": []
    },
    {
      "cell_type": "markdown",
      "metadata": {
        "id": "T8gbTti9UpYI"
      },
      "source": [
        "Usando el método Dataframe a csv podemos escribir datos a archivos delimitados por coma.\n",
        "\n"
      ]
    },
    {
      "cell_type": "code",
      "metadata": {
        "id": "a8nuipMTUniB"
      },
      "source": [
        "data.to_csv ('./sample_data/missing_values_out.csv')"
      ],
      "execution_count": null,
      "outputs": []
    },
    {
      "cell_type": "code",
      "metadata": {
        "id": "MQrtNCK8VGqg"
      },
      "source": [
        "!cat './sample_data/missing_values_out.csv'"
      ],
      "execution_count": null,
      "outputs": []
    },
    {
      "cell_type": "markdown",
      "metadata": {
        "id": "kmmD2qLRVWEf"
      },
      "source": [
        "Podemos utilizar otros delimitadores utilizando el método Python **sys.stdout** para imprimir el resultado por consola."
      ]
    },
    {
      "cell_type": "code",
      "metadata": {
        "id": "tgj74PtDVVku"
      },
      "source": [
        "import sys\n",
        "data.to_csv(sys.stdout, sep='|')"
      ],
      "execution_count": null,
      "outputs": []
    },
    {
      "cell_type": "markdown",
      "metadata": {
        "id": "InIkQUV7g93S"
      },
      "source": [
        "Adicionalmente, se puede especificar nulos en aquellos valores faltantes."
      ]
    },
    {
      "cell_type": "code",
      "metadata": {
        "id": "3NcmmreXWok4"
      },
      "source": [
        "data.to_csv(sys.stdout, na_rep='NULL')"
      ],
      "execution_count": null,
      "outputs": []
    },
    {
      "cell_type": "markdown",
      "metadata": {
        "id": "cRWqIex1hjLb"
      },
      "source": [
        "## Formato CSV\n",
        "\n",
        "Los archivos CSVs suelen venir en diferentes formatos. Se puede definir un formato con diferente delimitadores, convención de cadenas, o terminadores de lineas mediante la implementación de una sublcase. \n",
        "\n"
      ]
    },
    {
      "cell_type": "code",
      "metadata": {
        "id": "oR9-2zyyr9Cs"
      },
      "source": [
        "import csv\n",
        "class my_dialect(csv.Dialect):\n",
        "    lineterminator = '\\n'\n",
        "    delimiter = ','\n",
        "    quotechar = '\"'\n",
        "    quoting = csv.QUOTE_MINIMAL #add quote only when required\n",
        "f = open('./sample_data/missing_values_out.csv')\n",
        "reader = csv.reader(f, dialect=my_dialect)\n",
        "\n",
        "for line in reader:\n",
        "  print(line)\n",
        "\n",
        "\n",
        "\n"
      ],
      "execution_count": null,
      "outputs": []
    },
    {
      "cell_type": "markdown",
      "metadata": {
        "id": "J3ITwZSORMFl"
      },
      "source": [
        "Para escribir archivos delimitados de forma manual puedes usar el método **csv.writer**. Accepta los mismo tipos de archivos, dialectos y opciones de formato que el método **csv.reader**\n"
      ]
    },
    {
      "cell_type": "code",
      "metadata": {
        "id": "eEB2dM2MRjNz"
      },
      "source": [
        "with open('./sample_data/missing_values_out.csv', 'w') as f:\n",
        "    writer = csv.writer(f, dialect=my_dialect)\n",
        "    writer.writerow(('one', 'two', 'three'))\n",
        "    writer.writerow(('1', '2', '3'))\n",
        "    writer.writerow(('4', '5', '6'))\n",
        "    writer.writerow(('7', '8', '9'))\n",
        "  "
      ],
      "execution_count": null,
      "outputs": []
    },
    {
      "cell_type": "code",
      "metadata": {
        "id": "zljY0qjwR75G"
      },
      "source": [
        "!cat './sample_data/missing_values_out.csv'"
      ],
      "execution_count": null,
      "outputs": []
    },
    {
      "cell_type": "markdown",
      "metadata": {
        "id": "Fumt3vFx_CnF"
      },
      "source": [
        "## JSON Data\n",
        "\n",
        "JSON (abreviatura de JavaScript Object Notation) se ha convertido en uno de los formatos estándar para enviar datos por solicitud HTTP entre navegadores web y otras aplicaciones. Es un formato de datos mucho más libre que un formulario de texto tabular como CSV. \n",
        "Al trabajar con archivos en format JSON puedes utilizar infindad de herramientas para evaluar la correcta redacción del código, por ejemplo [JSON Formatter](https://jsonformatter.curiousconcept.com/) \n",
        "Aquí hay un ejemplo:\n",
        "\n",
        "```\n",
        "{\n",
        "   \"nombre\":\"Wes\",\n",
        "   \"lugares_donde_vivio\":[\n",
        "      \"United States\",\n",
        "      \"Spain\",\n",
        "      \"Germany\"],\n",
        "\n",
        "   \"mascotas\":null,\n",
        "   \"hermanos\":[\n",
        "      {\n",
        "         \"nombre\":\"Willy\",\n",
        "         \"edad\":30,\n",
        "         \"mascotas\":[\n",
        "            \"Zeus\",\n",
        "            \"Zuko\"]\n",
        "      },\n",
        "      {\n",
        "         \"nombre\":\"Wonka\",\n",
        "         \"edad\":38,\n",
        "         \"mascotas\":[\n",
        "            \"Sixes\",\n",
        "            \"Stache\",\n",
        "            \"Cisco\"]\n",
        "      \n",
        "      }\n",
        "   \n",
        "    ]\n",
        "}\n",
        "\n",
        "```\n",
        "\n",
        "\n"
      ]
    },
    {
      "cell_type": "code",
      "metadata": {
        "id": "gTHKYdHh-8M3"
      },
      "source": [
        "obj = \"\"\"\n",
        "{\"nombre\": \"Wes\",\n",
        " \"lugares_donde_vivio\": [\"United States\", \"Spain\", \"Germany\"],\n",
        " \"mascotas\": null,\n",
        " \"hermanos\": [{\"nombre\": \"Willy\", \"edad\": 30, \"mascotas\": [\"Zeus\", \"Zuko\"]},\n",
        "              {\"nombre\": \"Wonka\", \"edad\": 38,\n",
        "               \"mascotas\": [\"Sixes\", \"Stache\", \"Cisco\"]}]\n",
        "}\n",
        "\"\"\"\n"
      ],
      "execution_count": null,
      "outputs": []
    },
    {
      "cell_type": "markdown",
      "metadata": {
        "id": "FhhCREOD_cy0"
      },
      "source": [
        "JSON es casi un código de Python válido con la excepción de su valor nulo y algunos otros matices (como no permitir las comas finales al final de las listas). \n",
        "Los tipos básicos son objetos, matrices, cadenas, números, booleanos y nulos. \n",
        "Todas las claves en un objeto deben ser cadenas. Hay varias bibliotecas de Python para leer y escribir datos JSON. Usaremos json aquí, ya que está integrado en la biblioteca estándar de Python. Para convertir una cadena JSON a Python, usa **json.loads**:"
      ]
    },
    {
      "cell_type": "code",
      "metadata": {
        "id": "ocum61p4SK29"
      },
      "source": [
        "import json\n",
        "resultado = json.loads(obj) # importamos el objeto con los datos en formato json\n",
        "resultado"
      ],
      "execution_count": null,
      "outputs": []
    },
    {
      "cell_type": "markdown",
      "metadata": {
        "id": "xh8DH-RjScQm"
      },
      "source": [
        "El método **json.dumps** convierte un objeto Python a JSON"
      ]
    },
    {
      "cell_type": "code",
      "metadata": {
        "id": "sjwYS_rNSjYk"
      },
      "source": [
        "asjson = json.dumps(resultado)"
      ],
      "execution_count": null,
      "outputs": []
    },
    {
      "cell_type": "markdown",
      "metadata": {
        "id": "Pj4cOwmaS3Ph"
      },
      "source": [
        "Convertir un objeto JSON o una lista de objetos en un DataFrame o alguna estructura depende del desarrollador. \n",
        "Convenientemente, puede pasar una lista de dictados (que anteriormente eran objetos JSON) al constructor DataFrame y seleccionar un subconjunto de los campos de datos:"
      ]
    },
    {
      "cell_type": "code",
      "metadata": {
        "id": "oSaQMTtuTO4t"
      },
      "source": [
        "hermanos = pd.DataFrame(resultado['hermanos'], columns=['nombre', 'edad'])\n",
        "hermanos"
      ],
      "execution_count": null,
      "outputs": []
    },
    {
      "cell_type": "markdown",
      "metadata": {
        "id": "1U8HMI_oUM2T"
      },
      "source": [
        "Asimismo puedes leer un archivo en formato JSON y convertirlo directamente a un objeto DataFrame mediante el método **pd.read_json**"
      ]
    },
    {
      "cell_type": "code",
      "metadata": {
        "id": "JgUXK7EMT_-a"
      },
      "source": [
        "data = pd.read_json('https://raw.githubusercontent.com/al34n1x/DataScience/master/3.Pandas/ejemplo.json')\n",
        "data"
      ],
      "execution_count": null,
      "outputs": []
    },
    {
      "cell_type": "markdown",
      "metadata": {
        "id": "RAFNinVHUZVx"
      },
      "source": [
        "## XML y HTML Web Scrapping\n",
        "\n",
        "Python tiene muchas librerías para leer y escribir datos en formatos HTML y XML. Los ejemplos incluyen **lxml**, **Beautiful Soup** y **html5lib**. Si bien **lxml** es comparativamente mucho más rápido en general, las otras bibliotecas pueden manejar mejor los archivos HTML o XML con formato incorrecto.\n",
        "\n",
        "Pandas tiene una función incorporada, **read_html**, que usa librerías como **lxml** y **Beautiful Soup** para analizar automáticamente tablas de archivos HTML como objetos DataFrame. \n",
        "\n"
      ]
    },
    {
      "cell_type": "markdown",
      "metadata": {
        "id": "0eEzVniUU2IA"
      },
      "source": [
        "Para demostrar cómo funciona esto, descargaremos un archivo HTML  de la agencia gubernamental de la FDIC de los Estados Unidos que muestra las quiebras bancarias.\n"
      ]
    },
    {
      "cell_type": "code",
      "metadata": {
        "id": "iqkmJVjLU1hr"
      },
      "source": [
        "tablas = pd.read_html('https://raw.githubusercontent.com/al34n1x/DataScience/master/3.Pandas/informacion_fdic.html')\n",
        "len(tablas)"
      ],
      "execution_count": null,
      "outputs": []
    },
    {
      "cell_type": "code",
      "metadata": {
        "id": "GpLjqzdZVoAk"
      },
      "source": [
        "tablas[0].head()"
      ],
      "execution_count": null,
      "outputs": []
    },
    {
      "cell_type": "markdown",
      "metadata": {
        "id": "YMOB2DmGWbkz"
      },
      "source": [
        "**XML (eXtensible Markup Language)** es otro formato común de datos estructurados que admite datos jerárquicos y anidados con metadatos. \n",
        "\n",
        "Anteriormente, se mostró la función **pandas.read_html**, que usa lxml o Beautiful Soup debajo del capó para analizar datos de HTML. XML y HTML son estructuralmente similares, pero XML es más general. "
      ]
    },
    {
      "cell_type": "markdown",
      "metadata": {
        "id": "zcX2u_J0abc4"
      },
      "source": [
        "En el siguiente ejemplo tomaremos un DataSet del *New York Metropolitan Transportation Authority (MTA)* que publica información sobre los servicios de Bus y Trenes."
      ]
    },
    {
      "cell_type": "code",
      "metadata": {
        "id": "e8litpqQXR6n"
      },
      "source": [
        "from urllib.request import urlopen #Importamos Librería de manejo de URL \n",
        "from xml.etree.ElementTree import parse #Importamos Librería de gestión de formato XML \n",
        "from lxml import objectify\n",
        "\n",
        "\n",
        "var_url = urlopen(\"https://raw.githubusercontent.com/al34n1x/DataScience/master/3.Pandas/mta_performance.xml\")\n",
        "xmldoc = objectify.parse(var_url)\n",
        "root = xmldoc.getroot()\n",
        "data = []\n",
        "\n",
        "skip_fields = ['PARENT_SEQ', 'INDICATOR_SEQ',\n",
        "               'DESIRED_CHANGE', 'DECIMAL_PLACES']\n",
        "\n",
        "\n",
        "\n"
      ],
      "execution_count": null,
      "outputs": []
    },
    {
      "cell_type": "markdown",
      "metadata": {
        "id": "64fKXJR1axD8"
      },
      "source": [
        "**root.INDICATOR** devuelve un generador para cada elemento <INDICADOR> XML. Para cada entrada, podemos obtener dicho diccionario de los tags como YTD_ACTUAL. \n"
      ]
    },
    {
      "cell_type": "code",
      "metadata": {
        "id": "-BSJGQFebCUl"
      },
      "source": [
        "for elt in root.INDICATOR:  # Iteramos sobre el archivo XML y los diferentes Tags\n",
        "    el_data = {}\n",
        "    for child in elt.getchildren():\n",
        "        if child.tag in skip_fields:\n",
        "            continue\n",
        "        el_data[child.tag] = child.pyval\n",
        "    data.append(el_data) # Agregamos contenidos en la variable data\n",
        "\n",
        "perf = pd.DataFrame(data) # Convertimos data a un DataFrame\n",
        "perf.head()\n"
      ],
      "execution_count": null,
      "outputs": []
    },
    {
      "cell_type": "markdown",
      "metadata": {
        "id": "The4cD8zbg4-"
      },
      "source": [
        "## Formato HDF5\n",
        "\n",
        "HDF5 es un formato de archivo ampliamente utilizado  destinado a almacenar grandes cantidades de datos científicos. Está disponible como una biblioteca C y tiene interfaces disponibles en muchos otros lenguajes, incluidos Java, Julia, MATLAB y Python. \n",
        "\"HDF\" en HDF5 significa formato de datos jerárquico. \n",
        "Cada archivo HDF5 puede almacenar múltiples conjuntos de datos y metadatos compatibles. En comparación con formatos más simples, HDF5 admite la compresión sobre la marcha con una variedad de modos de compresión, lo que permite que los datos con patrones repetidos se almacenen de manera más eficiente. HDF5 puede ser una buena opción para trabajar con conjuntos de datos muy grandes que no caben en memoria, ya que puede leer y escribir eficientemente pequeñas secciones de conjuntos mucho más grandes.\n",
        "\n",
        "Pandas proporciona una interfaz de alto nivel que simplifica el almacenamiento de objetos Series y DataFrame en dicho formato. La clase HDFStore funciona como un dict y maneja los detalles de bajo nivel:\n",
        "\n",
        "\n"
      ]
    },
    {
      "cell_type": "code",
      "metadata": {
        "id": "Y0GyjWiCbYJ7"
      },
      "source": [
        "import pandas as pd\n",
        "import numpy as np\n",
        "df = pd.DataFrame({'a': np.random.randn(100)})\n",
        "df"
      ],
      "execution_count": null,
      "outputs": []
    },
    {
      "cell_type": "code",
      "metadata": {
        "id": "NOXR5lwu1CNh"
      },
      "source": [
        "almacenamiento = pd.HDFStore('./sample_data/mydata.h5')\n",
        "almacenamiento['obj1'] = df\n",
        "almacenamiento"
      ],
      "execution_count": null,
      "outputs": []
    },
    {
      "cell_type": "code",
      "metadata": {
        "id": "Y_tDcvovce47"
      },
      "source": [
        "almacenamiento['obj1'] #Los objetos almacenados en HDF5 pueden ser obtenidos mediante el mismo dict"
      ],
      "execution_count": null,
      "outputs": []
    },
    {
      "cell_type": "markdown",
      "metadata": {
        "id": "igdbk72dcpzr"
      },
      "source": [
        "HDFStore soporta dos tipos de esquema de almaceiamiento **Fijo** y **Tabla**, siendo el último más lento, pero soporta operaciones de consulta usando syntax especial \n"
      ]
    },
    {
      "cell_type": "code",
      "metadata": {
        "id": "SeOnApJFc60g"
      },
      "source": [
        "almacenamiento.put('obj2', df, format='table')\n",
        "almacenamiento.select('obj2', where=['index >= 10 and index <= 15'])"
      ],
      "execution_count": null,
      "outputs": []
    },
    {
      "cell_type": "markdown",
      "metadata": {
        "id": "bqio1dUxdGGz"
      },
      "source": [
        "La función **pandas.read_hdf** provee un shortcut a estas herramientas \n"
      ]
    },
    {
      "cell_type": "code",
      "metadata": {
        "id": "G4XVTrSBdSTW"
      },
      "source": [
        "df.to_hdf('./sample_data/mydata_2.h5', 'obj3', format='table')\n",
        "pd.read_hdf('./sample_data/mydata_2.h5', 'obj3', where=['index < 5'])"
      ],
      "execution_count": null,
      "outputs": []
    },
    {
      "cell_type": "markdown",
      "metadata": {
        "id": "OOyHUIhxddJW"
      },
      "source": [
        "## Lectura desde archivos Microsoft Excel\n",
        "\n",
        "Pandas también admite la lectura de datos tabulares almacenados en archivos Excel 2003 (y superiores) utilizando la clase **ExcelFile** o la función **pandas.read_excel**. Internamente, estas herramientas utilizan los paquetes complementarios **xlrd** y **openpyxl** para leer archivos XLS y XLSX, respectivamente. "
      ]
    },
    {
      "cell_type": "code",
      "metadata": {
        "id": "IHYMVopdd4ay"
      },
      "source": [
        "xlsx = pd.ExcelFile('https://github.com/al34n1x/DataScience/blob/master/3.Pandas/sample.xlsx?raw=true')\n",
        "df = pd.read_excel(xlsx, 'Sheet1')\n",
        "df"
      ],
      "execution_count": null,
      "outputs": []
    },
    {
      "cell_type": "markdown",
      "metadata": {
        "id": "Gs44eZT9d3Y4"
      },
      "source": [
        "Para escribir datos Pandas a formato Excel debes primero crear un ExcelWriter, luego escribir los datos utilizando objetos Pandas a métodos excel\n",
        "\n",
        "\n"
      ]
    },
    {
      "cell_type": "code",
      "metadata": {
        "id": "NrmyrLxDfbmb"
      },
      "source": [
        "writer = pd.ExcelWriter('./sample_data/sample_output.xlsx')\n",
        "df.to_excel(writer,'sheet1')\n",
        "writer.save()"
      ],
      "execution_count": null,
      "outputs": []
    },
    {
      "cell_type": "markdown",
      "metadata": {
        "id": "fTfC_zNBgRGY"
      },
      "source": [
        "## Interactuando con APIs\n",
        "\n",
        "Muchos sitios web tienen API públicas que proporcionan datos a través de JSON o algún otro formato. Hay varias formas de acceder a estas API desde Python; Un método fácil de usar que recomiendo es el paquete **requests**"
      ]
    },
    {
      "cell_type": "code",
      "metadata": {
        "id": "7VPzIg8nghL-"
      },
      "source": [
        "import requests\n",
        "'''\n",
        "La siguiente API nos da los últimos 30 issues de Pandas en Github.\n",
        "Podemos utilizar un método GET HTTP para poder hacernos de la información\n",
        "'''\n",
        "url = 'https://api.github.com/repos/pandas-dev/pandas/issues' \n",
        "resp = requests.get(url)\n",
        "resp\n",
        "\n"
      ],
      "execution_count": null,
      "outputs": []
    },
    {
      "cell_type": "code",
      "metadata": {
        "id": "ZfzdPYu3g9Mq"
      },
      "source": [
        "datos = resp.json()\n",
        "datos[1]['title']"
      ],
      "execution_count": null,
      "outputs": []
    },
    {
      "cell_type": "code",
      "metadata": {
        "id": "kxqtLo1bhJHb"
      },
      "source": [
        "issues = pd.DataFrame(datos, columns=['number', 'title',\n",
        "                  'labels', 'state'])\n",
        "issues"
      ],
      "execution_count": null,
      "outputs": []
    },
    {
      "cell_type": "markdown",
      "metadata": {
        "id": "PdIyYXWNhY18"
      },
      "source": [
        "## Interactuando con Base de Datos\n",
        "\n",
        "En un entorno empresarial, es posible que la mayoría de los datos no se almacenen en archivos de texto o Excel. Las bases de datos relacionales basadas en SQL (como Oracle, SQL Server, PostgreSQL y MySQL) se usan ampliamente, y muchas bases de datos alternativas se han vuelto bastante populares. \n",
        "\n",
        "Cargar datos de SQL en un DataFrame es bastante sencillo, y Pandas tiene algunas funciones para simplificar el proceso. "
      ]
    },
    {
      "cell_type": "code",
      "metadata": {
        "id": "iE7vJi1ShqWF"
      },
      "source": [
        "import sqlite3\n",
        "\n",
        "#Creamos una tabla en una base de datos sqlite3\n",
        "\n",
        "query = \"\"\"\n",
        "    CREATE TABLE test \n",
        "    ( a VARCHAR(20), \n",
        "      b VARCHAR(20),\n",
        "      c REAL, \n",
        "      d INTEGER\n",
        "    );\"\"\"\n",
        "\n",
        "con = sqlite3.connect('mydata.sqlite')\n",
        "con.execute(query)\n",
        "\n"
      ],
      "execution_count": null,
      "outputs": []
    },
    {
      "cell_type": "code",
      "metadata": {
        "id": "7ciMMy7OiCMJ"
      },
      "source": [
        "con.commit()"
      ],
      "execution_count": null,
      "outputs": []
    },
    {
      "cell_type": "code",
      "metadata": {
        "id": "QJ5k3PoViJGw"
      },
      "source": [
        "datos = [('Buenos Aires', 'La Plata', 1.25, 6),\n",
        "              ('Mendoza', 'Ciudad de Mendoza', 2.6, 3),\n",
        "              ('San Luis', 'San Luis', 1.7, 5)]\n",
        "\n",
        "\n",
        "query = \"INSERT INTO test VALUES(?, ?, ?, ?)\"\n",
        "\n",
        "con.executemany(query, datos)\n",
        "con.commit()"
      ],
      "execution_count": null,
      "outputs": []
    },
    {
      "cell_type": "code",
      "metadata": {
        "id": "cbV4TRBCinRy"
      },
      "source": [
        "cursor = con.execute('select * from test')\n",
        "filas = cursor.fetchall()\n",
        "filas"
      ],
      "execution_count": null,
      "outputs": []
    },
    {
      "cell_type": "markdown",
      "metadata": {
        "id": "W1D2SufKi1o-"
      },
      "source": [
        "Esto es un poco molesto, asumimos que el desarrollador no prefiere repetir estos pasos cada vez que consulta la base de datos. \n",
        "El proyecto **SQLAlchemy** es un popular kit de herramientas Python SQL que abstrae muchas de las diferencias comunes entre las bases de datos SQL. \n",
        "Pandas tiene una función **read_sql** que le permite leer datos fácilmente desde una conexión SQLAlchemy general. "
      ]
    },
    {
      "cell_type": "code",
      "source": [
        "!pip install --upgrade 'sqlalchemy<2.0'"
      ],
      "metadata": {
        "id": "NNNB6pFnAxSe"
      },
      "execution_count": null,
      "outputs": []
    },
    {
      "cell_type": "code",
      "metadata": {
        "id": "1MS69x47jE19"
      },
      "source": [
        "import sqlalchemy as sqla\n",
        "db = sqla.create_engine('sqlite:///mydata.sqlite')\n",
        "'''\n",
        "Hacemos un query a la base de datos seleccionando todo \n",
        "en la tabla test y se lo asignamos al DataFrame df\n",
        "'''\n",
        "df = pd.read_sql('select * from test where b = \\'La Plata\\' ', db)\n",
        "df"
      ],
      "execution_count": null,
      "outputs": []
    }
  ]
}