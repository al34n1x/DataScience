{
  "nbformat": 4,
  "nbformat_minor": 0,
  "metadata": {
    "colab": {
      "name": "9.Intro_Matplotib.ipynb",
      "provenance": [],
      "authorship_tag": "ABX9TyNISWw7H9ESeyPH8PQ/ZRYa",
      "include_colab_link": true
    },
    "kernelspec": {
      "name": "python3",
      "display_name": "Python 3"
    },
    "language_info": {
      "name": "python"
    }
  },
  "cells": [
    {
      "cell_type": "markdown",
      "metadata": {
        "id": "view-in-github",
        "colab_type": "text"
      },
      "source": [
        "<a href=\"https://colab.research.google.com/github/al34n1x/DataScience/blob/master/1.Intro/9_Intro_Matplotib.ipynb\" target=\"_parent\"><img src=\"https://colab.research.google.com/assets/colab-badge.svg\" alt=\"Open In Colab\"/></a>"
      ]
    },
    {
      "cell_type": "markdown",
      "metadata": {
        "colab_type": "toc",
        "id": "aKo6pw_xe3Ck"
      },
      "source": [
        ">[Visualización](#updateTitle=true&folderId=1hYY6URNFLa2w5I3uQbpDlwOox_am-5cM&scrollTo=h8hhTWdkZzfb)\n",
        "\n",
        ">>[Matplotlib](#updateTitle=true&folderId=1hYY6URNFLa2w5I3uQbpDlwOox_am-5cM&scrollTo=TOvjOOcpZ2FA)\n",
        "\n",
        ">>[Tipo de Gráficos](#updateTitle=true&folderId=1hYY6URNFLa2w5I3uQbpDlwOox_am-5cM&scrollTo=Bur0CiCwbDqo)\n",
        "\n",
        ">>>[Scatter Chart](#updateTitle=true&folderId=1hYY6URNFLa2w5I3uQbpDlwOox_am-5cM&scrollTo=Jy_O75dQbrXz)\n",
        "\n",
        ">>>[Gráfico de líneas](#updateTitle=true&folderId=1hYY6URNFLa2w5I3uQbpDlwOox_am-5cM&scrollTo=YGZaH9OXbv4-)\n",
        "\n",
        ">>>[Gráfico de areas](#updateTitle=true&folderId=1hYY6URNFLa2w5I3uQbpDlwOox_am-5cM&scrollTo=fxbX_mj0b_Gr)\n",
        "\n",
        ">>>[Gráfico de barras](#updateTitle=true&folderId=1hYY6URNFLa2w5I3uQbpDlwOox_am-5cM&scrollTo=RY9-_e6fcDuK)\n",
        "\n",
        ">>>[Gráfico de barras horizontales](#updateTitle=true&folderId=1hYY6URNFLa2w5I3uQbpDlwOox_am-5cM&scrollTo=OhLBEn9McJF1)\n",
        "\n",
        ">>>[Histogramas](#updateTitle=true&folderId=1hYY6URNFLa2w5I3uQbpDlwOox_am-5cM&scrollTo=yXDZd_8CcQ6S)\n",
        "\n",
        ">>>[Pie charts](#updateTitle=true&folderId=1hYY6URNFLa2w5I3uQbpDlwOox_am-5cM&scrollTo=-8Ocq2LzcXDW)\n",
        "\n",
        ">>>[Diagrama de cajas](#updateTitle=true&folderId=1hYY6URNFLa2w5I3uQbpDlwOox_am-5cM&scrollTo=V6jluWwrcbkU)\n",
        "\n",
        ">>>[Diagrama de violín](#updateTitle=true&folderId=1hYY6URNFLa2w5I3uQbpDlwOox_am-5cM&scrollTo=8c8RL3jFcghG)\n",
        "\n",
        ">>>[Diagrama de contorno](#updateTitle=true&folderId=1hYY6URNFLa2w5I3uQbpDlwOox_am-5cM&scrollTo=TqSZLsrscmxY)\n",
        "\n",
        ">>>[Mapas de calor/color](#updateTitle=true&folderId=1hYY6URNFLa2w5I3uQbpDlwOox_am-5cM&scrollTo=aMVgqbkMcq8D)\n",
        "\n",
        ">>[Colores](#updateTitle=true&folderId=1hYY6URNFLa2w5I3uQbpDlwOox_am-5cM&scrollTo=cemVRjcYdDMb)\n",
        "\n",
        ">>[Marcadores](#updateTitle=true&folderId=1hYY6URNFLa2w5I3uQbpDlwOox_am-5cM&scrollTo=E0ntq0_kdVdO)\n",
        "\n",
        ">>[Líneas](#updateTitle=true&folderId=1hYY6URNFLa2w5I3uQbpDlwOox_am-5cM&scrollTo=H-2ECytRdfQ7)\n",
        "\n",
        ">>[Títulos](#updateTitle=true&folderId=1hYY6URNFLa2w5I3uQbpDlwOox_am-5cM&scrollTo=pdGi-wdNdr71)\n",
        "\n",
        ">>[Leyenda](#updateTitle=true&folderId=1hYY6URNFLa2w5I3uQbpDlwOox_am-5cM&scrollTo=0Dj7VIn8eCaI)\n",
        "\n",
        ">>[Múltiples gráficos](#updateTitle=true&folderId=1hYY6URNFLa2w5I3uQbpDlwOox_am-5cM&scrollTo=QqaLBpn7eRCM)\n",
        "\n"
      ]
    },
    {
      "cell_type": "markdown",
      "metadata": {
        "id": "h8hhTWdkZzfb"
      },
      "source": [
        "# Visualización\n",
        "\n",
        "Hacer visualizaciones informativas (plots) es una de las tareas más importantes en el análisis de datos. Puede ser parte del proceso exploratorio, por ejemplo, para ayudar a identificar valores atípicos o transformaciones de datos necesarias, o como una forma de generar ideas para modelos. Para otros, construir una visualización interactiva para la web puede ser el objetivo final. Python tiene muchas bibliotecas adicionales para hacer visualizaciones estáticas o dinámicas.\n",
        "\n",
        "<img src=\"https://i.huffpost.com/gen/1887945/thumbs/o-RABBIT-900.jpg?6\" width = 300 >\n"
      ]
    },
    {
      "cell_type": "markdown",
      "metadata": {
        "id": "TOvjOOcpZ2FA"
      },
      "source": [
        "## Matplotlib\n",
        "\n",
        "Matplotlib es un paquete de gráficos de escritorio diseñado para crear gráficos con calidad de publicación. \n",
        "Matplotlib admite varios backends de GUI en todos los sistemas operativos y, además, puede exportar visualizaciones a todos los formatos de gráficos vectoriales y raster (PDF, SVG, JPG, PNG, BMP, GIF, etc.)"
      ]
    },
    {
      "cell_type": "code",
      "metadata": {
        "id": "SBi5TuLUZmyA"
      },
      "source": [
        "import matplotlib.pyplot as plt  #Importamos la librería y le damos alias\n",
        "import numpy as np # Importamos Numpy para poder utilizar arrays\n",
        "data = np.arange(10)\n",
        "data"
      ],
      "execution_count": null,
      "outputs": []
    },
    {
      "cell_type": "code",
      "metadata": {
        "id": "ocSxz8ljZ8EC"
      },
      "source": [
        "plt.plot(data)"
      ],
      "execution_count": null,
      "outputs": []
    },
    {
      "cell_type": "markdown",
      "metadata": {
        "id": "Bur0CiCwbDqo"
      },
      "source": [
        "## Tipo de Gráficos\n",
        "\n",
        "La libería matplotlib permite crear los siguientes tipo de gráficos\n",
        "\n",
        "* Diagramas de barras\n",
        "* Histograma\n",
        "* Diagramas de torta\n",
        "* Diagramas de caja\n",
        "* Diagramas de violín\n",
        "* Diagramas de dispersión o puntos\n",
        "* Diagramas de lineas\n",
        "* Diagramas de areas\n",
        "* Diagramas de contorno\n",
        "* Mapas de color\n",
        "\n",
        "\n",
        "\n"
      ]
    },
    {
      "cell_type": "code",
      "metadata": {
        "id": "_aKvVauebfJa"
      },
      "source": [
        "# Importar el módulo pyplot con el alias plt\n",
        "import matplotlib.pyplot as plt\n",
        "\n",
        "# Crear la figura y los ejes / fig, ax = fig.subplots()\n",
        "fig = plt.figure()\n",
        "ax = fig.subplots()\n",
        "\n",
        "# Dibujar puntos\n",
        "ax.scatter(x = [1, 2, 3], y = [3, 2, 1])\n",
        "\n",
        "# Guardar el gráfico en formato png\n",
        "plt.savefig('./diagrama-dispersion.png')\n",
        "\n",
        "# Mostrar el gráfico\n",
        "plt.show()"
      ],
      "execution_count": null,
      "outputs": []
    },
    {
      "cell_type": "markdown",
      "metadata": {
        "id": "Jy_O75dQbrXz"
      },
      "source": [
        "### Scatter Chart"
      ]
    },
    {
      "cell_type": "code",
      "metadata": {
        "id": "n4kuayTxbujl"
      },
      "source": [
        "import matplotlib.pyplot as plt\n",
        "fig = plt.figure()\n",
        "ax = fig.subplots()\n",
        "ax.scatter([1, 2, 3, 4], [1, 2, 0, 0.5])\n",
        "plt.show()"
      ],
      "execution_count": null,
      "outputs": []
    },
    {
      "cell_type": "markdown",
      "metadata": {
        "id": "YGZaH9OXbv4-"
      },
      "source": [
        "### Gráfico de líneas"
      ]
    },
    {
      "cell_type": "code",
      "metadata": {
        "id": "k-S-h3Wcb5e0"
      },
      "source": [
        "import matplotlib.pyplot as plt\n",
        "fig = plt.figure()\n",
        "ax = fig.subplots()\n",
        "ax.plot([1, 2, 3, 4], [1, 2, 0, 0.5])\n",
        "plt.show()"
      ],
      "execution_count": null,
      "outputs": []
    },
    {
      "cell_type": "markdown",
      "metadata": {
        "id": "fxbX_mj0b_Gr"
      },
      "source": [
        "### Gráfico de areas"
      ]
    },
    {
      "cell_type": "code",
      "metadata": {
        "id": "e6psGXiRb6Zu"
      },
      "source": [
        "import matplotlib.pyplot as plt\n",
        "fig = plt.figure()\n",
        "ax = fig.subplots()\n",
        "ax.fill_between([1, 2, 3, 4], [1, 2, 0, 0.5])\n",
        "plt.show()"
      ],
      "execution_count": null,
      "outputs": []
    },
    {
      "cell_type": "markdown",
      "metadata": {
        "id": "RY9-_e6fcDuK"
      },
      "source": [
        "### Gráfico de barras"
      ]
    },
    {
      "cell_type": "code",
      "metadata": {
        "id": "JJRtsP_ib6X8"
      },
      "source": [
        "import matplotlib.pyplot as plt\n",
        "fig = plt.figure()\n",
        "ax = fig.subplots()\n",
        "ax.bar([1, 2, 3], [3, 2, 1])\n",
        "plt.show()"
      ],
      "execution_count": null,
      "outputs": []
    },
    {
      "cell_type": "markdown",
      "metadata": {
        "id": "OhLBEn9McJF1"
      },
      "source": [
        "### Gráfico de barras horizontales"
      ]
    },
    {
      "cell_type": "code",
      "metadata": {
        "id": "iOO8obNjb6Vq"
      },
      "source": [
        "import matplotlib.pyplot as plt\n",
        "fig = plt.figure()\n",
        "ax = fig.subplots()\n",
        "ax.barh([1, 2, 3], [3, 2, 1])\n",
        "plt.show()"
      ],
      "execution_count": null,
      "outputs": []
    },
    {
      "cell_type": "markdown",
      "metadata": {
        "id": "yXDZd_8CcQ6S"
      },
      "source": [
        "### Histogramas"
      ]
    },
    {
      "cell_type": "markdown",
      "source": [
        "Los histogramas ayudan a ver el centro, la extensión y la forma de un conjunto de datos. También se pueden usar como herramienta visual para comprobar la normalidad."
      ],
      "metadata": {
        "id": "PiBiFKWSZOwh"
      }
    },
    {
      "cell_type": "code",
      "metadata": {
        "id": "8yD69z5Ib6TN"
      },
      "source": [
        "import numpy as np\n",
        "import matplotlib.pyplot as plt\n",
        "fig = plt.figure()\n",
        "ax = fig.subplots()\n",
        "x = np.random.normal(5, 2, size=10000000) # Utilizamos Numpy para crear la distribución normal\n",
        "ax.hist(x, np.arange(0, 11))\n",
        "plt.show()"
      ],
      "execution_count": null,
      "outputs": []
    },
    {
      "cell_type": "markdown",
      "metadata": {
        "id": "-8Ocq2LzcXDW"
      },
      "source": [
        "### Pie charts"
      ]
    },
    {
      "cell_type": "code",
      "metadata": {
        "id": "pGHARbPmcVAa"
      },
      "source": [
        "import matplotlib.pyplot as plt\n",
        "fig = plt.figure()\n",
        "ax = fig.subplots()\n",
        "ax.pie([5, 4, 3, 2, 1])\n",
        "plt.show()"
      ],
      "execution_count": null,
      "outputs": []
    },
    {
      "cell_type": "markdown",
      "metadata": {
        "id": "V6jluWwrcbkU"
      },
      "source": [
        "### Diagrama de cajas"
      ]
    },
    {
      "cell_type": "code",
      "metadata": {
        "id": "d41nB5NocU97"
      },
      "source": [
        "import matplotlib.pyplot as plt\n",
        "fig = plt.figure()\n",
        "ax = fig.subplots()\n",
        "ax.boxplot([1, 2, 1, 2, 3, 4, 3, 3, 5, 7])\n",
        "plt.show()"
      ],
      "execution_count": null,
      "outputs": []
    },
    {
      "cell_type": "markdown",
      "metadata": {
        "id": "8c8RL3jFcghG"
      },
      "source": [
        "### Diagrama de violín"
      ]
    },
    {
      "cell_type": "code",
      "metadata": {
        "id": "thLFn7uIcU7d"
      },
      "source": [
        "import matplotlib.pyplot as plt\n",
        "fig = plt.figure()\n",
        "ax = fig.subplots()\n",
        "ax.violinplot([1, 2, 1, 2, 3, 4, 3, 3, 5, 7])\n",
        "plt.show()"
      ],
      "execution_count": null,
      "outputs": []
    },
    {
      "cell_type": "markdown",
      "metadata": {
        "id": "TqSZLsrscmxY"
      },
      "source": [
        "### Diagrama de contorno"
      ]
    },
    {
      "cell_type": "code",
      "source": [
        "import matplotlib.pyplot as plt\n",
        "from matplotlib import cm\n",
        "from matplotlib.ticker import LinearLocator\n",
        "import numpy as np\n",
        "\n",
        "fig, ax = plt.subplots(subplot_kw={\"projection\": \"3d\"})\n",
        "\n",
        "# Make data.\n",
        "X = np.arange(-5, 5, 0.25)\n",
        "Y = np.arange(-5, 5, 0.25)\n",
        "X, Y = np.meshgrid(X, Y)\n",
        "R = np.sqrt(X**2 + Y**2)\n",
        "Z = np.sin(R)\n",
        "\n",
        "# Plot the surface.\n",
        "surf = ax.plot_surface(X, Y, Z, cmap=cm.coolwarm,\n",
        "                       linewidth=0, antialiased=False)\n",
        "\n",
        "# Customize the z axis.\n",
        "ax.set_zlim(-1.01, 1.01)\n",
        "ax.zaxis.set_major_locator(LinearLocator(10))\n",
        "# A StrMethodFormatter is used automatically\n",
        "ax.zaxis.set_major_formatter('{x:.02f}')\n",
        "\n",
        "# Add a color bar which maps values to colors.\n",
        "fig.colorbar(surf, shrink=0.5, aspect=5)\n",
        "\n",
        "plt.show()"
      ],
      "metadata": {
        "id": "42g1vUy4ZtRD"
      },
      "execution_count": null,
      "outputs": []
    },
    {
      "cell_type": "code",
      "metadata": {
        "id": "cZNvnkdTcU1H"
      },
      "source": [
        "import matplotlib.pyplot as plt\n",
        "fig = plt.figure()\n",
        "ax = fig.subplots()\n",
        "x = np.linspace(-3.0, 3.0, 100)\n",
        "y = np.linspace(-3.0, 3.0, 100)\n",
        "x, y = np.meshgrid(x, y)\n",
        "z = np.sqrt(x**2 + 2*y**2)\n",
        "ax.contourf(x, y, z)\n",
        "plt.show()"
      ],
      "execution_count": null,
      "outputs": []
    },
    {
      "cell_type": "markdown",
      "metadata": {
        "id": "aMVgqbkMcq8D"
      },
      "source": [
        "### Mapas de calor/color"
      ]
    },
    {
      "cell_type": "code",
      "metadata": {
        "id": "ZGpg_b1DcUye"
      },
      "source": [
        "import matplotlib.pyplot as plt\n",
        "fig = plt.figure()\n",
        "ax = fig.subplots()\n",
        "x = np.random.random((16, 16))\n",
        "ax.imshow(x)\n",
        "plt.show()"
      ],
      "execution_count": null,
      "outputs": []
    },
    {
      "cell_type": "markdown",
      "metadata": {
        "id": "A0e08J47cy9L"
      },
      "source": [
        "**hist2d(x, y)** dibuja un mapa de color que simula un histograma bidimensional, donde los colores de los cuadrados dependen de las frecuencias de las clases de la muestra dada por las listas x e y.\n"
      ]
    },
    {
      "cell_type": "code",
      "metadata": {
        "id": "en044riib6Hm"
      },
      "source": [
        "import matplotlib.pyplot as plt\n",
        "fig = plt.figure()\n",
        "ax = fig.subplots()\n",
        "x, y = np.random.multivariate_normal(mean=[0.0, 0.0], cov=[[1.0, 0.4], [0.4, 0.5]], size=1000).T\n",
        "ax.hist2d(x, y)\n",
        "plt.show()"
      ],
      "execution_count": null,
      "outputs": []
    },
    {
      "cell_type": "markdown",
      "metadata": {
        "id": "cemVRjcYdDMb"
      },
      "source": [
        "## Colores\n",
        "Para cambiar el color de los objetos se utiliza el parámetro color = nombre-color, donde nombre-color es una cadena con el nombre del color de entre los [colores disponibles](https://matplotlib.org/3.2.1/gallery/color/named_colors.html)."
      ]
    },
    {
      "cell_type": "code",
      "metadata": {
        "id": "ZowFNHhZc41s"
      },
      "source": [
        "import matplotlib.pyplot as plt\n",
        "fig = plt.figure()\n",
        "ax = fig.subplots()\n",
        "dias = ['L', 'M', 'X', 'J', 'V', 'S', 'D']\n",
        "temperaturas = {'Madrid':[28.5, 30.5, 31, 30, 28, 27.5, 30.5], 'Barcelona':[24.5, 25.5, 26.5, 25, 26.5, 24.5, 25]}\n",
        "ax.plot(dias, temperaturas['Madrid'], color = 'tab:purple')\n",
        "ax.plot(dias, temperaturas['Barcelona'], color = 'tab:green')\n",
        "plt.show()"
      ],
      "execution_count": null,
      "outputs": []
    },
    {
      "cell_type": "markdown",
      "metadata": {
        "id": "E0ntq0_kdVdO"
      },
      "source": [
        "## Marcadores\n",
        "\n",
        "Para cambiar la forma de los puntos marcadores se utiliza el parámetro marker = nombre-marcador donde nombre-marcador es una cadena con el nombre del marcador de entre los [marcadores disponibles](https://matplotlib.org/3.2.1/api/markers_api.html)"
      ]
    },
    {
      "cell_type": "code",
      "metadata": {
        "id": "eB3VUyG-c4y5"
      },
      "source": [
        "import matplotlib.pyplot as plt\n",
        "fig = plt.figure()\n",
        "ax = fig.subplots()\n",
        "dias = ['L', 'M', 'X', 'J', 'V', 'S', 'D']\n",
        "temperaturas = {'Madrid':[28.5, 30.5, 31, 30, 28, 27.5, 30.5], 'Barcelona':[24.5, 25.5, 26.5, 25, 26.5, 24.5, 25]}\n",
        "ax.plot(dias, temperaturas['Madrid'], marker = '^')\n",
        "ax.plot(dias, temperaturas['Barcelona'], marker = 'o')\n",
        "plt.show()"
      ],
      "execution_count": null,
      "outputs": []
    },
    {
      "cell_type": "markdown",
      "metadata": {
        "id": "H-2ECytRdfQ7"
      },
      "source": [
        "## Líneas\n",
        "\n",
        "Para cambiar el estilo de las líneas se utiliza el parámetro linestyle = nombre-estilo donde nombre-estilo es una cadena con el nombre del estilo de entre los [estilos disponibles](https://https://matplotlib.org/3.2.1/gallery/lines_bars_and_markers/linestyles.html)"
      ]
    },
    {
      "cell_type": "code",
      "metadata": {
        "id": "ypqWaW-ac4wQ"
      },
      "source": [
        "import matplotlib.pyplot as plt\n",
        "fig = plt.figure()\n",
        "ax = fig.subplots()\n",
        "dias = ['L', 'M', 'X', 'J', 'V', 'S', 'D']\n",
        "temperaturas = {'Madrid':[28.5, 30.5, 31, 30, 28, 27.5, 30.5], 'Barcelona':[24.5, 25.5, 26.5, 25, 26.5, 24.5, 25]}\n",
        "ax.plot(dias, temperaturas['Madrid'], linestyle = 'dashed')\n",
        "ax.plot(dias, temperaturas['Barcelona'], linestyle = 'dotted')\n",
        "plt.show()"
      ],
      "execution_count": null,
      "outputs": []
    },
    {
      "cell_type": "markdown",
      "metadata": {
        "id": "pdGi-wdNdr71"
      },
      "source": [
        "## Títulos\n",
        "\n",
        "Para añadir un título principal al gráfico se utiliza el siguiente método:\n",
        "\n",
        "* ax.set_title(titulo, loc=alineacion, fontdict=fuente) : Añade un título con el contenido de la cadena titulo a los ejes ax. \n",
        "* El parámetro loc indica la alineación del título, que puede ser 'left' (izquierda), 'center' (centro) o 'right' (derecha), \n",
        "* El parámetro fontdict indica mediante un diccionario las características de la fuente (la el tamaño fontisize, el grosor fontweight o el color color).\n"
      ]
    },
    {
      "cell_type": "code",
      "metadata": {
        "id": "_r-se2_dc4qd"
      },
      "source": [
        "import matplotlib.pyplot as plt\n",
        "fig = plt.figure()\n",
        "ax = fig.subplots()\n",
        "dias = ['L', 'M', 'X', 'J', 'V', 'S', 'D']\n",
        "temperaturas = {'Madrid':[28.5, 30.5, 31, 30, 28, 27.5, 30.5], 'Barcelona':[24.5, 25.5, 26.5, 25, 26.5, 24.5, 25]}\n",
        "ax.plot(dias, temperaturas['Madrid'])\n",
        "ax.plot(dias, temperaturas['Barcelona'])\n",
        "ax.set_title('Evolución de la temperatura diaria', loc = \"center\", fontdict = {'fontsize':14, \n",
        "                                                                               'fontweight':'bold', \n",
        "                                                                               'color':'tab:blue'})\n",
        "plt.show()"
      ],
      "execution_count": null,
      "outputs": []
    },
    {
      "cell_type": "markdown",
      "metadata": {
        "id": "0Dj7VIn8eCaI"
      },
      "source": [
        "## Leyenda\n",
        "\n",
        "Para añadir una leyenda a un gráfico se utiliza el siguiente método:\n",
        "\n",
        "* ax.legend(leyendas, loc = posición) : Dibuja un leyenda en los ejes ax con los nombres indicados en la lista leyendas. \n",
        "* El parámetro loc indica la posición en la que se dibuja la leyenda y puede ser 'upper left' (arriba izquierda), 'upper center' (arriba centro), 'upper right' (arriba derecha), 'center left' (centro izquierda), 'center' (centro), 'center right' (centro derecha), 'lower left' (abajo izquierda), 'lower center' (abajo centro), 'lower right' (abajo derecha). \n",
        "* Se puede omitir la lista leyendas si se indica la leyenda de cada serie en la función que la dibuja mediante el parámetro label.\n"
      ]
    },
    {
      "cell_type": "code",
      "metadata": {
        "id": "n9UEyZSoc4n0"
      },
      "source": [
        "import matplotlib.pyplot as plt\n",
        "fig = plt.figure()\n",
        "ax = fig.subplots()\n",
        "dias = ['L', 'M', 'X', 'J', 'V', 'S', 'D']\n",
        "temperaturas = {'Madrid':[28.5, 30.5, 31, 30, 28, 27.5, 30.5], 'Barcelona':[24.5, 25.5, 26.5, 25, 26.5, 24.5, 25]}\n",
        "ax.plot(dias, temperaturas['Madrid'], label = 'Madrid')\n",
        "ax.plot(dias, temperaturas['Barcelona'], label = 'Barcelona')\n",
        "ax.set_title('Evolución de la temperatura diaria', loc = \"center\", fontdict = {'fontsize':14, 'fontweight':'bold', 'color':'tab:blue'})\n",
        "ax.legend(loc = 'upper right')\n",
        "plt.show()"
      ],
      "execution_count": null,
      "outputs": []
    },
    {
      "cell_type": "markdown",
      "metadata": {
        "id": "QqaLBpn7eRCM"
      },
      "source": [
        "## Múltiples gráficos\n",
        "\n",
        "Es posible dibujar varios gráficos en distintos ejes en una misma figura organizados en forma de tabla. Para ello, cuando se inicializa la figura y los ejes, hay que pasarle a la función subplots el número de filas y columnas de la tabla que contendrá los gráficos. Con esto los distintos ejes se organizan en un array y se puede acceder a cada uno de ellos a través de sus índices. Si se quiere que los distintos ejes compartan los mismos límites para los ejes se pueden pasar los parámetros sharex = True para el eje x o sharey = True para el eje y."
      ]
    },
    {
      "cell_type": "code",
      "metadata": {
        "id": "tvCHU-dXc4lO"
      },
      "source": [
        "import matplotlib.pyplot as plt\n",
        "fig = plt.figure()\n",
        "ax = fig.subplots(2, 2, sharey = True)\n",
        "dias = ['L', 'M', 'X', 'J', 'V', 'S', 'D']\n",
        "temperaturas = {'Madrid':[28.5, 30.5, 31, 30, 28, 27.5, 30.5], 'Barcelona':[24.5, 25.5, 26.5, 25, 26.5, 24.5, 25]}\n",
        "ax[0, 0].plot(dias, temperaturas['Madrid'])\n",
        "ax[0, 1].plot(dias, temperaturas['Barcelona'], color = 'tab:orange')\n",
        "ax[1, 0].bar(dias, temperaturas['Madrid'])\n",
        "ax[1, 1].bar(dias, temperaturas['Barcelona'], color = 'tab:orange')\n",
        "plt.show()"
      ],
      "execution_count": null,
      "outputs": []
    }
  ]
}