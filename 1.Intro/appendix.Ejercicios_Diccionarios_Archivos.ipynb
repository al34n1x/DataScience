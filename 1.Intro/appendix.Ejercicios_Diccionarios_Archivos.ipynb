{
  "nbformat": 4,
  "nbformat_minor": 0,
  "metadata": {
    "colab": {
      "name": "Ejercicios_Diccionarios_Archivos.ipynb",
      "provenance": [],
      "authorship_tag": "ABX9TyO4d5J1EXQMZGEmXb+qLd/S",
      "include_colab_link": true
    },
    "kernelspec": {
      "name": "python3",
      "display_name": "Python 3"
    },
    "language_info": {
      "name": "python"
    }
  },
  "cells": [
    {
      "cell_type": "markdown",
      "metadata": {
        "id": "view-in-github",
        "colab_type": "text"
      },
      "source": [
        "<a href=\"https://colab.research.google.com/github/al34n1x/DataScience/blob/master/1.Intro/appendix.Ejercicios_Diccionarios_Archivos.ipynb\" target=\"_parent\"><img src=\"https://colab.research.google.com/assets/colab-badge.svg\" alt=\"Open In Colab\"/></a>"
      ]
    },
    {
      "cell_type": "markdown",
      "metadata": {
        "id": "A5ECzMJ2V3Cw"
      },
      "source": [
        "1. Realizar un programa que permita ingresar el nombre, apellido y edad de un usuario y lo guarde en un diccionario. (Utilizar funciones)"
      ]
    },
    {
      "cell_type": "code",
      "metadata": {
        "id": "QknrRlvsVx5t",
        "outputId": "22bca139-90b6-4c47-ca40-0f1ac059c6f4",
        "colab": {
          "base_uri": "https://localhost:8080/"
        }
      },
      "source": [
        "def carga_usuario():\n",
        "  \n",
        "  usuario={}                                  # 2. Creo el diccionario vacío\n",
        "  nombre = input(\"Ingrese Nombre: \")          # 3. Ingreso nombre, apellido y edad por teclado\n",
        "  apellido = input(\"Ingrese Apellido: \")\n",
        "  edad = int(input(\"Ingrese edad: \"))\n",
        "  usuario[\"nombre\"]=nombre                    # 4.Creo una key \"nombre\" dentro del diccionario y le asigno el valor que tome por teclado\n",
        "  usuario[\"apellido\"]=apellido                # 5.Creo una key \"apellido\" dentro del diccionario y le asigno el valor que tome por teclado\n",
        "  usuario[\"edad\"]=edad                        # 6.Creo una key \"edad\" dentro del diccionario y le asigno el valor que tome por teclado\n",
        "  return usuario                              # 7.retorno el diccionario a la variable dic que se encuentra debajo\n",
        "\n",
        "dic = carga_usuario() ## 1. Llamo a la función de carga de datos, como busco que la función se encargue de todo\n",
        "                      ## no le paso parametros, pero creo la variable dic que recibirá como respuesta de la funcion\n",
        "                      ## carga_usuario el diccionario completo\n",
        "\n",
        "print (dic)   # 8.Imprimo por pantalla la variable dic que contiene al diccionario.\n",
        "\n",
        "\n"
      ],
      "execution_count": null,
      "outputs": [
        {
          "output_type": "stream",
          "text": [
            "Ingrese Nombre: Ale\n",
            "Ingrese Apellido: C\n",
            "Ingrese edad: 39\n",
            "{'nombre': 'Ale', 'apellido': 'C', 'edad': 39}\n"
          ],
          "name": "stdout"
        }
      ]
    },
    {
      "cell_type": "code",
      "metadata": {
        "id": "t24k8WFJWJND",
        "outputId": "44123c9d-59e1-44aa-c962-788b48ed5258",
        "colab": {
          "base_uri": "https://localhost:8080/"
        }
      },
      "source": [
        "def carga_usuario():\n",
        "  \n",
        "  usuario={}                                  # 2. Creo el diccionario vacío\n",
        "  nombre = input(\"Ingrese Nombre: \")          # 3. Ingreso nombre, apellido y edad por teclado\n",
        "  apellido = input(\"Ingrese Apellido: \")\n",
        "  edad = int(input(\"Ingrese edad: \"))\n",
        "  usuario[\"nombre\"]=nombre                    # 4.Creo una key \"nombre\" dentro del diccionario y le asigno el valor que tome por teclado\n",
        "  usuario[\"apellido\"]=apellido                # 5.Creo una key \"apellido\" dentro del diccionario y le asigno el valor que tome por teclado\n",
        "  usuario[\"edad\"]=edad                        # 6.Creo una key \"edad\" dentro del diccionario y le asigno el valor que tome por teclado\n",
        "  return usuario                              # 7.retorno el diccionario a la variable dic que se encuentra debajo\n",
        "\n",
        "dic = carga_usuario() ## 1. Llamo a la función de carga de datos, como busco que la función se encargue de todo\n",
        "                      ## no le paso parametros, pero creo la variable dic que recibirá como respuesta de la funcion\n",
        "                      ## carga_usuario el diccionario completo\n",
        "\n",
        "print (dic)   # 8.Imprimo por pantalla la variable dic que contiene al diccionario.\n",
        "\n",
        "\n",
        "\n",
        "\n",
        "lista=[]\n",
        "i = 0\n",
        "cantidad = int(input(\"ingrese cantidad de usuarios a agregar:\"))\n",
        "\n",
        "for i in range(cantidad):\n",
        "  lista.append(carga_usuario())\n",
        "\n",
        "print (lista) \n",
        "\n"
      ],
      "execution_count": null,
      "outputs": [
        {
          "output_type": "stream",
          "text": [
            "ingrese cantidad de usuarios a agregar:2\n",
            "Ingrese Nombre: a\n",
            "Ingrese Apellido: v\n",
            "Ingrese edad: 2\n",
            "Ingrese Nombre: a\n",
            "Ingrese Apellido: f\n",
            "Ingrese edad: 4\n",
            "[{'nombre': 'a', 'apellido': 'v', 'edad': 2}, {'nombre': 'a', 'apellido': 'f', 'edad': 4}]\n"
          ],
          "name": "stdout"
        }
      ]
    },
    {
      "cell_type": "markdown",
      "metadata": {
        "id": "f1RyhPC4WX0u"
      },
      "source": [
        "3. Utilizando la siguiente estructura, cargar datos por teclado y guardarlo en una lista.\n",
        "\n",
        "```\n",
        "username:\n",
        "  Nombre:\n",
        "  Apellido:\n",
        "  Location:\n",
        "```\n",
        "\n",
        "(Utilizar Funciones)"
      ]
    },
    {
      "cell_type": "code",
      "metadata": {
        "id": "hDanxBcTWv6b"
      },
      "source": [],
      "execution_count": null,
      "outputs": []
    },
    {
      "cell_type": "markdown",
      "metadata": {
        "id": "Ncsr_9MhWxVe"
      },
      "source": [
        "4. Generar una estructura de datos cualesquiera, guardarlo en un archivo y luego abrir el mismo para imprimirlo por pantalla.\n",
        "(Utilizar Funciones)"
      ]
    },
    {
      "cell_type": "code",
      "metadata": {
        "id": "EgyN_3rYW_QU"
      },
      "source": [],
      "execution_count": null,
      "outputs": []
    }
  ]
}