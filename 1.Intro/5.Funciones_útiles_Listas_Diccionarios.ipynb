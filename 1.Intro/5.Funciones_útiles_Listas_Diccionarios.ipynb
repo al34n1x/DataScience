{
  "nbformat": 4,
  "nbformat_minor": 0,
  "metadata": {
    "colab": {
      "name": "Funciones útiles Listas_Diccionarios.ipynb",
      "provenance": [],
      "authorship_tag": "ABX9TyNJz7oErubGDfCWTwyJFlKz",
      "include_colab_link": true
    },
    "kernelspec": {
      "name": "python3",
      "display_name": "Python 3"
    },
    "language_info": {
      "name": "python"
    }
  },
  "cells": [
    {
      "cell_type": "markdown",
      "metadata": {
        "id": "view-in-github",
        "colab_type": "text"
      },
      "source": [
        "<a href=\"https://colab.research.google.com/github/al34n1x/DataScience/blob/master/1.Intro/5.Funciones_%C3%BAtiles_Listas_Diccionarios.ipynb\" target=\"_parent\"><img src=\"https://colab.research.google.com/assets/colab-badge.svg\" alt=\"Open In Colab\"/></a>"
      ]
    },
    {
      "cell_type": "markdown",
      "metadata": {
        "colab_type": "toc",
        "id": "MbRQ6hA3Pjw7"
      },
      "source": [
        ">[Funciones útiles Listas](#updateTitle=true&folderId=1hYY6URNFLa2w5I3uQbpDlwOox_am-5cM&scrollTo=ceRb7c19KUtV)\n",
        "\n",
        ">[Funciones útiles Diccionarios](#updateTitle=true&folderId=1hYY6URNFLa2w5I3uQbpDlwOox_am-5cM&scrollTo=vz2KCZoOMk0p)\n",
        "\n"
      ]
    },
    {
      "cell_type": "markdown",
      "metadata": {
        "id": "ceRb7c19KUtV"
      },
      "source": [
        "# Funciones útiles Listas\n",
        "\n",
        "* `sort()`: ordena la lista en orden ascendente.\n",
        "\n",
        "* `type(lista)`: Devuelve el tipo de clase de un objeto.\n",
        "\n",
        "* `append()`: agrega un solo elemento a una lista.\n",
        "\n",
        "* `extend()`: agrega varios elementos a una lista.\n",
        "\n",
        "* `index()`: Devuelve la primera aparición del valor especificado.\n",
        "\n",
        "* `max(lista)`: Devuelve un elemento de la lista con el valor máximo.\n",
        "\n",
        "* `min(lista)`: Devuelve un elemento de la lista con valor mínimo.\n",
        "\n",
        "* `len(lista)`: Da la longitud total de la lista."
      ]
    },
    {
      "cell_type": "code",
      "metadata": {
        "id": "GwGRgHVNKT5z"
      },
      "source": [
        "lista = [3,4,6,34,6,2,8]"
      ],
      "execution_count": null,
      "outputs": []
    },
    {
      "cell_type": "code",
      "metadata": {
        "id": "pg9o2kPdLG__"
      },
      "source": [
        "lista"
      ],
      "execution_count": null,
      "outputs": []
    },
    {
      "cell_type": "code",
      "metadata": {
        "id": "InACnOKHK3P2"
      },
      "source": [
        "lista.sort()\n",
        "lista"
      ],
      "execution_count": null,
      "outputs": []
    },
    {
      "cell_type": "code",
      "metadata": {
        "id": "rcfXju53K-Ef"
      },
      "source": [
        "print(type(lista))"
      ],
      "execution_count": null,
      "outputs": []
    },
    {
      "cell_type": "code",
      "metadata": {
        "id": "ChwNyaR0LBqw"
      },
      "source": [
        "lista.append(5)"
      ],
      "execution_count": null,
      "outputs": []
    },
    {
      "cell_type": "code",
      "metadata": {
        "id": "GHab16j5LJiX"
      },
      "source": [
        "lista.extend([78,41])"
      ],
      "execution_count": null,
      "outputs": []
    },
    {
      "cell_type": "code",
      "metadata": {
        "id": "AWbCcmj2LXRe"
      },
      "source": [
        "lista.index(6)"
      ],
      "execution_count": null,
      "outputs": []
    },
    {
      "cell_type": "code",
      "metadata": {
        "id": "JpSXJ5a6La3x"
      },
      "source": [
        "max(lista)"
      ],
      "execution_count": null,
      "outputs": []
    },
    {
      "cell_type": "code",
      "metadata": {
        "id": "bUOYdUamLfwf"
      },
      "source": [
        "min(lista)"
      ],
      "execution_count": null,
      "outputs": []
    },
    {
      "cell_type": "code",
      "metadata": {
        "id": "_BU0Q1qMLiej"
      },
      "source": [
        "len(lista)"
      ],
      "execution_count": null,
      "outputs": []
    },
    {
      "cell_type": "markdown",
      "metadata": {
        "id": "vz2KCZoOMk0p"
      },
      "source": [
        "# Funciones útiles Diccionarios\n",
        "\n",
        "* `clear()`: Elimina todos los elementos del diccionario\n",
        "* `copy()`: Devuelve una copia del diccionario\n",
        "* `fromkeys()`: Devuelve un diccionario con las claves y el valor especificados\n",
        "* `get()`: Devuelve el valor de la clave especificada\n",
        "* `items()`: Devuelve una lista que contiene una tupla para cada par clave-valor\n",
        "* `keys()`: Devuelve una lista que contiene las claves del diccionario.\n",
        "* `pop()`: Elimina el elemento con la clave especificada\n",
        "* `popitem()`: Elimina el último par clave-valor insertado\n",
        "* `setdefault()`: Devuelve el valor de la clave especificada. Si la clave no existe inserta la clave, con el valor especificado\n",
        "* `update()`: Actualiza el diccionario con los pares clave-valor especificados\n",
        "* `values()`: Devuelve una lista de todos los valores del diccionario."
      ]
    },
    {
      "cell_type": "code",
      "metadata": {
        "id": "MSuaXS-nNeay"
      },
      "source": [
        "dic = {\n",
        "    'Nombre':'Ryan',\n",
        "    'Apellido':'Reynolds'\n",
        "}\n",
        "\n",
        "dic"
      ],
      "execution_count": null,
      "outputs": []
    },
    {
      "cell_type": "code",
      "source": [
        "x = ('key1', 'key2', 'key3')\n",
        "y = 0\n",
        "\n",
        "thisdict = dict.fromkeys(x, y)\n",
        "\n",
        "thisdict"
      ],
      "metadata": {
        "id": "98OSTMKjRw4r"
      },
      "execution_count": null,
      "outputs": []
    },
    {
      "cell_type": "code",
      "metadata": {
        "id": "4CdSmB79Npv3"
      },
      "source": [
        "dic.clear()\n",
        "dic"
      ],
      "execution_count": null,
      "outputs": []
    },
    {
      "cell_type": "code",
      "metadata": {
        "id": "0bKU8fFuNw1Y"
      },
      "source": [
        "keys = {'a', 'e', 'i', 'o', 'u' }\n",
        "value = 'Vocales'\n",
        "\n",
        "vowels = dict.fromkeys(keys, value)\n",
        "print(vowels)"
      ],
      "execution_count": null,
      "outputs": []
    },
    {
      "cell_type": "code",
      "metadata": {
        "id": "zCq1tRwlOjYC"
      },
      "source": [
        "dic.get('Nombre')"
      ],
      "execution_count": null,
      "outputs": []
    },
    {
      "cell_type": "code",
      "metadata": {
        "id": "nW1utX1JOpUz"
      },
      "source": [
        "dic.items()"
      ],
      "execution_count": null,
      "outputs": []
    },
    {
      "cell_type": "code",
      "metadata": {
        "id": "IOLQQfPxOtgs"
      },
      "source": [
        "dic.keys()"
      ],
      "execution_count": null,
      "outputs": []
    },
    {
      "cell_type": "code",
      "metadata": {
        "id": "9wZ_zuevOwQT"
      },
      "source": [
        "dic.pop('Apellido')\n",
        "dic"
      ],
      "execution_count": null,
      "outputs": []
    },
    {
      "cell_type": "code",
      "metadata": {
        "id": "UfvCxhT6O-CC"
      },
      "source": [
        "dic = {\n",
        "    'Nombre':'Ryan',\n",
        "    'Apellido':'Reynolds'\n",
        "}\n",
        "\n",
        "dic"
      ],
      "execution_count": null,
      "outputs": []
    },
    {
      "cell_type": "code",
      "metadata": {
        "id": "PbvFH6i8O4Xk"
      },
      "source": [
        "dic.popitem()\n",
        "dic"
      ],
      "execution_count": null,
      "outputs": []
    },
    {
      "cell_type": "code",
      "metadata": {
        "id": "PuDfgl99PEQ6"
      },
      "source": [
        "dic.setdefault('Apellido','Reynolds')\n",
        "dic"
      ],
      "execution_count": null,
      "outputs": []
    },
    {
      "cell_type": "code",
      "metadata": {
        "id": "pDpWOYTfPMej"
      },
      "source": [
        "dic.update({'Personaje':'Deadpool'})\n",
        "dic"
      ],
      "execution_count": null,
      "outputs": []
    },
    {
      "cell_type": "code",
      "metadata": {
        "id": "vFkLwzEfPdFf"
      },
      "source": [
        "dic.values()"
      ],
      "execution_count": null,
      "outputs": []
    }
  ]
}