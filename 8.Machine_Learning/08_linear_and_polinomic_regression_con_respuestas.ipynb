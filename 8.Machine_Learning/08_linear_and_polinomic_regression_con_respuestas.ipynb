{
  "nbformat": 4,
  "nbformat_minor": 0,
  "metadata": {
    "kernelspec": {
      "display_name": "Python 3",
      "name": "python3"
    },
    "colab": {
      "provenance": [],
      "include_colab_link": true
    }
  },
  "cells": [
    {
      "cell_type": "markdown",
      "metadata": {
        "id": "view-in-github",
        "colab_type": "text"
      },
      "source": [
        "<a href=\"https://colab.research.google.com/github/al34n1x/DataScience/blob/master/8.Machine_Learning/08_linear_and_polinomic_regression_con_respuestas.ipynb\" target=\"_parent\"><img src=\"https://colab.research.google.com/assets/colab-badge.svg\" alt=\"Open In Colab\"/></a>"
      ]
    },
    {
      "cell_type": "markdown",
      "metadata": {
        "id": "gC_n35WJYE8F"
      },
      "source": [
        "\n",
        "\n",
        "<h1>Table of Contents<span class=\"tocSkip\"></span></h1>\n",
        "<div class=\"toc\"><ul class=\"toc-item\"><li><span><a href=\"#Machine-Learning:-Regresión\" data-toc-modified-id=\"Machine-Learning:-Regresión-1\"><span class=\"toc-item-num\">1&nbsp;&nbsp;</span>Machine Learning: Regresión</a></span><ul class=\"toc-item\"><li><span><a href=\"#Regresión-lineal-simple\" data-toc-modified-id=\"Regresión-lineal-simple-1.1\"><span class=\"toc-item-num\">1.1&nbsp;&nbsp;</span>Regresión lineal simple</a></span><ul class=\"toc-item\"><li><span><a href=\"#Scikit-learn\" data-toc-modified-id=\"Scikit-learn-1.1.1\"><span class=\"toc-item-num\">1.1.1&nbsp;&nbsp;</span>Scikit-learn</a></span></li></ul></li><li><span><a href=\"#Regresión-lineal-múltiple\" data-toc-modified-id=\"Regresión-lineal-múltiple-1.2\"><span class=\"toc-item-num\">1.2&nbsp;&nbsp;</span>Regresión lineal múltiple</a></span></li><li><span><a href=\"#Regresión-polinomica\" data-toc-modified-id=\"Regresión-polinomica-1.3\"><span class=\"toc-item-num\">1.3&nbsp;&nbsp;</span>Regresión polinomica</a></span></li></ul></li><li><span><a href=\"#Ejercicios\" data-toc-modified-id=\"Ejercicios-2\"><span class=\"toc-item-num\">2&nbsp;&nbsp;</span>Ejercicios</a></span><ul class=\"toc-item\"><li><span><a href=\"#Ejercicio-1\" data-toc-modified-id=\"Ejercicio-1-2.1\"><span class=\"toc-item-num\">2.1&nbsp;&nbsp;</span>Ejercicio 1</a></span></li><li><span><a href=\"#Ejercicio-2\" data-toc-modified-id=\"Ejercicio-2-2.2\"><span class=\"toc-item-num\">2.2&nbsp;&nbsp;</span>Ejercicio 2</a></span></li></ul></li></ul></div>"
      ]
    },
    {
      "cell_type": "markdown",
      "metadata": {
        "id": "ATLmeYFoYE8I"
      },
      "source": [
        "\n",
        "\n",
        "# Machine Learning: Regresión"
      ]
    },
    {
      "cell_type": "markdown",
      "metadata": {
        "id": "kGEhdNKUYE8J"
      },
      "source": [
        "\n",
        "\n",
        "**¿Qué es regresión?**\n",
        "\n",
        "\n",
        "Es un proceso que permite la estimación de las relaciones funcionales entre variables. En el campo de aprendizaje automático es ampliamente utilizado para la predicción del valor de una variable dependiente, a partir de una o más variables explicativas. El modelo de regresión puede ser lineal o no lineal.\n",
        "\n",
        "\n",
        "**¿Qué preguntas se pueden responder mediante regresiones?**\n",
        "\n",
        "- ¿Cómo varían el volumen de ventas cuando subimos los precios?\n",
        "- ¿Afecta el nombre de un producto a su contratación?\n",
        "- ¿Cuántos clientes contratarán hoy un plan de pensiones?\n",
        "\n",
        "\n",
        "**¿Cuándo usar regresión lineal?**\n",
        "\n",
        "- Cuando queremos predecir el valor de una variable a partir de otras.\n",
        "- Si queremos explicar o entender la relación entre dos o más atributos."
      ]
    },
    {
      "cell_type": "markdown",
      "metadata": {
        "id": "TBmWmAz5YE8L"
      },
      "source": [
        "\n",
        "\n",
        "---\n",
        "\n",
        "## Regresión lineal simple\n",
        "\n",
        "Los problemas de regresión tienen una estructura común: una variable respuesta ($y$) que puede ser expresada como combinación de una o más variables independientes ($x_i$), llamadas covariables o predictores. El algoritmo de regresión intenta construir un modelo que exprese la variable respuesta en función de las covariables, como:\n",
        "\n",
        "$$y = a_1x_1 + a_2x_2 + \\ldots + a_nx_n$$\n",
        "\n",
        "donde $a_i$ son los parámetros del modelo, llamados coeficientes. El modelo se ajusta mediante Mínimos Cuadrados Ordinarios (OLS en inglés), donde los coeficientes son elegidos para minimizar el cuadrado de la distancia (vertical) entre los valores predichos y los reales.\n",
        "\n",
        "La regresión lineal simple considera una sola variable independiente, es decir:\n",
        "\n",
        "$$y = ax$$\n",
        "*Ejemplo*. Para entender las funcionalidades de Python para regresión vamos a construir un modelo sencillo de regresión a partir de datos sintéticos usando varias librerías científicas de Python.  \n",
        "\n",
        "Para ello vamos a generar 300 valores aleatorios de una distribución Gaussiana, los multiplicamos por unos coeficientes que les den una forma aproximadamente lineal."
      ]
    },
    {
      "cell_type": "code",
      "metadata": {
        "id": "X3Wo3vDTYE8N"
      },
      "source": [
        "%matplotlib inline\n",
        "import numpy as np\n",
        "import matplotlib.pyplot as plt\n",
        "import seaborn as sns"
      ],
      "execution_count": 305,
      "outputs": []
    },
    {
      "cell_type": "markdown",
      "metadata": {
        "id": "sgQRe_UuYE8Q"
      },
      "source": [
        "\n",
        "\n",
        "Números decimales muestreados de una distribución Normal estándar"
      ]
    },
    {
      "cell_type": "code",
      "metadata": {
        "id": "xFbTbPfxYE8S"
      },
      "source": [
        "datas = np.random.randn(300, 2)\n",
        "weights = np.array([[0.6, .4], [.4, 0.6]])\n",
        "datas = np.dot(datas, weights)\n",
        "\n",
        "x = datas[:,0]\n",
        "y = datas[:,1]"
      ],
      "execution_count": 306,
      "outputs": []
    },
    {
      "cell_type": "code",
      "metadata": {
        "id": "EhGkUKGeYE8V",
        "colab": {
          "base_uri": "https://localhost:8080/",
          "height": 482
        },
        "outputId": "e2c5f7dd-a127-4a42-8274-75748a92286a"
      },
      "source": [
        "plt.plot(x, y, \"ro\", c='orange', alpha=0.3)"
      ],
      "execution_count": 307,
      "outputs": [
        {
          "output_type": "stream",
          "name": "stderr",
          "text": [
            "<ipython-input-307-bb3ab4332391>:1: UserWarning: color is redundantly defined by the 'color' keyword argument and the fmt string \"ro\" (-> color='r'). The keyword argument will take precedence.\n",
            "  plt.plot(x, y, \"ro\", c='orange', alpha=0.3)\n"
          ]
        },
        {
          "output_type": "execute_result",
          "data": {
            "text/plain": [
              "[<matplotlib.lines.Line2D at 0x7b5820433cd0>]"
            ]
          },
          "metadata": {},
          "execution_count": 307
        },
        {
          "output_type": "display_data",
          "data": {
            "text/plain": [
              "<Figure size 640x480 with 1 Axes>"
            ],
            "image/png": "[encoded data removed]"
          },
          "metadata": {}
        }
      ]
    },
    {
      "cell_type": "code",
      "metadata": {
        "id": "Cd3Xz1TTYE8Z",
        "colab": {
          "base_uri": "https://localhost:8080/"
        },
        "outputId": "c9d568f1-df67-46d7-9098-4e479bd63fe4"
      },
      "source": [
        "type(x)"
      ],
      "execution_count": 308,
      "outputs": [
        {
          "output_type": "execute_result",
          "data": {
            "text/plain": [
              "numpy.ndarray"
            ]
          },
          "metadata": {},
          "execution_count": 308
        }
      ]
    },
    {
      "cell_type": "markdown",
      "metadata": {
        "id": "3GYqEhrPYE8d"
      },
      "source": [
        "\n",
        "\n",
        "### Scikit-learn\n",
        "\n",
        "Scikit-learn posee una interfaz orientada a objetos basada en el concepto de un *Estimador*\n",
        "\n",
        "El método <code>Estimator.fit</code> establece el estado del estimador de acuerdo a los datos de entrenamiento. Usualmente estos datos están representdos por un `numpy.array` bidimensional $x$ con dimensiones <code>(n_muestras, n_predictores)</code> que contiene la matriz de características, y un `numpy.array` unidimensional que contiene los valores de la variable de respuesta $y$."
      ]
    },
    {
      "cell_type": "code",
      "metadata": {
        "id": "I9-GgQjYYE8h"
      },
      "source": [
        "import numpy as np\n",
        "\n",
        "from sklearn.linear_model import LinearRegression\n",
        "from sklearn.metrics import mean_absolute_error"
      ],
      "execution_count": 309,
      "outputs": []
    },
    {
      "cell_type": "code",
      "metadata": {
        "id": "JGAdSpIZYE8l",
        "colab": {
          "base_uri": "https://localhost:8080/"
        },
        "outputId": "acb683ed-bd56-4177-fd91-131a7c7d505b"
      },
      "source": [
        "help(LinearRegression)"
      ],
      "execution_count": 310,
      "outputs": [
        {
          "output_type": "stream",
          "name": "stdout",
          "text": [
            "Help on class LinearRegression in module sklearn.linear_model._base:\n",
            "\n",
            "class LinearRegression(sklearn.base.MultiOutputMixin, sklearn.base.RegressorMixin, LinearModel)\n",
            " |  LinearRegression(*, fit_intercept=True, copy_X=True, n_jobs=None, positive=False)\n",
            " |  \n",
            " |  Ordinary least squares Linear Regression.\n",
            " |  \n",
            " |  LinearRegression fits a linear model with coefficients w = (w1, ..., wp)\n",
            " |  to minimize the residual sum of squares between the observed targets in\n",
            " |  the dataset, and the targets predicted by the linear approximation.\n",
            " |  \n",
            " |  Parameters\n",
            " |  ----------\n",
            " |  fit_intercept : bool, default=True\n",
            " |      Whether to calculate the intercept for this model. If set\n",
            " |      to False, no intercept will be used in calculations\n",
            " |      (i.e. data is expected to be centered).\n",
            " |  \n",
            " |  copy_X : bool, default=True\n",
            " |      If True, X will be copied; else, it may be overwritten.\n",
            " |  \n",
            " |  n_jobs : int, default=None\n",
            " |      The number of jobs to use for the computation. This will only provide\n",
            " |      speedup in case of sufficiently large problems, that is if firstly\n",
            " |      `n_targets > 1` and secondly `X` is sparse or if `positive` is set\n",
            " |      to `True`. ``None`` means 1 unless in a\n",
            " |      :obj:`joblib.parallel_backend` context. ``-1`` means using all\n",
            " |      processors. See :term:`Glossary <n_jobs>` for more details.\n",
            " |  \n",
            " |  positive : bool, default=False\n",
            " |      When set to ``True``, forces the coefficients to be positive. This\n",
            " |      option is only supported for dense arrays.\n",
            " |  \n",
            " |      .. versionadded:: 0.24\n",
            " |  \n",
            " |  Attributes\n",
            " |  ----------\n",
            " |  coef_ : array of shape (n_features, ) or (n_targets, n_features)\n",
            " |      Estimated coefficients for the linear regression problem.\n",
            " |      If multiple targets are passed during the fit (y 2D), this\n",
            " |      is a 2D array of shape (n_targets, n_features), while if only\n",
            " |      one target is passed, this is a 1D array of length n_features.\n",
            " |  \n",
            " |  rank_ : int\n",
            " |      Rank of matrix `X`. Only available when `X` is dense.\n",
            " |  \n",
            " |  singular_ : array of shape (min(X, y),)\n",
            " |      Singular values of `X`. Only available when `X` is dense.\n",
            " |  \n",
            " |  intercept_ : float or array of shape (n_targets,)\n",
            " |      Independent term in the linear model. Set to 0.0 if\n",
            " |      `fit_intercept = False`.\n",
            " |  \n",
            " |  n_features_in_ : int\n",
            " |      Number of features seen during :term:`fit`.\n",
            " |  \n",
            " |      .. versionadded:: 0.24\n",
            " |  \n",
            " |  feature_names_in_ : ndarray of shape (`n_features_in_`,)\n",
            " |      Names of features seen during :term:`fit`. Defined only when `X`\n",
            " |      has feature names that are all strings.\n",
            " |  \n",
            " |      .. versionadded:: 1.0\n",
            " |  \n",
            " |  See Also\n",
            " |  --------\n",
            " |  Ridge : Ridge regression addresses some of the\n",
            " |      problems of Ordinary Least Squares by imposing a penalty on the\n",
            " |      size of the coefficients with l2 regularization.\n",
            " |  Lasso : The Lasso is a linear model that estimates\n",
            " |      sparse coefficients with l1 regularization.\n",
            " |  ElasticNet : Elastic-Net is a linear regression\n",
            " |      model trained with both l1 and l2 -norm regularization of the\n",
            " |      coefficients.\n",
            " |  \n",
            " |  Notes\n",
            " |  -----\n",
            " |  From the implementation point of view, this is just plain Ordinary\n",
            " |  Least Squares (scipy.linalg.lstsq) or Non Negative Least Squares\n",
            " |  (scipy.optimize.nnls) wrapped as a predictor object.\n",
            " |  \n",
            " |  Examples\n",
            " |  --------\n",
            " |  >>> import numpy as np\n",
            " |  >>> from sklearn.linear_model import LinearRegression\n",
            " |  >>> X = np.array([[1, 1], [1, 2], [2, 2], [2, 3]])\n",
            " |  >>> # y = 1 * x_0 + 2 * x_1 + 3\n",
            " |  >>> y = np.dot(X, np.array([1, 2])) + 3\n",
            " |  >>> reg = LinearRegression().fit(X, y)\n",
            " |  >>> reg.score(X, y)\n",
            " |  1.0\n",
            " |  >>> reg.coef_\n",
            " |  array([1., 2.])\n",
            " |  >>> reg.intercept_\n",
            " |  3.0...\n",
            " |  >>> reg.predict(np.array([[3, 5]]))\n",
            " |  array([16.])\n",
            " |  \n",
            " |  Method resolution order:\n",
            " |      LinearRegression\n",
            " |      sklearn.base.MultiOutputMixin\n",
            " |      sklearn.base.RegressorMixin\n",
            " |      LinearModel\n",
            " |      sklearn.base.BaseEstimator\n",
            " |      builtins.object\n",
            " |  \n",
            " |  Methods defined here:\n",
            " |  \n",
            " |  __init__(self, *, fit_intercept=True, copy_X=True, n_jobs=None, positive=False)\n",
            " |      Initialize self.  See help(type(self)) for accurate signature.\n",
            " |  \n",
            " |  fit(self, X, y, sample_weight=None)\n",
            " |      Fit linear model.\n",
            " |      \n",
            " |      Parameters\n",
            " |      ----------\n",
            " |      X : {array-like, sparse matrix} of shape (n_samples, n_features)\n",
            " |          Training data.\n",
            " |      \n",
            " |      y : array-like of shape (n_samples,) or (n_samples, n_targets)\n",
            " |          Target values. Will be cast to X's dtype if necessary.\n",
            " |      \n",
            " |      sample_weight : array-like of shape (n_samples,), default=None\n",
            " |          Individual weights for each sample.\n",
            " |      \n",
            " |          .. versionadded:: 0.17\n",
            " |             parameter *sample_weight* support to LinearRegression.\n",
            " |      \n",
            " |      Returns\n",
            " |      -------\n",
            " |      self : object\n",
            " |          Fitted Estimator.\n",
            " |  \n",
            " |  ----------------------------------------------------------------------\n",
            " |  Data and other attributes defined here:\n",
            " |  \n",
            " |  __abstractmethods__ = frozenset()\n",
            " |  \n",
            " |  __annotations__ = {'_parameter_constraints': <class 'dict'>}\n",
            " |  \n",
            " |  ----------------------------------------------------------------------\n",
            " |  Data descriptors inherited from sklearn.base.MultiOutputMixin:\n",
            " |  \n",
            " |  __dict__\n",
            " |      dictionary for instance variables (if defined)\n",
            " |  \n",
            " |  __weakref__\n",
            " |      list of weak references to the object (if defined)\n",
            " |  \n",
            " |  ----------------------------------------------------------------------\n",
            " |  Methods inherited from sklearn.base.RegressorMixin:\n",
            " |  \n",
            " |  score(self, X, y, sample_weight=None)\n",
            " |      Return the coefficient of determination of the prediction.\n",
            " |      \n",
            " |      The coefficient of determination :math:`R^2` is defined as\n",
            " |      :math:`(1 - \\frac{u}{v})`, where :math:`u` is the residual\n",
            " |      sum of squares ``((y_true - y_pred)** 2).sum()`` and :math:`v`\n",
            " |      is the total sum of squares ``((y_true - y_true.mean()) ** 2).sum()``.\n",
            " |      The best possible score is 1.0 and it can be negative (because the\n",
            " |      model can be arbitrarily worse). A constant model that always predicts\n",
            " |      the expected value of `y`, disregarding the input features, would get\n",
            " |      a :math:`R^2` score of 0.0.\n",
            " |      \n",
            " |      Parameters\n",
            " |      ----------\n",
            " |      X : array-like of shape (n_samples, n_features)\n",
            " |          Test samples. For some estimators this may be a precomputed\n",
            " |          kernel matrix or a list of generic objects instead with shape\n",
            " |          ``(n_samples, n_samples_fitted)``, where ``n_samples_fitted``\n",
            " |          is the number of samples used in the fitting for the estimator.\n",
            " |      \n",
            " |      y : array-like of shape (n_samples,) or (n_samples, n_outputs)\n",
            " |          True values for `X`.\n",
            " |      \n",
            " |      sample_weight : array-like of shape (n_samples,), default=None\n",
            " |          Sample weights.\n",
            " |      \n",
            " |      Returns\n",
            " |      -------\n",
            " |      score : float\n",
            " |          :math:`R^2` of ``self.predict(X)`` w.r.t. `y`.\n",
            " |      \n",
            " |      Notes\n",
            " |      -----\n",
            " |      The :math:`R^2` score used when calling ``score`` on a regressor uses\n",
            " |      ``multioutput='uniform_average'`` from version 0.23 to keep consistent\n",
            " |      with default value of :func:`~sklearn.metrics.r2_score`.\n",
            " |      This influences the ``score`` method of all the multioutput\n",
            " |      regressors (except for\n",
            " |      :class:`~sklearn.multioutput.MultiOutputRegressor`).\n",
            " |  \n",
            " |  ----------------------------------------------------------------------\n",
            " |  Methods inherited from LinearModel:\n",
            " |  \n",
            " |  predict(self, X)\n",
            " |      Predict using the linear model.\n",
            " |      \n",
            " |      Parameters\n",
            " |      ----------\n",
            " |      X : array-like or sparse matrix, shape (n_samples, n_features)\n",
            " |          Samples.\n",
            " |      \n",
            " |      Returns\n",
            " |      -------\n",
            " |      C : array, shape (n_samples,)\n",
            " |          Returns predicted values.\n",
            " |  \n",
            " |  ----------------------------------------------------------------------\n",
            " |  Methods inherited from sklearn.base.BaseEstimator:\n",
            " |  \n",
            " |  __getstate__(self)\n",
            " |  \n",
            " |  __repr__(self, N_CHAR_MAX=700)\n",
            " |      Return repr(self).\n",
            " |  \n",
            " |  __setstate__(self, state)\n",
            " |  \n",
            " |  get_params(self, deep=True)\n",
            " |      Get parameters for this estimator.\n",
            " |      \n",
            " |      Parameters\n",
            " |      ----------\n",
            " |      deep : bool, default=True\n",
            " |          If True, will return the parameters for this estimator and\n",
            " |          contained subobjects that are estimators.\n",
            " |      \n",
            " |      Returns\n",
            " |      -------\n",
            " |      params : dict\n",
            " |          Parameter names mapped to their values.\n",
            " |  \n",
            " |  set_params(self, **params)\n",
            " |      Set the parameters of this estimator.\n",
            " |      \n",
            " |      The method works on simple estimators as well as on nested objects\n",
            " |      (such as :class:`~sklearn.pipeline.Pipeline`). The latter have\n",
            " |      parameters of the form ``<component>__<parameter>`` so that it's\n",
            " |      possible to update each component of a nested object.\n",
            " |      \n",
            " |      Parameters\n",
            " |      ----------\n",
            " |      **params : dict\n",
            " |          Estimator parameters.\n",
            " |      \n",
            " |      Returns\n",
            " |      -------\n",
            " |      self : estimator instance\n",
            " |          Estimator instance.\n",
            "\n"
          ]
        }
      ]
    },
    {
      "cell_type": "code",
      "metadata": {
        "id": "wlfCmSKMYE8o",
        "colab": {
          "base_uri": "https://localhost:8080/"
        },
        "outputId": "97519380-067c-48c9-cbd7-816a43cf68cf"
      },
      "source": [
        "x.shape"
      ],
      "execution_count": 311,
      "outputs": [
        {
          "output_type": "execute_result",
          "data": {
            "text/plain": [
              "(300,)"
            ]
          },
          "metadata": {},
          "execution_count": 311
        }
      ]
    },
    {
      "cell_type": "code",
      "metadata": {
        "id": "aK6JSJVSYE8r"
      },
      "source": [
        "x = x.reshape(-1,1)"
      ],
      "execution_count": 312,
      "outputs": []
    },
    {
      "cell_type": "code",
      "metadata": {
        "id": "-h_8xnZ4YE86",
        "colab": {
          "base_uri": "https://localhost:8080/",
          "height": 482
        },
        "outputId": "e1834d7a-2da3-45c7-f160-73dfe283a1f3"
      },
      "source": [
        "#regr = LinearRegression(fit_intercept=True)\n",
        "regr = LinearRegression() #por defecto es true\n",
        "regr.fit(x, y)\n",
        "y_hat = regr.predict(x)\n",
        "\n",
        "print('Coefficients: ', regr.intercept_, regr.coef_)\n",
        "print('Average error: ', mean_absolute_error(y, y_hat))\n",
        "\n",
        "plt.scatter(x, y, c='orange', marker='o', alpha=0.5)\n",
        "plt.plot(x, y_hat, alpha=0.5)"
      ],
      "execution_count": 313,
      "outputs": [
        {
          "output_type": "stream",
          "name": "stdout",
          "text": [
            "Coefficients:  -0.01365104516931767 [0.93596316]\n",
            "Average error:  0.2130345925184231\n"
          ]
        },
        {
          "output_type": "execute_result",
          "data": {
            "text/plain": [
              "[<matplotlib.lines.Line2D at 0x7b58203158a0>]"
            ]
          },
          "metadata": {},
          "execution_count": 313
        },
        {
          "output_type": "display_data",
          "data": {
            "text/plain": [
              "<Figure size 640x480 with 1 Axes>"
            ],
            "image/png": "[encoded data removed]"
          },
          "metadata": {}
        }
      ]
    },
    {
      "cell_type": "markdown",
      "metadata": {
        "id": "JlV5Mkr2YE8-"
      },
      "source": [
        "\n",
        "\n",
        "El método ``Estimator.predict`` permite hacer predicciones. En el caso de regresión, este método devuelve los valores predichos por el modelo.\n",
        "\n",
        "Existe también un objeto `Estimator` especial llamado `Transformer` que permite realizar transformaciones sobre los datos. En el caso de regresión, una transformación adecuada es la de normalizar los predictores, tal que tengan media cero y desviación típica 1 con ``sklearn.preprocessing.StandardScaler``"
      ]
    },
    {
      "cell_type": "markdown",
      "metadata": {
        "id": "ZzsEPbMlYE9C"
      },
      "source": [
        "\n",
        "\n",
        "---\n",
        "\n",
        "## Regresión lineal múltiple\n",
        "\n",
        "Para ajustar modelo de regresión múltiple podemos usar la misma librería sklearn, solo que ahora  x no será un vector columna, sino que contendrá varias columnas.\n",
        "\n",
        "En este ejemplo usaremos un dataset que contiene diez variables con el estado basal de cada paciente y una variable cuantitativa que mide la progresión de su enfermedad un año después."
      ]
    },
    {
      "cell_type": "code",
      "metadata": {
        "id": "6bsNAHaHYE9E"
      },
      "source": [
        "%matplotlib inline\n",
        "import pandas as pd\n",
        "import numpy as np\n",
        "\n",
        "from sklearn.linear_model import LinearRegression\n",
        "from sklearn.metrics import mean_absolute_error\n",
        "from sklearn import datasets"
      ],
      "execution_count": 314,
      "outputs": []
    },
    {
      "cell_type": "code",
      "metadata": {
        "id": "QiA6zQelYE9J"
      },
      "source": [
        "data = datasets.load_diabetes()"
      ],
      "execution_count": 315,
      "outputs": []
    },
    {
      "cell_type": "markdown",
      "metadata": {
        "id": "JQ6-PwLgYE9M"
      },
      "source": [
        "\n",
        "\n",
        "Let's explore the dataset"
      ]
    },
    {
      "cell_type": "code",
      "metadata": {
        "id": "CsVYQY1QFHhL",
        "colab": {
          "base_uri": "https://localhost:8080/"
        },
        "outputId": "b72349e9-322d-4a28-b96c-f3c982b7d89c"
      },
      "source": [
        "print(data.DESCR)"
      ],
      "execution_count": 316,
      "outputs": [
        {
          "output_type": "stream",
          "name": "stdout",
          "text": [
            ".. _diabetes_dataset:\n",
            "\n",
            "Diabetes dataset\n",
            "----------------\n",
            "\n",
            "Ten baseline variables, age, sex, body mass index, average blood\n",
            "pressure, and six blood serum measurements were obtained for each of n =\n",
            "442 diabetes patients, as well as the response of interest, a\n",
            "quantitative measure of disease progression one year after baseline.\n",
            "\n",
            "**Data Set Characteristics:**\n",
            "\n",
            "  :Number of Instances: 442\n",
            "\n",
            "  :Number of Attributes: First 10 columns are numeric predictive values\n",
            "\n",
            "  :Target: Column 11 is a quantitative measure of disease progression one year after baseline\n",
            "\n",
            "  :Attribute Information:\n",
            "      - age     age in years\n",
            "      - sex\n",
            "      - bmi     body mass index\n",
            "      - bp      average blood pressure\n",
            "      - s1      tc, total serum cholesterol\n",
            "      - s2      ldl, low-density lipoproteins\n",
            "      - s3      hdl, high-density lipoproteins\n",
            "      - s4      tch, total cholesterol / HDL\n",
            "      - s5      ltg, possibly log of serum triglycerides level\n",
            "      - s6      glu, blood sugar level\n",
            "\n",
            "Note: Each of these 10 feature variables have been mean centered and scaled by the standard deviation times the square root of `n_samples` (i.e. the sum of squares of each column totals 1).\n",
            "\n",
            "Source URL:\n",
            "https://www4.stat.ncsu.edu/~boos/var.select/diabetes.html\n",
            "\n",
            "For more information see:\n",
            "Bradley Efron, Trevor Hastie, Iain Johnstone and Robert Tibshirani (2004) \"Least Angle Regression,\" Annals of Statistics (with discussion), 407-499.\n",
            "(https://web.stanford.edu/~hastie/Papers/LARS/LeastAngle_2002.pdf)\n",
            "\n"
          ]
        }
      ]
    },
    {
      "cell_type": "code",
      "metadata": {
        "id": "WbECqyEqYE9P"
      },
      "source": [
        "diabetes_cols = ['Age', 'Sex', 'Body mass index', 'Average blood pressure',\n",
        "                 'S1', 'S2', 'S3', 'S4', 'S5', 'S6']      # S1-S6 are 6 blood-serum measurements on each patient"
      ],
      "execution_count": 317,
      "outputs": []
    },
    {
      "cell_type": "code",
      "metadata": {
        "id": "0v96gy-DYE9U",
        "colab": {
          "base_uri": "https://localhost:8080/",
          "height": 206
        },
        "outputId": "854bd301-7846-4bb8-f17c-82371ba73db6"
      },
      "source": [
        "diabetes_df = pd.DataFrame(data.data, columns=diabetes_cols)\n",
        "diabetes_df.head()"
      ],
      "execution_count": 318,
      "outputs": [
        {
          "output_type": "execute_result",
          "data": {
            "text/plain": [
              "        Age       Sex  Body mass index  Average blood pressure        S1  \\\n",
              "0  0.038076  0.050680         0.061696                0.021872 -0.044223   \n",
              "1 -0.001882 -0.044642        -0.051474               -0.026328 -0.008449   \n",
              "2  0.085299  0.050680         0.044451               -0.005670 -0.045599   \n",
              "3 -0.089063 -0.044642        -0.011595               -0.036656  0.012191   \n",
              "4  0.005383 -0.044642        -0.036385                0.021872  0.003935   \n",
              "\n",
              "         S2        S3        S4        S5        S6  \n",
              "0 -0.034821 -0.043401 -0.002592  0.019907 -0.017646  \n",
              "1 -0.019163  0.074412 -0.039493 -0.068332 -0.092204  \n",
              "2 -0.034194 -0.032356 -0.002592  0.002861 -0.025930  \n",
              "3  0.024991 -0.036038  0.034309  0.022688 -0.009362  \n",
              "4  0.015596  0.008142 -0.002592 -0.031988 -0.046641  "
            ],
            "text/html": [
              "\n",
              "  <div id=\"df-3437421e-1c3d-4a36-b660-2da09c6be073\" class=\"colab-df-container\">\n",
              "    <div>\n",
              "<style scoped>\n",
              "    .dataframe tbody tr th:only-of-type {\n",
              "        vertical-align: middle;\n",
              "    }\n",
              "\n",
              "    .dataframe tbody tr th {\n",
              "        vertical-align: top;\n",
              "    }\n",
              "\n",
              "    .dataframe thead th {\n",
              "        text-align: right;\n",
              "    }\n",
              "</style>\n",
              "<table border=\"1\" class=\"dataframe\">\n",
              "  <thead>\n",
              "    <tr style=\"text-align: right;\">\n",
              "      <th></th>\n",
              "      <th>Age</th>\n",
              "      <th>Sex</th>\n",
              "      <th>Body mass index</th>\n",
              "      <th>Average blood pressure</th>\n",
              "      <th>S1</th>\n",
              "      <th>S2</th>\n",
              "      <th>S3</th>\n",
              "      <th>S4</th>\n",
              "      <th>S5</th>\n",
              "      <th>S6</th>\n",
              "    </tr>\n",
              "  </thead>\n",
              "  <tbody>\n",
              "    <tr>\n",
              "      <th>0</th>\n",
              "      <td>0.038076</td>\n",
              "      <td>0.050680</td>\n",
              "      <td>0.061696</td>\n",
              "      <td>0.021872</td>\n",
              "      <td>-0.044223</td>\n",
              "      <td>-0.034821</td>\n",
              "      <td>-0.043401</td>\n",
              "      <td>-0.002592</td>\n",
              "      <td>0.019907</td>\n",
              "      <td>-0.017646</td>\n",
              "    </tr>\n",
              "    <tr>\n",
              "      <th>1</th>\n",
              "      <td>-0.001882</td>\n",
              "      <td>-0.044642</td>\n",
              "      <td>-0.051474</td>\n",
              "      <td>-0.026328</td>\n",
              "      <td>-0.008449</td>\n",
              "      <td>-0.019163</td>\n",
              "      <td>0.074412</td>\n",
              "      <td>-0.039493</td>\n",
              "      <td>-0.068332</td>\n",
              "      <td>-0.092204</td>\n",
              "    </tr>\n",
              "    <tr>\n",
              "      <th>2</th>\n",
              "      <td>0.085299</td>\n",
              "      <td>0.050680</td>\n",
              "      <td>0.044451</td>\n",
              "      <td>-0.005670</td>\n",
              "      <td>-0.045599</td>\n",
              "      <td>-0.034194</td>\n",
              "      <td>-0.032356</td>\n",
              "      <td>-0.002592</td>\n",
              "      <td>0.002861</td>\n",
              "      <td>-0.025930</td>\n",
              "    </tr>\n",
              "    <tr>\n",
              "      <th>3</th>\n",
              "      <td>-0.089063</td>\n",
              "      <td>-0.044642</td>\n",
              "      <td>-0.011595</td>\n",
              "      <td>-0.036656</td>\n",
              "      <td>0.012191</td>\n",
              "      <td>0.024991</td>\n",
              "      <td>-0.036038</td>\n",
              "      <td>0.034309</td>\n",
              "      <td>0.022688</td>\n",
              "      <td>-0.009362</td>\n",
              "    </tr>\n",
              "    <tr>\n",
              "      <th>4</th>\n",
              "      <td>0.005383</td>\n",
              "      <td>-0.044642</td>\n",
              "      <td>-0.036385</td>\n",
              "      <td>0.021872</td>\n",
              "      <td>0.003935</td>\n",
              "      <td>0.015596</td>\n",
              "      <td>0.008142</td>\n",
              "      <td>-0.002592</td>\n",
              "      <td>-0.031988</td>\n",
              "      <td>-0.046641</td>\n",
              "    </tr>\n",
              "  </tbody>\n",
              "</table>\n",
              "</div>\n",
              "    <div class=\"colab-df-buttons\">\n",
              "\n",
              "  <div class=\"colab-df-container\">\n",
              "    <button class=\"colab-df-convert\" onclick=\"convertToInteractive('df-3437421e-1c3d-4a36-b660-2da09c6be073')\"\n",
              "            title=\"Convert this dataframe to an interactive table.\"\n",
              "            style=\"display:none;\">\n",
              "\n",
              "  <svg xmlns=\"http://www.w3.org/2000/svg\" height=\"24px\" viewBox=\"0 -960 960 960\">\n",
              "    <path d=\"M120-120v-720h720v720H120Zm60-500h600v-160H180v160Zm220 220h160v-160H400v160Zm0 220h160v-160H400v160ZM180-400h160v-160H180v160Zm440 0h160v-160H620v160ZM180-180h160v-160H180v160Zm440 0h160v-160H620v160Z\"/>\n",
              "  </svg>\n",
              "    </button>\n",
              "\n",
              "  <style>\n",
              "    .colab-df-container {\n",
              "      display:flex;\n",
              "      gap: 12px;\n",
              "    }\n",
              "\n",
              "    .colab-df-convert {\n",
              "      background-color: #E8F0FE;\n",
              "      border: none;\n",
              "      border-radius: 50%;\n",
              "      cursor: pointer;\n",
              "      display: none;\n",
              "      fill: #1967D2;\n",
              "      height: 32px;\n",
              "      padding: 0 0 0 0;\n",
              "      width: 32px;\n",
              "    }\n",
              "\n",
              "    .colab-df-convert:hover {\n",
              "      background-color: #E2EBFA;\n",
              "      box-shadow: 0px 1px 2px rgba(60, 64, 67, 0.3), 0px 1px 3px 1px rgba(60, 64, 67, 0.15);\n",
              "      fill: #174EA6;\n",
              "    }\n",
              "\n",
              "    .colab-df-buttons div {\n",
              "      margin-bottom: 4px;\n",
              "    }\n",
              "\n",
              "    [theme=dark] .colab-df-convert {\n",
              "      background-color: #3B4455;\n",
              "      fill: #D2E3FC;\n",
              "    }\n",
              "\n",
              "    [theme=dark] .colab-df-convert:hover {\n",
              "      background-color: #434B5C;\n",
              "      box-shadow: 0px 1px 3px 1px rgba(0, 0, 0, 0.15);\n",
              "      filter: drop-shadow(0px 1px 2px rgba(0, 0, 0, 0.3));\n",
              "      fill: #FFFFFF;\n",
              "    }\n",
              "  </style>\n",
              "\n",
              "    <script>\n",
              "      const buttonEl =\n",
              "        document.querySelector('#df-3437421e-1c3d-4a36-b660-2da09c6be073 button.colab-df-convert');\n",
              "      buttonEl.style.display =\n",
              "        google.colab.kernel.accessAllowed ? 'block' : 'none';\n",
              "\n",
              "      async function convertToInteractive(key) {\n",
              "        const element = document.querySelector('#df-3437421e-1c3d-4a36-b660-2da09c6be073');\n",
              "        const dataTable =\n",
              "          await google.colab.kernel.invokeFunction('convertToInteractive',\n",
              "                                                    [key], {});\n",
              "        if (!dataTable) return;\n",
              "\n",
              "        const docLinkHtml = 'Like what you see? Visit the ' +\n",
              "          '<a target=\"_blank\" href=https://colab.research.google.com/notebooks/data_table.ipynb>data table notebook</a>'\n",
              "          + ' to learn more about interactive tables.';\n",
              "        element.innerHTML = '';\n",
              "        dataTable['output_type'] = 'display_data';\n",
              "        await google.colab.output.renderOutput(dataTable, element);\n",
              "        const docLink = document.createElement('div');\n",
              "        docLink.innerHTML = docLinkHtml;\n",
              "        element.appendChild(docLink);\n",
              "      }\n",
              "    </script>\n",
              "  </div>\n",
              "\n",
              "\n",
              "<div id=\"df-cdd14cc0-8022-4bcb-9f4f-d4feeef5e354\">\n",
              "  <button class=\"colab-df-quickchart\" onclick=\"quickchart('df-cdd14cc0-8022-4bcb-9f4f-d4feeef5e354')\"\n",
              "            title=\"Suggest charts.\"\n",
              "            style=\"display:none;\">\n",
              "\n",
              "<svg xmlns=\"http://www.w3.org/2000/svg\" height=\"24px\"viewBox=\"0 0 24 24\"\n",
              "     width=\"24px\">\n",
              "    <g>\n",
              "        <path d=\"M19 3H5c-1.1 0-2 .9-2 2v14c0 1.1.9 2 2 2h14c1.1 0 2-.9 2-2V5c0-1.1-.9-2-2-2zM9 17H7v-7h2v7zm4 0h-2V7h2v10zm4 0h-2v-4h2v4z\"/>\n",
              "    </g>\n",
              "</svg>\n",
              "  </button>\n",
              "\n",
              "<style>\n",
              "  .colab-df-quickchart {\n",
              "      --bg-color: #E8F0FE;\n",
              "      --fill-color: #1967D2;\n",
              "      --hover-bg-color: #E2EBFA;\n",
              "      --hover-fill-color: #174EA6;\n",
              "      --disabled-fill-color: #AAA;\n",
              "      --disabled-bg-color: #DDD;\n",
              "  }\n",
              "\n",
              "  [theme=dark] .colab-df-quickchart {\n",
              "      --bg-color: #3B4455;\n",
              "      --fill-color: #D2E3FC;\n",
              "      --hover-bg-color: #434B5C;\n",
              "      --hover-fill-color: #FFFFFF;\n",
              "      --disabled-bg-color: #3B4455;\n",
              "      --disabled-fill-color: #666;\n",
              "  }\n",
              "\n",
              "  .colab-df-quickchart {\n",
              "    background-color: var(--bg-color);\n",
              "    border: none;\n",
              "    border-radius: 50%;\n",
              "    cursor: pointer;\n",
              "    display: none;\n",
              "    fill: var(--fill-color);\n",
              "    height: 32px;\n",
              "    padding: 0;\n",
              "    width: 32px;\n",
              "  }\n",
              "\n",
              "  .colab-df-quickchart:hover {\n",
              "    background-color: var(--hover-bg-color);\n",
              "    box-shadow: 0 1px 2px rgba(60, 64, 67, 0.3), 0 1px 3px 1px rgba(60, 64, 67, 0.15);\n",
              "    fill: var(--button-hover-fill-color);\n",
              "  }\n",
              "\n",
              "  .colab-df-quickchart-complete:disabled,\n",
              "  .colab-df-quickchart-complete:disabled:hover {\n",
              "    background-color: var(--disabled-bg-color);\n",
              "    fill: var(--disabled-fill-color);\n",
              "    box-shadow: none;\n",
              "  }\n",
              "\n",
              "  .colab-df-spinner {\n",
              "    border: 2px solid var(--fill-color);\n",
              "    border-color: transparent;\n",
              "    border-bottom-color: var(--fill-color);\n",
              "    animation:\n",
              "      spin 1s steps(1) infinite;\n",
              "  }\n",
              "\n",
              "  @keyframes spin {\n",
              "    0% {\n",
              "      border-color: transparent;\n",
              "      border-bottom-color: var(--fill-color);\n",
              "      border-left-color: var(--fill-color);\n",
              "    }\n",
              "    20% {\n",
              "      border-color: transparent;\n",
              "      border-left-color: var(--fill-color);\n",
              "      border-top-color: var(--fill-color);\n",
              "    }\n",
              "    30% {\n",
              "      border-color: transparent;\n",
              "      border-left-color: var(--fill-color);\n",
              "      border-top-color: var(--fill-color);\n",
              "      border-right-color: var(--fill-color);\n",
              "    }\n",
              "    40% {\n",
              "      border-color: transparent;\n",
              "      border-right-color: var(--fill-color);\n",
              "      border-top-color: var(--fill-color);\n",
              "    }\n",
              "    60% {\n",
              "      border-color: transparent;\n",
              "      border-right-color: var(--fill-color);\n",
              "    }\n",
              "    80% {\n",
              "      border-color: transparent;\n",
              "      border-right-color: var(--fill-color);\n",
              "      border-bottom-color: var(--fill-color);\n",
              "    }\n",
              "    90% {\n",
              "      border-color: transparent;\n",
              "      border-bottom-color: var(--fill-color);\n",
              "    }\n",
              "  }\n",
              "</style>\n",
              "\n",
              "  <script>\n",
              "    async function quickchart(key) {\n",
              "      const quickchartButtonEl =\n",
              "        document.querySelector('#' + key + ' button');\n",
              "      quickchartButtonEl.disabled = true;  // To prevent multiple clicks.\n",
              "      quickchartButtonEl.classList.add('colab-df-spinner');\n",
              "      try {\n",
              "        const charts = await google.colab.kernel.invokeFunction(\n",
              "            'suggestCharts', [key], {});\n",
              "      } catch (error) {\n",
              "        console.error('Error during call to suggestCharts:', error);\n",
              "      }\n",
              "      quickchartButtonEl.classList.remove('colab-df-spinner');\n",
              "      quickchartButtonEl.classList.add('colab-df-quickchart-complete');\n",
              "    }\n",
              "    (() => {\n",
              "      let quickchartButtonEl =\n",
              "        document.querySelector('#df-cdd14cc0-8022-4bcb-9f4f-d4feeef5e354 button');\n",
              "      quickchartButtonEl.style.display =\n",
              "        google.colab.kernel.accessAllowed ? 'block' : 'none';\n",
              "    })();\n",
              "  </script>\n",
              "</div>\n",
              "    </div>\n",
              "  </div>\n"
            ]
          },
          "metadata": {},
          "execution_count": 318
        }
      ]
    },
    {
      "cell_type": "code",
      "metadata": {
        "id": "kdQy98zkYE9W",
        "colab": {
          "base_uri": "https://localhost:8080/"
        },
        "outputId": "d9fb9d3b-a792-49f4-c3c5-93aca8195d89"
      },
      "source": [
        "sns.pairplot(diabetes_df)"
      ],
      "execution_count": null,
      "outputs": [
        {
          "output_type": "execute_result",
          "data": {
            "text/plain": [
              "<seaborn.axisgrid.PairGrid at 0x7b58203471f0>"
            ]
          },
          "metadata": {},
          "execution_count": 319
        }
      ]
    },
    {
      "cell_type": "code",
      "metadata": {
        "id": "hqzMqi_oYE9Y"
      },
      "source": [
        "X = data.data\n",
        "y = data.target"
      ],
      "execution_count": null,
      "outputs": []
    },
    {
      "cell_type": "code",
      "metadata": {
        "id": "tcdR1gZoYE9Z"
      },
      "source": [
        "regr = LinearRegression(fit_intercept=True)\n",
        "regr.fit(X,y)\n",
        "y_hat = regr.predict(X)\n",
        "\n",
        "print ('Coefficients: ',  regr.intercept_, regr.coef_)\n",
        "print ('Average error: ', mean_absolute_error(y,y_hat))"
      ],
      "execution_count": null,
      "outputs": []
    },
    {
      "cell_type": "markdown",
      "metadata": {
        "id": "uiljK8hxYE9b"
      },
      "source": [
        "\n",
        "\n",
        "En Python es algo laborioso mostrar gráficas para evaluar visualmente la calidad de una regresión.\n",
        "Existe un buen tutorial de como hacerlo en el siguiente enlace:\n",
        "https://medium.com/@emredjan/emulating-r-regression-plots-in-python-43741952c034\n",
        "\n",
        "Nosotros vamos a mostrar un plot mostrando las diferencias entre el valor observado y el predicho:"
      ]
    },
    {
      "cell_type": "markdown",
      "metadata": {
        "id": "qYOVvZS2YE9d"
      },
      "source": [
        "\n",
        "\n",
        "Primero pasamos las *y* a DataFrame para poder generar gráficas de manera sencilla"
      ]
    },
    {
      "cell_type": "code",
      "metadata": {
        "id": "jA1Sw8yeYE9f"
      },
      "source": [
        "ys = pd.DataFrame({'y': y, 'y_hat': y_hat, 'err': y - y_hat, '|err|': np.abs(y - y_hat)})\n",
        "ys = ys[['y', 'y_hat', 'err', '|err|']]   # rearanging columns\n",
        "ys.head()"
      ],
      "execution_count": null,
      "outputs": []
    },
    {
      "cell_type": "markdown",
      "metadata": {
        "id": "XY1Qp6pIYE9x"
      },
      "source": [
        "\n",
        "\n",
        "Ahora vamos a generar un gráfico con los residuales"
      ]
    },
    {
      "cell_type": "code",
      "metadata": {
        "id": "5tmRTOkLYE90"
      },
      "source": [
        "ys.plot(kind='scatter', x='y', y='err', figsize=(16,8), alpha=0.4, title='Residual Plot')\n",
        "plt.plot([ys['y'].min(), ys['y'].max()], [0, 0], linewidth=2, alpha=0.5, ls='--', c='gray')"
      ],
      "execution_count": null,
      "outputs": []
    },
    {
      "cell_type": "markdown",
      "metadata": {
        "id": "pKPyqwomYE94"
      },
      "source": [
        "\n",
        "\n",
        "---\n",
        "\n",
        "## Regresión polinomica\n",
        "\n",
        "Pongamos un ejemplo. Tenemos una serie de datos que sabemos siguen una función no lineal. Le vamos aplicar varias regresiones para comprobar el ajuste."
      ]
    },
    {
      "cell_type": "code",
      "metadata": {
        "id": "aksB-_ICYE95"
      },
      "source": [
        "%matplotlib inline\n",
        "import numpy as np\n",
        "import matplotlib.pyplot as plt\n",
        "\n",
        "from sklearn.preprocessing import PolynomialFeatures\n",
        "from sklearn.metrics import r2_score"
      ],
      "execution_count": null,
      "outputs": []
    },
    {
      "cell_type": "code",
      "metadata": {
        "id": "1Xlw48_UYE97"
      },
      "source": [
        "import pandas as pd"
      ],
      "execution_count": null,
      "outputs": []
    },
    {
      "cell_type": "markdown",
      "metadata": {
        "id": "A1ey8vYnYE99"
      },
      "source": [
        "\n",
        "\n",
        "load the Boston housing dataset - median house values in the Boston area"
      ]
    },
    {
      "cell_type": "code",
      "metadata": {
        "id": "GDJWYTrdprpi"
      },
      "source": [
        "df = pd.read_csv('https://raw.githubusercontent.com/al34n1x/DataScience/master/data/Boston.csv',index_col=0)\n",
        "\n",
        "df.head()"
      ],
      "execution_count": null,
      "outputs": []
    },
    {
      "cell_type": "markdown",
      "metadata": {
        "id": "P0b1uVTCYE-A"
      },
      "source": [
        "\n",
        "\n",
        "Vamos a mostrar un gráfico comparando las variables `lstat` (% lower status of the population) con `medv` (median value)"
      ]
    },
    {
      "cell_type": "code",
      "metadata": {
        "id": "h5JBU3GnYE-F"
      },
      "source": [
        "plt.figure(figsize=(6 * 1.618, 6))\n",
        "plt.scatter(df.lstat, df.medv, s=10, alpha=0.3)\n",
        "plt.xlabel('lstat')\n",
        "plt.ylabel('medv')"
      ],
      "execution_count": null,
      "outputs": []
    },
    {
      "cell_type": "markdown",
      "metadata": {
        "id": "jXCvLbSjYE-J"
      },
      "source": [
        "\n",
        "\n",
        "Otra manera de hacerlo es mediante la función `jointplot` de *Seaborn*"
      ]
    },
    {
      "cell_type": "code",
      "metadata": {
        "id": "R1CjgaIuYE-P"
      },
      "source": [
        "X = df.lstat\n",
        "X = X[:, np.newaxis]\n",
        "print(X.shape)\n",
        "\n",
        "y = df.medv\n",
        "print(y.shape)"
      ],
      "execution_count": null,
      "outputs": []
    },
    {
      "cell_type": "markdown",
      "metadata": {
        "id": "qPcCnKb7YE-S"
      },
      "source": [
        "\n",
        "\n",
        "Vamos a ajustar el dataset con un polinomio de orden 1."
      ]
    },
    {
      "cell_type": "code",
      "metadata": {
        "id": "Z5mCt90CYE-W"
      },
      "source": [
        "plt.figure(figsize=(6 * 1.618, 6))\n",
        "plt.scatter(df.lstat, df.medv, s=10, alpha=0.3)\n",
        "plt.xlabel('lstat')\n",
        "plt.ylabel('medv')\n",
        "\n",
        "pr1 = LinearRegression()\n",
        "lin = PolynomialFeatures(degree=1)\n",
        "\n",
        "X_fit1 = np.arange(X.min(), X.max(), 1)[:, np.newaxis]\n",
        "X1 = lin.fit_transform(X)\n",
        "\n",
        "pr1.fit(X1, y)\n",
        "\n",
        "y_fit1 = pr1.predict(lin.fit_transform(X_fit1))\n",
        "y_pred1 = pr1.predict(X1)\n",
        "\n",
        "plt.plot(X_fit1, y_fit1, '--', c='orange')\n",
        "\n",
        "print('Coefficients: ', pr1.coef_)\n",
        "print('Intercept: ', pr1.intercept_)\n",
        "print('Model R^2: ', r2_score(y, y_pred1))"
      ],
      "execution_count": null,
      "outputs": []
    },
    {
      "cell_type": "markdown",
      "metadata": {
        "id": "jad-pr9wYE-X"
      },
      "source": [
        "\n",
        "\n",
        "Ahora probaremos con un polinomio de orden 2"
      ]
    },
    {
      "cell_type": "code",
      "metadata": {
        "id": "VTda6oXkYE-Z"
      },
      "source": [
        "plt.figure(figsize=(6 * 1.618, 6))\n",
        "plt.scatter(df.lstat, df.medv, s=10, alpha=0.3)\n",
        "plt.xlabel('lstat')\n",
        "plt.ylabel('medv')\n",
        "\n",
        "pr2 = LinearRegression()\n",
        "quad = PolynomialFeatures(degree=2)\n",
        "\n",
        "X_fit2 = np.arange(X.min(), X.max(), 1)[:, np.newaxis]\n",
        "X2 = quad.fit_transform(X)\n",
        "\n",
        "pr2.fit(X2, y)\n",
        "\n",
        "y_fit2 = pr2.predict(quad.fit_transform(X_fit2))\n",
        "y_pred2 = pr2.predict(X2)\n",
        "\n",
        "plt.plot(X_fit2, y_fit2, '--', c='orange')\n",
        "\n",
        "print('Coefficients: ', pr2.coef_)\n",
        "print('Intercept: ', pr2.intercept_)\n",
        "print('Model R^2: ', r2_score(y, y_pred2))"
      ],
      "execution_count": null,
      "outputs": []
    },
    {
      "cell_type": "markdown",
      "metadata": {
        "id": "GNOSjFAKYE-a"
      },
      "source": [
        "\n",
        "\n",
        "Y, finalmente, probaremos con un polinomio de orden 3."
      ]
    },
    {
      "cell_type": "code",
      "metadata": {
        "id": "oeYXuSViYE-b"
      },
      "source": [
        "plt.figure(figsize=(6 * 1.618, 6))\n",
        "plt.scatter(df.lstat, df.medv, s=10, alpha=0.3)\n",
        "plt.xlabel('lstat')\n",
        "plt.ylabel('medv')\n",
        "\n",
        "pr3 = LinearRegression()\n",
        "cub = PolynomialFeatures(degree=3)\n",
        "\n",
        "X_fit3 = np.arange(X.min(), X.max(), 1)[:, np.newaxis]\n",
        "X3 = cub.fit_transform(X)\n",
        "\n",
        "pr3.fit(X3, y)\n",
        "\n",
        "y_fit3 = pr3.predict(cub.fit_transform(X_fit3))\n",
        "y_pred3 = pr3.predict(X3)\n",
        "\n",
        "plt.plot(X_fit3, y_fit3, '--', c='orange')\n",
        "\n",
        "print('Coefficient: ', pr3.coef_)\n",
        "print('Intercept: ', pr3.intercept_)\n",
        "print('Model R^2: ', r2_score(y, y_pred3))"
      ],
      "execution_count": null,
      "outputs": []
    },
    {
      "cell_type": "markdown",
      "metadata": {
        "id": "6No7KZSVYE-d"
      },
      "source": [
        "\n",
        "\n",
        "# Ejercicios"
      ]
    },
    {
      "cell_type": "markdown",
      "metadata": {
        "id": "nwXstPUgYE-f"
      },
      "source": [
        "\n",
        "\n",
        "## Ejercicio 1\n",
        "\n",
        "Dado un conjunto de descriptores de una canción, el objetivo es predecir el año de producción de la canción. Básicamente se trata de un problema de regresión, ya que se debe predecir un número en el rango de 1922 y 2011.\n",
        "\n",
        "Source:https://archive.ics.uci.edu/ml/machine-learning-databases/00203/YearPredictionMSD.txt.zip\n",
        "\n",
        "** Descripción del dataset**\n",
        "\n",
        "90 atributos:\n",
        "\n",
        "- 12 = timbre average\n",
        "- 78 = timbre covariance\n",
        "\n",
        "\n",
        "**Instrucciones**:\n",
        "\n",
        "Importe los datos de data/millionsong.txt"
      ]
    },
    {
      "cell_type": "code",
      "metadata": {
        "id": "TkU9-aS2YE-g"
      },
      "source": [
        "# Respuesta aqui\n",
        "# Respuesta\n",
        "\n",
        "import numpy as np\n",
        "import pandas as pd\n",
        "\n",
        "\n",
        "import sklearn\n",
        "from sklearn.model_selection import train_test_split\n",
        "from sklearn.linear_model import LinearRegression\n",
        "from sklearn.metrics import mean_absolute_error\n",
        "import time\n",
        "\n",
        "# dataset = spark.read.csv(DATA_PATH+'millionsong.txt',header=None, inferSchema=True).toPandas()\n",
        "\n",
        "# dataset.head()\n",
        "df = pd.read_csv('https://archive.ics.uci.edu/ml/machine-learning-databases/00203/YearPredictionMSD.txt.zip', header=None)\n",
        "\n",
        "#dataset = pd.read_csv(DATA_PATH+'millionsong.txt', header = None)\n",
        "#dataset = df.dropna()\n",
        "\n",
        "\n",
        "dataset.head()"
      ],
      "execution_count": null,
      "outputs": []
    },
    {
      "cell_type": "code",
      "source": [
        "dataset.tail()"
      ],
      "metadata": {
        "id": "Pqs7m6MJ1ZZE"
      },
      "execution_count": null,
      "outputs": []
    },
    {
      "cell_type": "markdown",
      "metadata": {
        "id": "NTExHUbWYE-i"
      },
      "source": [
        "\n",
        "\n",
        "Obtenemos el target, que es la primera columna del dataset"
      ]
    },
    {
      "cell_type": "code",
      "metadata": {
        "id": "wq5EIjiCYE-j"
      },
      "source": [
        "# Respuesta aqui\n",
        "y = dataset.loc[:, 0].apply(lambda x: int(x))"
      ],
      "execution_count": null,
      "outputs": []
    },
    {
      "cell_type": "markdown",
      "metadata": {
        "id": "Dj1hpvtxYE-l"
      },
      "source": [
        "\n",
        "\n",
        "Obtenemos el dataset con otros atributos"
      ]
    },
    {
      "cell_type": "code",
      "metadata": {
        "id": "JlTYJAyrYE-o"
      },
      "source": [
        "# Respuesta aqui\n",
        "x = dataset.drop(0, axis=1)\n"
      ],
      "execution_count": null,
      "outputs": []
    },
    {
      "cell_type": "code",
      "source": [],
      "metadata": {
        "id": "RInJ5u_dtn-L"
      },
      "execution_count": null,
      "outputs": []
    },
    {
      "cell_type": "code",
      "source": [
        "# Respuesta aqui\n",
        "#y = dataset.loc[:, 0].apply(lambda x: int(math.ceil(x / 10.0)) * 10)"
      ],
      "metadata": {
        "id": "lq6yYJgLt7pk"
      },
      "execution_count": null,
      "outputs": []
    },
    {
      "cell_type": "code",
      "source": [
        "y.head()"
      ],
      "metadata": {
        "id": "wtGRI5K65GFx"
      },
      "execution_count": null,
      "outputs": []
    },
    {
      "cell_type": "code",
      "metadata": {
        "id": "ExOjrQe9aihU"
      },
      "source": [
        "#from imblearn.under_sampling import RandomUnderSampler\n",
        "#rus = RandomUnderSampler()\n",
        "#X_rus, y_rus= rus.fit_resample(x, y)"
      ],
      "execution_count": null,
      "outputs": []
    },
    {
      "cell_type": "code",
      "metadata": {
        "id": "mgIZbpK5au6O"
      },
      "source": [
        "#x=X_rus\n",
        "#y=y_rus"
      ],
      "execution_count": null,
      "outputs": []
    },
    {
      "cell_type": "code",
      "source": [
        "x.shape"
      ],
      "metadata": {
        "id": "8odqtvAps7K9"
      },
      "execution_count": null,
      "outputs": []
    },
    {
      "cell_type": "markdown",
      "metadata": {
        "id": "bY9VqJ-PYE-p"
      },
      "source": [
        "\n",
        "\n",
        "Aquí dividimos el dataset en train y test, para entrenar y validar nuestro modelo respectivamente."
      ]
    },
    {
      "cell_type": "code",
      "metadata": {
        "id": "rJEZjeVBYE-q"
      },
      "source": [
        "# Respuesta aqui\n",
        "(x_train, x_test, y_train, y_test) = train_test_split(x, y, test_size=0.3)"
      ],
      "execution_count": null,
      "outputs": []
    },
    {
      "cell_type": "markdown",
      "metadata": {
        "id": "9qmJ2ZwbYE-v"
      },
      "source": [
        "\n",
        "\n",
        "Vemos que las distribuciones de las predicciones se han centrado en 2000."
      ]
    },
    {
      "cell_type": "code",
      "metadata": {
        "id": "K6bXy-LH_iyb"
      },
      "source": [
        "y_train.mean()"
      ],
      "execution_count": null,
      "outputs": []
    },
    {
      "cell_type": "markdown",
      "metadata": {
        "id": "oFJMzOLmYE-w"
      },
      "source": [
        "\n",
        "\n",
        "Visualizamos el train y el test"
      ]
    },
    {
      "cell_type": "code",
      "metadata": {
        "id": "SDZv4b7MYE-y"
      },
      "source": [
        "# Respuesta aqui\n",
        "import seaborn as sns\n",
        "\n",
        "sns.kdeplot(y_train, label='y_train')\n",
        "sns.kdeplot(y_test, label='y_test')"
      ],
      "execution_count": null,
      "outputs": []
    },
    {
      "cell_type": "markdown",
      "metadata": {
        "id": "TGPWbv7rYE-z"
      },
      "source": [
        "\n",
        "\n",
        "Ajuste un modelo de regresión para predecir el año de una canción."
      ]
    },
    {
      "cell_type": "code",
      "metadata": {
        "id": "MbfypBhJYE-1"
      },
      "source": [
        "# Respuesta aqui\n",
        "pred = LinearRegression()\n",
        "pred.fit(x_train, y_train)\n",
        "\n",
        "y_pred = pred.predict(x_test)\n",
        "\n"
      ],
      "execution_count": null,
      "outputs": []
    },
    {
      "cell_type": "markdown",
      "metadata": {
        "id": "-_AoMupMYE-3"
      },
      "source": [
        "\n",
        "\n",
        "Muestre las métricas y gráficas que considere necesarias para poder argumentar si el modelo está funcionando bien."
      ]
    },
    {
      "cell_type": "code",
      "metadata": {
        "id": "sgK2-OgPYE-5"
      },
      "source": [
        "# Respuesta aqui\n",
        "mean_absolute_error(y_test, y_pred)"
      ],
      "execution_count": null,
      "outputs": []
    },
    {
      "cell_type": "code",
      "metadata": {
        "id": "JEnOu4tf6dYg"
      },
      "source": [
        "from sklearn.metrics import mean_squared_error\n",
        "mean_squared_error(y_test, y_pred)"
      ],
      "execution_count": null,
      "outputs": []
    },
    {
      "cell_type": "code",
      "metadata": {
        "id": "O3vQVlUp6gof"
      },
      "source": [
        "import math\n",
        "math.sqrt(mean_squared_error(y_test, y_pred))"
      ],
      "execution_count": null,
      "outputs": []
    },
    {
      "cell_type": "code",
      "metadata": {
        "id": "VqfsK91p6i3B"
      },
      "source": [
        "pred.coef_"
      ],
      "execution_count": null,
      "outputs": []
    },
    {
      "cell_type": "code",
      "metadata": {
        "id": "Fn6qjsbQ6kzo"
      },
      "source": [
        "y_pred"
      ],
      "execution_count": null,
      "outputs": []
    },
    {
      "cell_type": "markdown",
      "metadata": {
        "id": "OBaG6Zh1YE_A"
      },
      "source": [
        "\n",
        "\n",
        "Visualize los resultados de las predicciones"
      ]
    },
    {
      "cell_type": "code",
      "metadata": {
        "id": "162KgVktYE_B"
      },
      "source": [
        "# Respuesta aqui\n",
        "sns.kdeplot(y_test, label='y_test')\n",
        "sns.kdeplot(y_pred, label='y_pred')"
      ],
      "execution_count": null,
      "outputs": []
    },
    {
      "cell_type": "markdown",
      "metadata": {
        "id": "mjL1Mu76YE_E"
      },
      "source": [
        "\n",
        "\n",
        "Vemos que las distribuciones de las predicciones se han centrado en 1980."
      ]
    },
    {
      "cell_type": "markdown",
      "metadata": {
        "id": "-goi1MrWYE_I"
      },
      "source": [
        "\n",
        "\n",
        "Vamos a unir los valores de test y las predicciones en un DataFrame para poder hacer gráficos"
      ]
    },
    {
      "cell_type": "code",
      "metadata": {
        "id": "c_4NkX4uYE_K"
      },
      "source": [
        "# Respuesta aqui\n",
        "ys = pd.concat([pd.Series(y_test.values, name='y_test'), pd.Series(y_pred, name='y_pred')], axis=1)"
      ],
      "execution_count": null,
      "outputs": []
    },
    {
      "cell_type": "markdown",
      "metadata": {
        "id": "Bth7LS6xYE_M"
      },
      "source": [
        "\n",
        "\n",
        "Para comenzar vamos a mostrar una comparación entre las predicciones y los valores reales"
      ]
    },
    {
      "cell_type": "code",
      "metadata": {
        "id": "yOcXJGHZYE_N"
      },
      "source": [
        "# Respuesta aqui\n",
        "import matplotlib.pyplot as plt\n",
        "\n",
        "ax = ys.sort_values('y_test').plot(x='y_test', y='y_pred', kind='scatter', alpha=0.4, c='steelblue',\n",
        "                                   xlim=(1920, 2012), ylim=(1920, 2012), figsize=(16,8),\n",
        "                                   label='y_pred', title='Predictions by year')\n",
        "ys.groupby('y_test').mean().plot(y='y_pred', c='green', lw=2.5, alpha=0.7, label='Mean y_pred by year', ax=ax)\n",
        "plt.plot([1921, 2010], [1921, 2010], linewidth=2, alpha=0.5, c='gray', ls='--', label='Perfect Fit')\n",
        "plt.show()"
      ],
      "execution_count": null,
      "outputs": []
    },
    {
      "cell_type": "markdown",
      "metadata": {
        "id": "Ze3-H8FoYE_P"
      },
      "source": [
        "\n",
        "\n",
        "Vamos a mostrar un plot con los residuos"
      ]
    },
    {
      "cell_type": "code",
      "metadata": {
        "id": "rztoX2icYE_P"
      },
      "source": [
        "# Respuesta aqui\n",
        "ys['err'] = ys['y_test'] - ys['y_pred']\n",
        "ys.sort_values('y_test').plot(kind='scatter', x='y_test', y='err', figsize=(16,8), alpha=0.4, title='Residuals')\n",
        "plt.plot([1921, 2010], [0, 0], linewidth=2, alpha=0.8, ls='--', c='gray')\n",
        "plt.show()"
      ],
      "execution_count": null,
      "outputs": []
    },
    {
      "cell_type": "markdown",
      "metadata": {
        "id": "0Ea_Hya2YE_Q"
      },
      "source": [
        "\n",
        "\n",
        "Y ahora vamos a mostrar el Error absoluto en años para cada año del conjunto de test."
      ]
    },
    {
      "cell_type": "code",
      "metadata": {
        "id": "LjoqmOanYE_R"
      },
      "source": [
        "# Respuesta aqui\n",
        "ys['abs_err'] = np.abs(ys['y_test'] - ys['y_pred'])     # Absolut error\n",
        "ys.sort_values('y_test').plot(kind='scatter', x='y_test', y='abs_err', figsize=(16,8), alpha=0.4)\n",
        "ys.groupby('y_test').mean()['abs_err'].plot(c='orange', lw=2.5, title='Mean Absolute Error (in years) per year ')\n",
        "plt.show()"
      ],
      "execution_count": null,
      "outputs": []
    },
    {
      "cell_type": "markdown",
      "metadata": {
        "id": "fmjO3ZLkYE_T"
      },
      "source": [
        "\n",
        "\n",
        "---\n",
        "\n",
        "## Ejercicio 2\n",
        "\n",
        "EL dataset de diabetes consiste en 10 variables fisológicas (edad, sexo, peso, presión arterial, y seis pruebas sanguíneas) de 442 pacientes, y la indicación del progreso de la enfermedad después de un año."
      ]
    },
    {
      "cell_type": "markdown",
      "metadata": {
        "id": "0De7ub3NYE_U"
      },
      "source": [
        "\n",
        "\n",
        "Ajuste y compare los modelos de regresión obtenidos al considerar el primer atributo (edad) y todos los atributos del dataset.\n",
        "\n",
        "*Source*: http://web.stanford.edu/~hastie/Papers/LARS/LeastAngle_2002.pdf"
      ]
    },
    {
      "cell_type": "code",
      "metadata": {
        "id": "wjdRJrqIYE_V"
      },
      "source": [
        "from sklearn import datasets\n",
        "diabetes = datasets.load_diabetes()\n",
        "\n",
        "X, y = diabetes.data, diabetes.target"
      ],
      "execution_count": null,
      "outputs": []
    },
    {
      "cell_type": "code",
      "metadata": {
        "id": "qKSiaRW9YE_Y"
      },
      "source": [
        "diabetes_cols = ['Age', 'Sex', 'Body mass index', 'Average blood pressure',\n",
        "                 'S1', 'S2', 'S3', 'S4', 'S5', 'S6']      # S1-S6 are 6 blood-serum measurements on each patient"
      ],
      "execution_count": null,
      "outputs": []
    },
    {
      "cell_type": "markdown",
      "metadata": {
        "id": "g8WkrwulYE_b"
      },
      "source": [
        "\n",
        "\n",
        "Explore el dataset"
      ]
    },
    {
      "cell_type": "code",
      "metadata": {
        "id": "omuyEQGLYE_d"
      },
      "source": [
        "# Respuesta aqui\n",
        "X.shape, y.shape"
      ],
      "execution_count": null,
      "outputs": []
    },
    {
      "cell_type": "code",
      "metadata": {
        "id": "i7k7HDrO67Zl"
      },
      "source": [
        "diabetes_df = pd.DataFrame(X, columns=diabetes_cols)\n",
        "diabetes_df['y'] = pd.Series(y)\n",
        "\n",
        "diabetes_df.head()"
      ],
      "execution_count": null,
      "outputs": []
    },
    {
      "cell_type": "markdown",
      "metadata": {
        "id": "rQdm-h9VYE_e"
      },
      "source": [
        "\n",
        "\n",
        "Visualize la relación entre las variables"
      ]
    },
    {
      "cell_type": "code",
      "metadata": {
        "id": "yXp4qqQoYE_g"
      },
      "source": [
        "# Respuesta aqui\n",
        "sns.pairplot(diabetes_df)"
      ],
      "execution_count": null,
      "outputs": []
    },
    {
      "cell_type": "markdown",
      "metadata": {
        "id": "MSY3dZDkYE_h"
      },
      "source": [
        "\n",
        "\n",
        "Construya un modelo de regresion"
      ]
    },
    {
      "cell_type": "code",
      "metadata": {
        "id": "i-UFewEKYE_i"
      },
      "source": [
        "# Respuesta aqui\n",
        "\n",
        "X1 = X[:, np.newaxis, 2]    # X1 gets only one variable: `age`\n",
        "X2 = X                      # X2 gets all predictor variables\n",
        "\n",
        "X.shape, y.shape\n",
        "\n",
        "X1.shape, X2.shape\n",
        "\n",
        "x1_train, x1_test, x2_train, x2_test, y_train, y_test = train_test_split(X1, X2, y)\n",
        "\n",
        "x1_train.shape, x1_test.shape, x2_train.shape, x2_test.shape, y_train.shape, y_test.shape\n",
        "\n",
        "regressor1 = LinearRegression()\n",
        "regressor2 = LinearRegression()\n",
        "\n",
        "regressor1.fit(x1_train, y_train)    # Train with variable: age\n",
        "regressor2.fit(x2_train, y_train)    # Train with all variables\n",
        "\n",
        "y1_pred = regressor1.predict(x1_test)\n",
        "y2_pred = regressor2.predict(x2_test)\n",
        "\n",
        "print('First model coefficients:\\n', regressor1.coef_)\n",
        "print('Second model coefficients:\\n', regressor2.coef_)\n",
        "\n",
        "print('First model error:\\n', mean_absolute_error(y_test, y1_pred))\n",
        "print('Second model error:\\n', mean_absolute_error(y_test, y2_pred))"
      ],
      "execution_count": null,
      "outputs": []
    },
    {
      "cell_type": "markdown",
      "metadata": {
        "id": "ju6muxlbYE_j"
      },
      "source": [
        "\n",
        "\n",
        "Analiza los residuos de la regresion. Visualizelos así como las desviaciones de la predicción"
      ]
    },
    {
      "cell_type": "markdown",
      "metadata": {
        "id": "Sh0HnYryYE_j"
      },
      "source": [
        "\n",
        "\n",
        "Vamos a mostrar unas gráficas para entender donde falla la regresión.\n",
        "\n",
        "Primero pasamos las *y* a DataFrame para poder generar gráficas de manera sencilla."
      ]
    },
    {
      "cell_type": "code",
      "metadata": {
        "id": "DoUUBMPnYE_k"
      },
      "source": [
        "# Respuesta aqui\n",
        "# Respuesta\n",
        "\n",
        "ys = pd.DataFrame({'y': y_test, 'ŷ1': y1_pred, 'ŷ2': y2_pred,\n",
        "                    'err1': y_test - y1_pred, '|err1|': np.abs(y_test - y1_pred),\n",
        "                    'err2': y_test - y2_pred, '|err2|': np.abs(y_test - y2_pred)})\n",
        "ys = ys[['y', 'ŷ1', 'ŷ2', 'err1', 'err2', '|err1|', '|err2|']]   # rearanging columns\n",
        "ys.head()\n",
        "\n",
        "g = sns.PairGrid(ys, size=4,\n",
        "                 x_vars=['y'], y_vars=[\"err1\", \"err2\"])\n",
        "g = g.map(plt.scatter, alpha=.5)\n",
        "for ax in g.axes.ravel():\n",
        "    ax.plot((0, 300), (0, 0), linewidth=2, alpha=0.5, ls='--', c='gray')\n",
        "\n",
        "g = sns.PairGrid(ys, size=4, x_vars=['y'], y_vars=[\"|err1|\", \"|err2|\"])\n",
        "g = g.map(sns.jointplot, kind='reg', order=2, xlim=(0,350))"
      ],
      "execution_count": null,
      "outputs": []
    },
    {
      "cell_type": "markdown",
      "metadata": {
        "id": "2TjqV___YE_m"
      },
      "source": [
        "\n",
        "\n",
        "Vemos que los errores son mayores en valores bajos y altos de y. Una solución a este problema sería aplicar un modelo no lineal."
      ]
    }
  ]
}