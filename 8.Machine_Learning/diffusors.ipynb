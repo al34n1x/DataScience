{
  "cells": [
    {
      "cell_type": "markdown",
      "metadata": {
        "colab_type": "text",
        "id": "view-in-github"
      },
      "source": [
        "<a href=\"https://colab.research.google.com/github/al34n1x/ds_demo/blob/main/1.notebooks/2.diffusors.ipynb\" target=\"_parent\"><img src=\"https://colab.research.google.com/assets/colab-badge.svg\" alt=\"Open In Colab\"/></a>"
      ]
    },
    {
      "cell_type": "markdown",
      "metadata": {},
      "source": [
        "# ¿Qué es un modelo de transformador?\n",
        "Un modelo transformador es una red neuronal que aprende el contexto y, por tanto, el significado mediante el seguimiento de relaciones en datos secuenciales como las palabras de esta oración.\n",
        "\n",
        "Los modelos de transformadores aplican un conjunto en evolución de técnicas matemáticas, llamadas atención o autoatención, para detectar formas sutiles en que incluso los elementos de datos distantes en una serie influyen y dependen unos de otros.\n",
        "\n",
        "Descritos por primera vez en un artículo de Google de 2017, los transformadores se encuentran entre las clases de modelos más nuevas y poderosas inventadas hasta la fecha. Están impulsando una ola de avances en el aprendizaje automático que algunos han denominado IA transformadora.\n",
        "\n",
        "Los investigadores de Stanford llamaron a los transformadores “modelos básicos” en un artículo de agosto de 2021 porque los ven impulsando un cambio de paradigma en la IA. La “gran escala y alcance de los modelos de fundaciones de los últimos años han ampliado nuestra imaginación sobre lo que es posible”, escribieron.\n",
        "\n",
        "¿Qué pueden hacer los modelos de transformadores?\n",
        "Los transformadores están traduciendo texto y voz casi en tiempo real, abriendo reuniones y aulas a asistentes diversos y con discapacidad auditiva.\n",
        "\n",
        "Están ayudando a los investigadores a comprender las cadenas de genes en el ADN y los aminoácidos en las proteínas de maneras que pueden acelerar el diseño de fármacos.\n",
        "\n",
        "![](https://blogs.nvidia.com/wp-content/uploads/2022/03/Transformer-apps-672x459.jpg.webp)"
      ]
    },
    {
      "cell_type": "code",
      "execution_count": null,
      "metadata": {
        "id": "H9AH_8o2R0AU"
      },
      "outputs": [],
      "source": [
        "!pip install diffusers==0.11.1"
      ]
    },
    {
      "cell_type": "code",
      "execution_count": null,
      "metadata": {
        "id": "p-D8iqHjRnDQ"
      },
      "outputs": [],
      "source": [
        "from diffusers import DDPMPipeline"
      ]
    },
    {
      "cell_type": "code",
      "execution_count": null,
      "metadata": {
        "id": "NBPDuw6xRo70"
      },
      "outputs": [],
      "source": [
        "image_pipe = DDPMPipeline.from_pretrained(\"google/ddpm-celebahq-256\")\n",
        "image_pipe.to(\"cuda\")"
      ]
    },
    {
      "cell_type": "code",
      "execution_count": null,
      "metadata": {
        "id": "UG8EyejYRq9I"
      },
      "outputs": [],
      "source": [
        "images = image_pipe().images\n",
        "images[0]"
      ]
    }
  ],
  "metadata": {
    "accelerator": "GPU",
    "colab": {
      "authorship_tag": "ABX9TyMQFQCeJmXf5V9thLofxfUp",
      "gpuType": "T4",
      "include_colab_link": true,
      "provenance": []
    },
    "gpuClass": "standard",
    "kernelspec": {
      "display_name": "Python 3",
      "name": "python3"
    },
    "language_info": {
      "name": "python"
    }
  },
  "nbformat": 4,
  "nbformat_minor": 0
}
