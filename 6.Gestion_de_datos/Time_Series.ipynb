{
  "nbformat": 4,
  "nbformat_minor": 0,
  "metadata": {
    "colab": {
      "name": "7. Time_Series.ipynb",
      "provenance": [],
      "include_colab_link": true
    },
    "kernelspec": {
      "name": "python3",
      "display_name": "Python 3"
    }
  },
  "cells": [
    {
      "cell_type": "markdown",
      "metadata": {
        "id": "view-in-github",
        "colab_type": "text"
      },
      "source": [
        "<a href=\"https://colab.research.google.com/github/al34n1x/DataScience/blob/master/6.Gestion_de_datos/Time_Series.ipynb\" target=\"_parent\"><img src=\"https://colab.research.google.com/assets/colab-badge.svg\" alt=\"Open In Colab\"/></a>"
      ]
    },
    {
      "cell_type": "markdown",
      "metadata": {
        "id": "DJemJOepjHXN",
        "colab_type": "toc"
      },
      "source": [
        ">[Time Series](#scrollTo=47Zj4ddS4faR)\n",
        "\n",
        ">>[Convirtiendo entre string y datetime](#scrollTo=Z88BdpN8T-t3)\n",
        "\n",
        ">>[Time Series](#scrollTo=NPCTOF9VXMeu)\n",
        "\n",
        ">>>[Indexing, Selection, Subsetting](#scrollTo=JfKZ1NL5XvNq)\n",
        "\n",
        ">>>[Time Series con Indices duplicados](#scrollTo=fvkvSXOsZ0Tu)\n",
        "\n",
        ">>>[Generando Date Ranges](#scrollTo=rraIdN98bDzp)\n",
        "\n",
        ">>[Rango de fechas, frecuencias y remuestreo (Resample)](#scrollTo=jyxVSBw8ag_s)\n",
        "\n",
        ">>>[Frecuencias y Date Offsets](#scrollTo=7Qv5E8fgcr1T)\n",
        "\n",
        ">>>[Semana del mes](#scrollTo=xKdc_69VdO6w)\n",
        "\n",
        ">>>[Desplazamiento de datos](#scrollTo=97gnXsMyd0c0)\n",
        "\n",
        ">>[Manejo de zona horaria](#scrollTo=xMy-xfR7ecVr)\n",
        "\n",
        ">>>[Operaciones entre diferentes zonas horarias](#scrollTo=xwoRltCHf3Lc)\n",
        "\n",
        ">>[Periodos y aritmética de periodos](#scrollTo=jKD07GILgm0P)\n",
        "\n",
        ">>>[Frecuencias trimestrales](#scrollTo=x8HmzQszhalx)\n",
        "\n"
      ]
    },
    {
      "cell_type": "markdown",
      "metadata": {
        "id": "47Zj4ddS4faR"
      },
      "source": [
        "# Time Series\n",
        "\n",
        "Los datos de series temporales son una forma importante de datos estructurados en muchos campos diferentes, como finanzas, economía, y física. Todo lo que se observa o mide en muchos puntos en el tiempo forma una serie de tiempo. Las series de tiempo también pueden ser irregulares sin una unidad de tiempo fija o compensación entre unidades.\n",
        "\n",
        "Las series temporales pueden presentarse con algunos de los siguientes formatos:\n",
        "\n",
        "* Marcas de tiempo: Instantes específicos en el tiempo\n",
        "\n",
        "* Períodos fijos: Como el mes de enero de 2007 o el año completo 2010\n",
        "\n",
        "* Intervalos de tiempo: Indicados por una marca de tiempo de inicio y fin. Los períodos pueden considerarse casos especiales de intervalos.\n",
        "\n",
        "* Experimento o tiempo transcurrido: Cada marca de tiempo es una medida de tiempo en relación con un tiempo de inicio particular (por ejemplo, el diámetro de una galleta que se hornea cada segundo desde que se coloca en el horno)\n",
        "\n",
        "\n",
        "Pandas proporciona muchas herramientas de series de tiempo y algoritmos de datos integrados. Puede trabajar eficientemente con series de tiempo muy grandes, cortar, dividir, agregar y volver a muestrear fácilmente series de tiempo de frecuencia irregular y fija.\n",
        "\n",
        "\n",
        "\n",
        "\n",
        "Type\t| Description\n",
        "------|------------\n",
        "date\t| Store calendar date (year, month, day) using the Gregorian calendar\n",
        "time\t| Store time of day as hours, minutes, seconds, and microseconds\n",
        "datetime\t| Stores both date and time\n",
        "timedelta\t| Represents the difference between two datetime values (as days, seconds, and microseconds)\n",
        "tzinfo\t| Base type for storing time zone information\n",
        "\n"
      ]
    },
    {
      "cell_type": "code",
      "metadata": {
        "id": "YuOXGCwG4bp7"
      },
      "source": [
        "import pandas as pd\n",
        "import numpy as np\n",
        "from datetime import datetime\n",
        "from datetime import timedelta\n",
        "now = datetime.now()\n",
        "now"
      ],
      "execution_count": null,
      "outputs": []
    },
    {
      "cell_type": "code",
      "metadata": {
        "id": "sbEdh2pN5OUk"
      },
      "source": [
        "now.year, now.month, now.day"
      ],
      "execution_count": null,
      "outputs": []
    },
    {
      "cell_type": "code",
      "metadata": {
        "id": "7cWOnW5F5TBn"
      },
      "source": [
        "start = datetime(2011, 1, 7)\n",
        "start"
      ],
      "execution_count": null,
      "outputs": []
    },
    {
      "cell_type": "code",
      "metadata": {
        "id": "Z1LCTyeY5VP-"
      },
      "source": [
        "start + timedelta(12)"
      ],
      "execution_count": null,
      "outputs": []
    },
    {
      "cell_type": "code",
      "source": [
        "delta = 2 * timedelta(12)\n",
        "delta"
      ],
      "metadata": {
        "id": "iemUCTp34qe2"
      },
      "execution_count": null,
      "outputs": []
    },
    {
      "cell_type": "code",
      "metadata": {
        "id": "keD5LlIc5vDr"
      },
      "source": [
        "start - delta"
      ],
      "execution_count": null,
      "outputs": []
    },
    {
      "cell_type": "markdown",
      "metadata": {
        "id": "Z88BdpN8T-t3"
      },
      "source": [
        "## Convirtiendo entre string y datetime\n",
        "\n",
        "Es posible formatear objetos datetime y Timestamp como cadenas usando str o el método strftime, pasando una especificación de formato\n",
        "\n",
        "Type | Description\n",
        "-----|------------\n",
        "%Y |Four-digit year\n",
        "%y |Two-digit year\n",
        "%m |Two-digit month [01, 12]\n",
        "%d |Two-digit day [01, 31]\n",
        "%H |Hour (24-hour clock) [00, 23]\n",
        "%I |Hour (12-hour clock) [01, 12]\n",
        "%M |Two-digit minute [00, 59]\n",
        "%S |Second [00, 61] (seconds 60, 61 account for leap seconds)\n",
        "%w |Weekday as integer [0 (Sunday), 6]\n",
        "%U |Week number of the year [00, 53]; Sunday is considered the first day of the week, and days before the first Sunday of the year are “week 0”\n",
        "%W |Week number of the year [00, 53]; Monday is considered the first day of the week, and days before the first Monday of the year are “week 0”\n",
        "%z |UTC time zone offset as +HHMM or -HHMM; empty if time zone naive\n",
        "%F |Shortcut for %Y-%m-%d (e.g., 2012-4-18)\n",
        "%D |Shortcut for %m/%d/%y (e.g., 04/18/12)\n",
        "\n",
        "\n"
      ]
    },
    {
      "cell_type": "code",
      "metadata": {
        "id": "f4Zcb1UmUT_C"
      },
      "source": [
        "stamp = datetime(2011, 1, 3)\n",
        "stamp"
      ],
      "execution_count": null,
      "outputs": []
    },
    {
      "cell_type": "code",
      "metadata": {
        "id": "WFO2ijVAUVpv"
      },
      "source": [
        "str(stamp)"
      ],
      "execution_count": null,
      "outputs": []
    },
    {
      "cell_type": "code",
      "metadata": {
        "id": "T4Ip9iCVUXci"
      },
      "source": [
        "stamp.strftime('%Y-%m-%d')"
      ],
      "execution_count": null,
      "outputs": []
    },
    {
      "cell_type": "markdown",
      "metadata": {
        "id": "hSbIG4cGU_pE"
      },
      "source": [
        "Puedes usar los códigos de formato para convertir cadenas a fechas usando **datetime.strptime**:"
      ]
    },
    {
      "cell_type": "code",
      "metadata": {
        "id": "5dTEuvIwVEAu"
      },
      "source": [
        "value = '2019-01-03'\n",
        "type(value)"
      ],
      "execution_count": null,
      "outputs": []
    },
    {
      "cell_type": "code",
      "metadata": {
        "id": "hvK0_8UCVH__"
      },
      "source": [
        "datetime.strptime(value, '%Y-%m-%d')"
      ],
      "execution_count": null,
      "outputs": []
    },
    {
      "cell_type": "code",
      "metadata": {
        "id": "mgRAg-efVKq2"
      },
      "source": [
        "datestrs = ['7/6/2019', '8/6/2019']"
      ],
      "execution_count": null,
      "outputs": []
    },
    {
      "cell_type": "code",
      "metadata": {
        "id": "USKQOl2DVQKC"
      },
      "source": [
        "[datetime.strptime(x, '%d/%m/%Y') for x in datestrs]"
      ],
      "execution_count": null,
      "outputs": []
    },
    {
      "cell_type": "markdown",
      "metadata": {
        "id": "U49TCq5kVeOk"
      },
      "source": [
        "*datetime.strptime* es una forma fácil de parsear datos. Sin embargo, puede ser un poco complejo de generar el formato para cada tiempo, en particular para formatos de fecha.\n",
        "\n",
        "**dateutil** es capaz de parsear casi cualquier tipo de formato de fecha que le pasemos."
      ]
    },
    {
      "cell_type": "code",
      "metadata": {
        "id": "GQDGmiTNV8XU"
      },
      "source": [
        "from dateutil.parser import parse\n",
        "parse('Jan 31, 2019 11:45 AM')"
      ],
      "execution_count": null,
      "outputs": []
    },
    {
      "cell_type": "code",
      "metadata": {
        "id": "j3Q-q_DQWP9_"
      },
      "source": [
        "parse('12/6/2011', dayfirst=True) #En caso de que esten trabajando con formato dd/mm/yy"
      ],
      "execution_count": null,
      "outputs": []
    },
    {
      "cell_type": "markdown",
      "metadata": {
        "id": "gvVpzLpxWqaH"
      },
      "source": [
        "pandas generalmente está orientado a trabajar con arreglos de fechas, ya sea que se use como un índice de eje o una columna en un DataFrame. El método **to_datetime** analiza muchos tipos diferentes de representaciones de fechas."
      ]
    },
    {
      "cell_type": "code",
      "metadata": {
        "id": "2O6zI2UcWxe4"
      },
      "source": [
        "datestrs = ['2019-07-06 12:00:00', '2019-08-06 00:00:00']"
      ],
      "execution_count": null,
      "outputs": []
    },
    {
      "cell_type": "code",
      "metadata": {
        "id": "HWXLpBwnW0u1"
      },
      "source": [
        "pd.to_datetime(datestrs)"
      ],
      "execution_count": null,
      "outputs": []
    },
    {
      "cell_type": "code",
      "metadata": {
        "id": "9gka44dtW5Da"
      },
      "source": [
        "idx = pd.to_datetime(datestrs + [None]) # Agregamos un nulo\n",
        "idx"
      ],
      "execution_count": null,
      "outputs": []
    },
    {
      "cell_type": "code",
      "source": [
        "# Acceder a un elemento dentro de la lista de datetimes\n",
        "idx[0].year"
      ],
      "metadata": {
        "id": "PHuvsSOajkLe"
      },
      "execution_count": null,
      "outputs": []
    },
    {
      "cell_type": "code",
      "metadata": {
        "id": "PO2gRsB-W-LZ"
      },
      "source": [
        "'''\n",
        "NaT (Not a Time) es valor que asigna Pandas a los valores nulos de tipo datetime\n",
        "'''\n",
        "pd.isnull(idx)"
      ],
      "execution_count": null,
      "outputs": []
    },
    {
      "cell_type": "markdown",
      "metadata": {
        "id": "NPCTOF9VXMeu"
      },
      "source": [
        "\n",
        "\n",
        "---\n",
        "\n",
        "\n",
        "## Time Series\n",
        "Un tipo básico de objeto de serie temporal en Pandas es una serie indexada por marcas de tiempo, que a menudo se representa como cadenas de Python u objetos de fecha y hora:"
      ]
    },
    {
      "cell_type": "code",
      "metadata": {
        "id": "wiq7fn3-XV3X"
      },
      "source": [
        "from datetime import datetime\n",
        "dates = [datetime(2011, 1, 2), datetime(2011, 1, 5),\n",
        "         datetime(2011, 1, 7), datetime(2011, 1, 8),\n",
        "         datetime(2011, 1, 10), datetime(2011, 1, 12)]\n",
        "dates"
      ],
      "execution_count": null,
      "outputs": []
    },
    {
      "cell_type": "code",
      "metadata": {
        "id": "PS1iXQ9fXaKF"
      },
      "source": [
        "ts = pd.Series(np.random.randn(6), index=dates)\n",
        "ts"
      ],
      "execution_count": null,
      "outputs": []
    },
    {
      "cell_type": "code",
      "metadata": {
        "id": "cHrvgxG2YImm"
      },
      "source": [
        "ts + ts[::2] # :: es un slicing con step \"n\", en este caso 2\n",
        "# En este caso toma las lineas 1, 3 y 5"
      ],
      "execution_count": null,
      "outputs": []
    },
    {
      "cell_type": "markdown",
      "metadata": {
        "id": "JfKZ1NL5XvNq"
      },
      "source": [
        "### Indexing, Selection, Subsetting\n",
        "\n",
        "Las series de tiempo se comportan como cualquier otro objeto de Pandas"
      ]
    },
    {
      "cell_type": "code",
      "metadata": {
        "id": "sO0SMXmhX6bC"
      },
      "source": [
        "stamp = ts.index[0]\n",
        "stamp"
      ],
      "execution_count": null,
      "outputs": []
    },
    {
      "cell_type": "code",
      "metadata": {
        "id": "HzDDzQqVYTrW"
      },
      "source": [
        "ts[stamp]"
      ],
      "execution_count": null,
      "outputs": []
    },
    {
      "cell_type": "markdown",
      "metadata": {
        "id": "Eq5bGHpaYbml"
      },
      "source": [
        "Para series de tiempo más largas, se puede pasar un año o solo un año y un mes para seleccionar fácilmente segmentos de datos"
      ]
    },
    {
      "cell_type": "code",
      "metadata": {
        "id": "mV9edEIyYeRK"
      },
      "source": [
        "l_ts = pd.Series(np.random.randn(1000),\n",
        "                 index=pd.date_range('1/1/2005', periods=1000))\n",
        "l_ts"
      ],
      "execution_count": null,
      "outputs": []
    },
    {
      "cell_type": "code",
      "metadata": {
        "id": "07jthV3NYnEA"
      },
      "source": [
        "l_ts['2005']"
      ],
      "execution_count": null,
      "outputs": []
    },
    {
      "cell_type": "code",
      "metadata": {
        "id": "56vcNhsFYr1o"
      },
      "source": [
        "l_ts['2005-04']"
      ],
      "execution_count": null,
      "outputs": []
    },
    {
      "cell_type": "code",
      "source": [
        "ts"
      ],
      "metadata": {
        "id": "beWPQJfPlkft"
      },
      "execution_count": null,
      "outputs": []
    },
    {
      "cell_type": "code",
      "metadata": {
        "id": "E3QDfGZDY2Qn"
      },
      "source": [
        "ts[datetime(2011, 1, 7):] # También podemos realizar slicing sobre series de tiempo"
      ],
      "execution_count": null,
      "outputs": []
    },
    {
      "cell_type": "markdown",
      "metadata": {
        "id": "fvkvSXOsZ0Tu"
      },
      "source": [
        "### Time Series con Indices duplicados\n",
        "En algunas aplicaciones, puede haber múltiples observaciones de datos que caen en una marca de tiempo particular. Aquí hay un ejemplo:"
      ]
    },
    {
      "cell_type": "code",
      "metadata": {
        "id": "JthDHOwxZ9Yd"
      },
      "source": [
        "dates = pd.DatetimeIndex(['1/1/2000', '1/2/2000', '1/2/2000',\n",
        "                          '1/2/2000', '1/3/2000'])"
      ],
      "execution_count": null,
      "outputs": []
    },
    {
      "cell_type": "code",
      "metadata": {
        "id": "rFyZZ8NXaAoR"
      },
      "source": [
        "dup_ts = pd.Series(np.arange(5), index=dates)\n",
        "dup_ts"
      ],
      "execution_count": null,
      "outputs": []
    },
    {
      "cell_type": "code",
      "metadata": {
        "id": "bePcPTdjaGFC"
      },
      "source": [
        "dup_ts.index.is_unique # Asi chequeamos sobre toda la serie si el indice tiene duplicados"
      ],
      "execution_count": null,
      "outputs": []
    },
    {
      "cell_type": "code",
      "metadata": {
        "id": "r0Zx823RaOzr"
      },
      "source": [
        "dup_ts['1/3/2000']"
      ],
      "execution_count": null,
      "outputs": []
    },
    {
      "cell_type": "code",
      "metadata": {
        "id": "f2_jTn-JaRLr"
      },
      "source": [
        "dup_ts['1/2/2000']"
      ],
      "execution_count": null,
      "outputs": []
    },
    {
      "cell_type": "markdown",
      "metadata": {
        "id": "N_ar6VL7aVxz"
      },
      "source": [
        "¿Qué podemos hacer con los índices duplicados? Dependerá del problema en particular, pero una solución posible es quedarse con el promedio con lo visto anteriormente de **groupby**.\n",
        "\n",
        "Supongamos que deseas agregar los datos que tienen marcas de tiempo no únicas. Una forma de hacerlo es usar groupby y pasar nivel = 0:"
      ]
    },
    {
      "cell_type": "code",
      "metadata": {
        "id": "BgkCrFp6aZLx"
      },
      "source": [
        "grouped = dup_ts.groupby(by=dup_ts.index) # Hacemos el agrupamiento sobre el índice de la serie\n",
        "grouped.mean()"
      ],
      "execution_count": null,
      "outputs": []
    },
    {
      "cell_type": "code",
      "source": [
        "# Otra forma de hacer lo mismo\n",
        "grouped = dup_ts.groupby(level = 0)\n",
        "grouped.mean()"
      ],
      "metadata": {
        "id": "HBpljaLfSvZU"
      },
      "execution_count": null,
      "outputs": []
    },
    {
      "cell_type": "code",
      "metadata": {
        "id": "w9Tn-0-YadTm"
      },
      "source": [
        "grouped.count()"
      ],
      "execution_count": null,
      "outputs": []
    },
    {
      "cell_type": "markdown",
      "metadata": {
        "id": "rraIdN98bDzp"
      },
      "source": [
        "\n",
        "\n",
        "---\n",
        "\n",
        "\n",
        "### Generando Date Ranges\n",
        "\n",
        "*pandas.date_range* es responsable de generar un DatetimeIndex con una longitud indicada de acuerdo con una frecuencia particular"
      ]
    },
    {
      "cell_type": "code",
      "metadata": {
        "id": "_78ZLoeDbPUv"
      },
      "source": [
        "index = pd.date_range('2012-04-01', '2012-06-01')\n",
        "index"
      ],
      "execution_count": null,
      "outputs": []
    },
    {
      "cell_type": "markdown",
      "metadata": {
        "id": "B0_5bMgwbZIm"
      },
      "source": [
        "Por defecto, **date_range** genera marcas de tiempo diarias.\n",
        "\n",
        "Si solo pasas una fecha de inicio o finalización, debe pasar varios períodos para generar:"
      ]
    },
    {
      "cell_type": "code",
      "metadata": {
        "id": "0eGtD-9cba4n"
      },
      "source": [
        "pd.date_range(start='2012-04-01', periods=20)"
      ],
      "execution_count": null,
      "outputs": []
    },
    {
      "cell_type": "code",
      "metadata": {
        "id": "NL5NqzcKbk5M"
      },
      "source": [
        "pd.date_range(end='2012-06-01', periods=20)"
      ],
      "execution_count": null,
      "outputs": []
    },
    {
      "cell_type": "markdown",
      "metadata": {
        "id": "X6rt6z-Wbuyp"
      },
      "source": [
        "Las fechas de inicio y finalización definen límites estrictos para el índice de fecha generado. Por ejemplo, si desea un índice de fechas que contenga el último día hábil de cada mes, debe pasar la frecuencia 'BM' y solo las fechas que caen o dentro del intervalo de fechas se incluirá:\n",
        "\n",
        "\n",
        "Alias\t| Offset type\t| Description\n",
        "------|-------------|------------\n",
        "D\t|Day\tCalendar daily\n",
        "B\t|BusinessDay\tBusiness daily\n",
        "H\t|Hour\tHourly\n",
        "T |or min\tMinute\tMinutely\n",
        "S\t|Second\tSecondly\n",
        "L |or ms\tMilli\tMillisecond (1/1,000 of 1 second)\n",
        "U\t|Micro\tMicrosecond (1/1,000,000 of 1 second)\n",
        "M\t|MonthEnd\tLast calendar day of month\n",
        "BM|BusinessMonthEnd\tLast business day (weekday) of month\n",
        "MS|MonthBegin\tFirst calendar day of month\n",
        "BMS\t|BusinessMonthBegin\tFirst weekday of month\n",
        "W-MON, W-TUE, ...| \tWeek\tWeekly on given day of week (MON, TUE, WED, THU, FRI, SAT, or SUN)\n",
        "WOM-1MON, WOM-2MON, ...|\tWeekOfMonth\tGenerate weekly dates in the first, second, third, or fourth week of the month (e.g., WOM-3FRI for the third Friday of each month)\n",
        "Q-JAN, Q-FEB, ...| \tQuarterEnd\tQuarterly dates anchored on last calendar day of each month, for year ending in indicated month (JAN, FEB, MAR, APR, MAY, JUN, JUL, AUG, SEP, OCT, NOV, or DEC)\n",
        "BQ-JAN, BQ-FEB, ...| \tBusinessQuarterEnd\tQuarterly dates anchored on last weekday day of each month, for year ending in indicated month\n",
        "QS-JAN, QS-FEB, ...\t| QuarterBegin\tQuarterly dates anchored on first calendar day of each month, for year ending in indicated month\n",
        "BQS-JAN, BQS-FEB, ...\t| BusinessQuarterBegin\tQuarterly dates anchored on first weekday day of each month, for year ending in indicated month\n",
        "A-JAN, A-FEB, ...\t| YearEnd\tAnnual dates anchored on last calendar day of given month (JAN, FEB, MAR, APR, MAY, JUN, JUL, AUG, SEP, OCT, NOV, or DEC)\n",
        "BA-JAN, BA-FEB, ... | \tBusinessYearEnd\tAnnual dates anchored on last weekday of given month\n",
        "AS-JAN, AS-FEB, ... | \tYearBegin\tAnnual dates anchored on first day of given month\n",
        "BAS-JAN, BAS-FEB, ... | \tBusinessYearBegin\tAnnual dates anchored on first weekday of given month\n",
        "\n"
      ]
    },
    {
      "cell_type": "markdown",
      "metadata": {
        "id": "jyxVSBw8ag_s"
      },
      "source": [
        "\n",
        "\n",
        "---\n",
        "\n",
        "\n",
        "## Rango de fechas, frecuencias y remuestreo (Resample)\n",
        "\n",
        "Las series temporales en Pandas, no deben necesariamente tener frecuencia fija y para muchas aplicaciones esto es suficiente. Sin embargo, a menudo es conveniente trabajar en relación con una frecuencia fija, como diaria, mensual o cada 15 minutos, incluso si eso significa introducir valores faltantes en una serie de tiempo.\n",
        "\n",
        "Afortunadamente, Pandas tiene un conjunto completo de frecuencias de serie de tiempo estándar y herramientas para volver a muestrear, inferir frecuencias y generar rangos de fechas de frecuencia fija.\n",
        "\n",
        "Por ejemplo, se puede convertir la serie de tiempo de muestra en una frecuencia diaria fija llamando a **resample** que colocará por defecto valor=0 en indice agregado."
      ]
    },
    {
      "cell_type": "code",
      "metadata": {
        "id": "E_Q52pITaxRN"
      },
      "source": [
        "ts"
      ],
      "execution_count": null,
      "outputs": []
    },
    {
      "cell_type": "code",
      "metadata": {
        "id": "mdHRFC7dayjY"
      },
      "source": [
        "resampler = ts.resample('D') # El parámetro D significa Día\n",
        "# La salida es un objeto \"Resampler\" que NO se puede imprimir sin más, es similar a lo que sucede con groupby()!\n",
        "# Podemos calcularle suma sobre cada valor para ver los nuevos valores resultantes del resampler:\n",
        "resampler.sum()\n",
        "#resampler"
      ],
      "execution_count": null,
      "outputs": []
    },
    {
      "cell_type": "markdown",
      "metadata": {
        "id": "DW1ZiNWsh88e"
      },
      "source": [
        "La agregación de datos de frecuencia más alta a frecuencia más baja se denomina **disminución de muestreo**, mientras que la conversión de frecuencia más baja a frecuencia más alta se denomina **muestreo superior**.\n",
        "\n",
        "Veamos unos ejemplos más complejos con resample:"
      ]
    },
    {
      "cell_type": "code",
      "metadata": {
        "id": "8_6ZbHc8iEQD"
      },
      "source": [
        "rng = pd.date_range('2000-01-01', periods=100, freq='D')\n",
        "ts = pd.Series(np.random.randn(len(rng)), index=rng)\n",
        "ts"
      ],
      "execution_count": null,
      "outputs": []
    },
    {
      "cell_type": "markdown",
      "source": [
        "Tenemos una Serie con frecuencia diaria y la resampleamos a mensual, quedandonos con el promedio de los valores de cada mes."
      ],
      "metadata": {
        "id": "NvqzgtunfE0S"
      }
    },
    {
      "cell_type": "code",
      "metadata": {
        "id": "9STpfG3DiKPF"
      },
      "source": [
        "ts.resample('M').mean()"
      ],
      "execution_count": null,
      "outputs": []
    },
    {
      "cell_type": "code",
      "metadata": {
        "id": "vaOULWqCiNEV"
      },
      "source": [
        "ts.resample('M', kind='period').mean() # Cambiamos la forma de visualizar"
      ],
      "execution_count": null,
      "outputs": []
    },
    {
      "cell_type": "markdown",
      "source": [
        "Ahora generaremos un dataset con frecuencias de tiempo"
      ],
      "metadata": {
        "id": "puQlf6mffcI1"
      }
    },
    {
      "cell_type": "code",
      "metadata": {
        "id": "klIS1xnKiVZ3"
      },
      "source": [
        "rng = pd.date_range('2000-01-01', periods=12, freq='T')\n",
        "ts = pd.Series(np.arange(12), index=rng)\n",
        "ts"
      ],
      "execution_count": null,
      "outputs": []
    },
    {
      "cell_type": "code",
      "metadata": {
        "id": "uM2t3LCDij2F"
      },
      "source": [
        "ts.resample('5min', closed='left').sum()"
      ],
      "execution_count": null,
      "outputs": []
    },
    {
      "cell_type": "markdown",
      "metadata": {
        "id": "7Qv5E8fgcr1T"
      },
      "source": [
        "### Frecuencias y Date Offsets\n",
        "\n",
        "Las frecuencias en  Pandas se componen de una frecuencia base y un multiplicador.\n",
        "\n",
        "Las frecuencias base se refieren típicamente por un alias de cadena, como 'M' para mensual o 'H' para cada hora. Para cada frecuencia base, hay un objeto definido generalmente denominado desplazamiento de fecha."
      ]
    },
    {
      "cell_type": "code",
      "metadata": {
        "id": "ryfRM5IGc2LP"
      },
      "source": [
        "from pandas.tseries.offsets import Hour, Minute\n",
        "hour = Hour()\n"
      ],
      "execution_count": null,
      "outputs": []
    },
    {
      "cell_type": "code",
      "metadata": {
        "id": "ZK_jGbY6c7A1"
      },
      "source": [
        "four_hours = Hour(4)\n",
        "four_hours"
      ],
      "execution_count": null,
      "outputs": []
    },
    {
      "cell_type": "code",
      "metadata": {
        "id": "NsGSPf_CdLlx"
      },
      "source": [
        "Hour(2) + Minute(30)"
      ],
      "execution_count": null,
      "outputs": []
    },
    {
      "cell_type": "code",
      "metadata": {
        "id": "9QAxPB_7eQSD"
      },
      "source": [
        "from pandas.tseries.offsets import Day, MonthEnd\n",
        "now = datetime(2022, 5, 23)"
      ],
      "execution_count": null,
      "outputs": []
    },
    {
      "cell_type": "code",
      "metadata": {
        "id": "Fpr_AYnbeSW8"
      },
      "source": [
        "now + 3 * Day()"
      ],
      "execution_count": null,
      "outputs": []
    },
    {
      "cell_type": "markdown",
      "metadata": {
        "id": "r6gChurMdCIW"
      },
      "source": [
        "En la mayoría de las aplicaciones, nunca necesitarías crear explícitamente uno de estos objetos, en su lugar, utilizas un alias de cadena como 'H' o '4H' buscandolo en la tabla de arriba."
      ]
    },
    {
      "cell_type": "code",
      "metadata": {
        "id": "zCar5cEjdIM6"
      },
      "source": [
        "pd.date_range('2000-01-01', '2000-01-03 23:59', freq='4h')"
      ],
      "execution_count": null,
      "outputs": []
    },
    {
      "cell_type": "markdown",
      "metadata": {
        "id": "xKdc_69VdO6w"
      },
      "source": [
        "### Semana del mes\n",
        "\n",
        "Una clase de frecuencia útil es \"semana del mes\", comenzando con WOM. Esto le permite obtener fechas como el cuarto lunes de cada mes:"
      ]
    },
    {
      "cell_type": "code",
      "metadata": {
        "id": "fq4z9fnAdc9i"
      },
      "source": [
        "rng = pd.date_range('2022-05-01', '2022-08-01', freq='WOM-4MON')\n",
        "list(rng)"
      ],
      "execution_count": null,
      "outputs": []
    },
    {
      "cell_type": "markdown",
      "metadata": {
        "id": "97gnXsMyd0c0"
      },
      "source": [
        "### Desplazamiento de datos\n",
        "\"Desplazamiento\" se refiere a mover datos hacia atrás y hacia adelante a través del tiempo.\n",
        "\n",
        "Tanto Series como DataFrame tienen un método para realizar este tipo de cambios, sin modificar el índice:"
      ]
    },
    {
      "cell_type": "code",
      "metadata": {
        "id": "aFchMyOGd49G"
      },
      "source": [
        "ts = pd.Series(np.random.randn(4),\n",
        "               index=pd.date_range('1/1/2000', periods=4, freq='M'))\n",
        "ts"
      ],
      "execution_count": null,
      "outputs": []
    },
    {
      "cell_type": "code",
      "metadata": {
        "id": "WSWWNV2Ud9Qw"
      },
      "source": [
        "ts.shift(2)"
      ],
      "execution_count": null,
      "outputs": []
    },
    {
      "cell_type": "code",
      "metadata": {
        "id": "RyvzVq4KeC9V"
      },
      "source": [
        "ts.shift(-2)"
      ],
      "execution_count": null,
      "outputs": []
    },
    {
      "cell_type": "markdown",
      "metadata": {
        "id": "xMy-xfR7ecVr"
      },
      "source": [
        "\n",
        "\n",
        "---\n",
        "\n",
        "\n",
        "## Manejo de zona horaria\n",
        "Trabajar con zonas horarias generalmente se considera una de las partes más desagradables de la manipulación de series temporales.\n",
        "\n",
        "Como resultado, muchos usuarios de series de tiempo eligen trabajar con series de tiempo en hora universal coordinada o UTC. Las zonas horarias se expresan como compensaciones de UTC; Por ejemplo, Nueva York está cuatro horas menos que UTC durante el horario de verano y cinco horas menos durante el resto del año.\n",
        "\n",
        "En Python, la información de zona horaria proviene de la biblioteca **pytz**, que expone la base de datos Olson, una compilación de información de zona horaria mundial. Esto es especialmente importante para los datos históricos porque las fechas de transición del horario de verano (DST) (e incluso las compensaciones UTC) se han cambiado varias veces según los gobiernos locales.\n",
        "\n",
        "Observación: El estándar UTC es un estándar de 1970 que reemplazó al estandar previo \"GMT\", pero ambos dan la misma hora.\n"
      ]
    },
    {
      "cell_type": "code",
      "metadata": {
        "id": "uCtdIoIyexdW"
      },
      "source": [
        "import pytz\n",
        "#pytz.common_timezones[-5:]\n",
        "#Si queremos ver todas las tz disponibles:\n",
        "for tz in pytz.all_timezones:\n",
        "  print(tz)"
      ],
      "execution_count": null,
      "outputs": []
    },
    {
      "cell_type": "code",
      "metadata": {
        "id": "JVMUkrqee20f"
      },
      "source": [
        "tz = pytz.timezone('America/Argentina/Buenos_Aires')\n",
        "print(tz)"
      ],
      "execution_count": null,
      "outputs": []
    },
    {
      "cell_type": "code",
      "metadata": {
        "id": "3dZTFS8BfD3a"
      },
      "source": [
        "rng = pd.date_range('3/9/2021 9:30', periods=6, freq='D')\n",
        "ts = pd.Series(np.random.randn(len(rng)), index=rng)\n",
        "ts"
      ],
      "execution_count": null,
      "outputs": []
    },
    {
      "cell_type": "code",
      "metadata": {
        "id": "yB0-tmrPfOno"
      },
      "source": [
        "print(ts.index) # Si miramos el indice, vemos que por defecto lo crea sin TZ"
      ],
      "execution_count": null,
      "outputs": []
    },
    {
      "cell_type": "code",
      "metadata": {
        "id": "YdcZYF46fTie"
      },
      "source": [
        "pd.date_range('3/9/2021 9:30', periods=10, freq='D', tz='UTC') # Podemos agregar TZ como parametro"
      ],
      "execution_count": null,
      "outputs": []
    },
    {
      "cell_type": "code",
      "metadata": {
        "id": "r8U8c__IfbOu"
      },
      "source": [
        "ts_utc = ts.tz_localize('UTC')\n",
        "ts_utc # Ahora vemos que se agregó +00:00 (es decir el offset de UTC)"
      ],
      "execution_count": null,
      "outputs": []
    },
    {
      "cell_type": "markdown",
      "metadata": {
        "id": "rY7Lcxg2fn0_"
      },
      "source": [
        "Una vez que una serie de tiempo se ha localizado en una zona horaria particular, se puede convertir a otra zona horaria con *tz_convert*"
      ]
    },
    {
      "cell_type": "code",
      "metadata": {
        "id": "gF-5DqbjfqPe"
      },
      "source": [
        "ts_utc.tz_convert('America/Argentina/Buenos_Aires') # Ahora se modificó el índice por UTC - 3 (Hora de Buenos Aires)"
      ],
      "execution_count": null,
      "outputs": []
    },
    {
      "cell_type": "markdown",
      "metadata": {
        "id": "xwoRltCHf3Lc"
      },
      "source": [
        "### Operaciones entre diferentes zonas horarias\n",
        "Si se combinan dos series de tiempo con diferentes zonas horarias, el resultado será normalizado en UTC.\n",
        "\n",
        "Esto es transparente para el usuario y no requiere hacer conversiones."
      ]
    },
    {
      "cell_type": "code",
      "metadata": {
        "id": "fzGsn35Vf74m"
      },
      "source": [
        "rng = pd.date_range('3/7/2012 9:30', periods=10, freq='B') #B es Business Daily\n",
        "ts = pd.Series(np.random.randn(len(rng)), index=rng)\n",
        "ts"
      ],
      "execution_count": null,
      "outputs": []
    },
    {
      "cell_type": "markdown",
      "source": [
        "A la serie no le asignamos UTC ni ningún otro Timezone, vamos a darle alguno:"
      ],
      "metadata": {
        "id": "SadCD_Q0Yd2v"
      }
    },
    {
      "cell_type": "code",
      "metadata": {
        "id": "tvCrsz3tgLKG"
      },
      "source": [
        "ts1 = ts.tz_localize('Europe/London') # A un conjunto de datos los situaremos en London\n",
        "ts2 = ts1[2:].tz_convert('Europe/Moscow') # Y ahora a otro conjunto lo cambiaremos a Moscow"
      ],
      "execution_count": null,
      "outputs": []
    },
    {
      "cell_type": "code",
      "metadata": {
        "id": "osxq8LbhgZYS"
      },
      "source": [
        "ts1.index"
      ],
      "execution_count": null,
      "outputs": []
    },
    {
      "cell_type": "code",
      "metadata": {
        "id": "DXnx-0TtgaqF"
      },
      "source": [
        "ts2.index"
      ],
      "execution_count": null,
      "outputs": []
    },
    {
      "cell_type": "code",
      "metadata": {
        "id": "DsKQ0UR8gPUO"
      },
      "source": [
        "result = ts1 + ts2 #Ahora sumamos los valores de ambas series\n",
        "# ¿En qué timezone estará la serie resultante?\n",
        "result.index"
      ],
      "execution_count": null,
      "outputs": []
    },
    {
      "cell_type": "code",
      "source": [
        "# El resultado es:\n",
        "result"
      ],
      "metadata": {
        "id": "eiD28G0iYQTo"
      },
      "execution_count": null,
      "outputs": []
    },
    {
      "cell_type": "markdown",
      "metadata": {
        "id": "jKD07GILgm0P"
      },
      "source": [
        "## Periodos y aritmética de periodos\n",
        "\n",
        "Los períodos representan períodos de tiempo, como días, meses, trimestres o años. La clase Period representa este tipo de datos, que requiere una cadena o un entero y una frecuencia.\n",
        "\n",
        "En este caso, el objeto Período representa el intervalo de tiempo completo desde el 1 de enero de 2007 hasta el 31 de diciembre de 2007, inclusive.\n",
        "Convenientemente, sumar y restar enteros de períodos tiene el efecto de cambiar según su frecuencia definida."
      ]
    },
    {
      "cell_type": "code",
      "metadata": {
        "id": "us8hItfKgpEN"
      },
      "source": [
        "p = pd.Period(2007, freq='A-DEC')\n",
        "p"
      ],
      "execution_count": null,
      "outputs": []
    },
    {
      "cell_type": "code",
      "metadata": {
        "id": "xTrMEqRIg5ma"
      },
      "source": [
        "p + 5"
      ],
      "execution_count": null,
      "outputs": []
    },
    {
      "cell_type": "markdown",
      "metadata": {
        "id": "I91FVNTOhG3G"
      },
      "source": [
        "Puedes pensar en el Período ('2007', 'A-DEC') como una especie de cursor que apunta a un lapso de tiempo, subdividido por períodos mensuales. Para un año fiscal que termina en un mes que no sea diciembre, los subperíodos mensuales correspondientes son diferentes:"
      ]
    },
    {
      "cell_type": "code",
      "metadata": {
        "id": "-xAY4xcohL_q"
      },
      "source": [
        "p = pd.Period('2007', freq='A-JUN')\n",
        "p"
      ],
      "execution_count": null,
      "outputs": []
    },
    {
      "cell_type": "code",
      "metadata": {
        "id": "aOSnFkrGhPyw"
      },
      "source": [
        "p.asfreq('M', 'start')"
      ],
      "execution_count": null,
      "outputs": []
    },
    {
      "cell_type": "code",
      "metadata": {
        "id": "smi_wADXhUAE"
      },
      "source": [
        "p.asfreq('M', 'end')"
      ],
      "execution_count": null,
      "outputs": []
    },
    {
      "cell_type": "markdown",
      "metadata": {
        "id": "x8HmzQszhalx"
      },
      "source": [
        "### Frecuencias trimestrales\n",
        "Los datos trimestrales son estándar en contabilidad, finanzas y otros campos. Se informan muchos datos trimestrales en relación con el final del año fiscal, generalmente el último calendario o día hábil de uno de los 12 meses del año.\n",
        "\n",
        "\n",
        "Por lo tanto, el período 2021T4 tiene un significado diferente dependiendo del final del año fiscal.\n",
        "\n",
        "Pandas admite las 12 frecuencias trimestrales posibles como por ejemplo Q-JAN, donde Q-JAN significa \"Quarter end en enero\":"
      ]
    },
    {
      "cell_type": "code",
      "metadata": {
        "id": "NpRw11Behfnc"
      },
      "source": [
        "p = pd.Period('2021T1', freq='Q-JAN')\n",
        "p\n",
        "# El 4° TRIMESTRE, finaliza en enero del año siguiente.\n",
        "# 1° T: 02/2021 hasta 04/2021\n",
        "# 2° T: 04/2021 hasta 07/2021\n",
        "# 3° T: 07/2021 hasta 10/2021\n",
        "# 4° T: 10/2021 hasta 01/2022"
      ],
      "execution_count": null,
      "outputs": []
    },
    {
      "cell_type": "code",
      "metadata": {
        "id": "HKxKpVoShjGL"
      },
      "source": [
        "p.asfreq('M', 'start')"
      ],
      "execution_count": null,
      "outputs": []
    },
    {
      "cell_type": "code",
      "metadata": {
        "id": "rD0wW9ldhk1o"
      },
      "source": [
        "p.asfreq('M', 'end')"
      ],
      "execution_count": null,
      "outputs": []
    }
  ]
}